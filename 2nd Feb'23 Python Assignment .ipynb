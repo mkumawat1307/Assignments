{
 "cells": [
  {
   "cell_type": "markdown",
   "id": "3846b252",
   "metadata": {},
   "source": [
    "## Q1. Explain with an example each when to use a for loop and a while loop.\n"
   ]
  },
  {
   "cell_type": "code",
   "execution_count": 1,
   "id": "84d44be3",
   "metadata": {},
   "outputs": [
    {
     "name": "stdout",
     "output_type": "stream",
     "text": [
      "Input list elements:\n",
      "10\n",
      "20\n",
      "30\n",
      "40\n",
      "50\n"
     ]
    }
   ],
   "source": [
    "\"\"\"\n",
    "answer = The major difference between for loop and the while loop is that for loop is used when the number of iterations is      \n",
    "          known, whereas execution is done in the while loop until the statement in the program is proved wrong\n",
    "\"\"\"\n",
    "# input list\n",
    "inputList = [10, 20, 30, 40, 50]\n",
    "print(\"Input list elements:\")\n",
    "# traversing through all elements of the list using for loop\n",
    "for element in inputList:\n",
    "   # printing each element of the list\n",
    "   print(element)"
   ]
  },
  {
   "cell_type": "code",
   "execution_count": 2,
   "id": "b405002f",
   "metadata": {},
   "outputs": [
    {
     "name": "stdout",
     "output_type": "stream",
     "text": [
      "1\n",
      "2\n",
      "3\n",
      "4\n",
      "5\n",
      "6\n",
      "7\n",
      "8\n",
      "9\n"
     ]
    }
   ],
   "source": [
    "# Initializing a dummy variable with 1\n",
    "i = 1\n",
    "# Iterate until the given condition is true\n",
    "while i < 10:\n",
    "   # printing the current value of the above variable\n",
    "   print(i)\n",
    "   # incrementing the value of i value by 1\n",
    "   i += 1 "
   ]
  },
  {
   "cell_type": "markdown",
   "id": "874f5a15",
   "metadata": {},
   "source": [
    "## Q2. Write a python program to print the sum and product of the first 10 natural numbers using for and while loop."
   ]
  },
  {
   "cell_type": "code",
   "execution_count": 3,
   "id": "1092e5ba",
   "metadata": {},
   "outputs": [
    {
     "name": "stdout",
     "output_type": "stream",
     "text": [
      "The sum is 55\n"
     ]
    }
   ],
   "source": [
    "# # Sum of the first 10 natural numbers using while loop\n",
    "num = 10\n",
    "sum = 0\n",
    "# use while loop to iterate until zero\n",
    "while(num > 0):\n",
    "   sum += num\n",
    "   num -= 1\n",
    "print(\"The sum is\", sum)"
   ]
  },
  {
   "cell_type": "code",
   "execution_count": 4,
   "id": "daddba77",
   "metadata": {},
   "outputs": [
    {
     "name": "stdout",
     "output_type": "stream",
     "text": [
      "The sum is 55\n"
     ]
    }
   ],
   "source": [
    "# Sum of the first 10 natural numbers using for loop\n",
    "sum = 0\n",
    "for i in range(11):\n",
    "   sum += i\n",
    "print(\"The sum is\", sum)"
   ]
  },
  {
   "cell_type": "markdown",
   "id": "49e0deca",
   "metadata": {},
   "source": [
    "## Q3. Create a python program to compute the electricity bill for a household. The per-unit charges in rupees are as follows: For the first 100 units, the user will be charged Rs. 4.5 per unit, for the next 100 units, the user will be charged Rs. 6 per unit, and for the next 100 units, the user will be charged Rs. 10 per unit, After 300 units and above the user will be charged Rs. 20 per unit. You are required to take the units of electricity consumed in a month from the user as input. Your program must pass this test case: when the unit of electricity consumed by the user in a month is 310, the total electricity bill should be 2250."
   ]
  },
  {
   "cell_type": "code",
   "execution_count": 6,
   "id": "dad51dd2",
   "metadata": {},
   "outputs": [
    {
     "name": "stdout",
     "output_type": "stream",
     "text": [
      "Enter the units consumed: 320\n",
      "Total electricity bill: Rs. 2450.0\n"
     ]
    }
   ],
   "source": [
    "# Input the units consumed\n",
    "units = int(input(\"Enter the units consumed: \"))\n",
    "\n",
    "# Calculate the bill based on the per-unit charges\n",
    "if units <= 100:\n",
    "    bill = units * 4.5\n",
    "elif units <= 200:\n",
    "    bill = 100 * 4.5 + (units - 100) * 6\n",
    "elif units <= 300:\n",
    "    bill = 100 * 4.5 + 100 * 6 + (units - 200) * 10\n",
    "else:\n",
    "    bill = 100 * 4.5 + 100 * 6 + 100 * 10 + (units - 300) * 20\n",
    "\n",
    "# Print the total bill\n",
    "print(\"Total electricity bill: Rs.\", bill)"
   ]
  },
  {
   "cell_type": "markdown",
   "id": "2c567dc8",
   "metadata": {},
   "source": [
    "## Q4. Create a list of numbers from 1 to 100. Use for loop and while loop to calculate the cube of each number and if the cube of that number is divisible by 4 or 5 then append that number in a list and print that list."
   ]
  },
  {
   "cell_type": "code",
   "execution_count": 7,
   "id": "33eb35fb",
   "metadata": {},
   "outputs": [
    {
     "name": "stdout",
     "output_type": "stream",
     "text": [
      "Using for loop:\n",
      "[2, 4, 5, 6, 8, 10, 12, 14, 15, 16, 18, 20, 22, 24, 25, 26, 28, 30, 32, 34, 35, 36, 38, 40, 42, 44, 45, 46, 48, 50, 52, 54, 55, 56, 58, 60, 62, 64, 65, 66, 68, 70, 72, 74, 75, 76, 78, 80, 82, 84, 85, 86, 88, 90, 92, 94, 95, 96, 98, 100]\n",
      "\n",
      "Using while loop:\n",
      "[2, 4, 5, 6, 8, 10, 12, 14, 15, 16, 18, 20, 22, 24, 25, 26, 28, 30, 32, 34, 35, 36, 38, 40, 42, 44, 45, 46, 48, 50, 52, 54, 55, 56, 58, 60, 62, 64, 65, 66, 68, 70, 72, 74, 75, 76, 78, 80, 82, 84, 85, 86, 88, 90, 92, 94, 95, 96, 98, 100]\n"
     ]
    }
   ],
   "source": [
    "# Using for loop\n",
    "cubes = []\n",
    "for num in range(1, 101):\n",
    "    cube = num ** 3\n",
    "    if cube % 4 == 0 or cube % 5 == 0:\n",
    "        cubes.append(num)\n",
    "\n",
    "print(\"Using for loop:\")\n",
    "print(cubes)\n",
    "\n",
    "# Using while loop\n",
    "cubes = []\n",
    "num = 1\n",
    "while num <= 100:\n",
    "    cube = num ** 3\n",
    "    if cube % 4 == 0 or cube % 5 == 0:\n",
    "        cubes.append(num)\n",
    "    num += 1\n",
    "print()\n",
    "print(\"Using while loop:\")\n",
    "print(cubes)"
   ]
  },
  {
   "cell_type": "markdown",
   "id": "18dee66b",
   "metadata": {},
   "source": [
    "## Q5. Write a program to filter count vowels in the below-given string.\n",
    "## `string` = \"I want to become a data scientist\""
   ]
  },
  {
   "cell_type": "code",
   "execution_count": 8,
   "id": "5d07ff38",
   "metadata": {},
   "outputs": [
    {
     "name": "stdout",
     "output_type": "stream",
     "text": [
      "The number of vowels in the string is: 12\n"
     ]
    }
   ],
   "source": [
    "string = \"I want to become a data scientist\"\n",
    "\n",
    "# Define a list of vowels\n",
    "vowels = ['a', 'e', 'i', 'o', 'u']\n",
    "\n",
    "# Initialize a counter variable\n",
    "count = 0\n",
    "\n",
    "# Loop through each character in the string\n",
    "for char in string:\n",
    "    # If the character is a vowel, increment the counter\n",
    "    if char.lower() in vowels:\n",
    "        count += 1\n",
    "\n",
    "# Print the result\n",
    "print(\"The number of vowels in the string is:\", count)"
   ]
  },
  {
   "cell_type": "code",
   "execution_count": null,
   "id": "a978f9f2",
   "metadata": {},
   "outputs": [],
   "source": []
  }
 ],
 "metadata": {
  "kernelspec": {
   "display_name": "Python 3 (ipykernel)",
   "language": "python",
   "name": "python3"
  },
  "language_info": {
   "codemirror_mode": {
    "name": "ipython",
    "version": 3
   },
   "file_extension": ".py",
   "mimetype": "text/x-python",
   "name": "python",
   "nbconvert_exporter": "python",
   "pygments_lexer": "ipython3",
   "version": "3.10.9"
  }
 },
 "nbformat": 4,
 "nbformat_minor": 5
}
