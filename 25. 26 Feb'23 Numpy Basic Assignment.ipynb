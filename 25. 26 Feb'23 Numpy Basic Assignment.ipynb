{
 "cells": [
  {
   "cell_type": "markdown",
   "id": "d5ea581c-5be2-4e85-8894-d8c17a4fd3bc",
   "metadata": {},
   "source": [
    "***Consider the below code to answer further questions:***<br>\n",
    "import numpy as np<br>\n",
    "list_ = [ ‘1’ , ’2’ , ‘3’ , ‘4’ , ‘5’ ]<br>\n",
    "array_list = np.array(object = list_)<br>"
   ]
  },
  {
   "cell_type": "markdown",
   "id": "74dfbec1-c6a9-4ccf-a023-d307a2d6139a",
   "metadata": {},
   "source": [
    "## Q1. Is there any difference in the data type of variables list_ and array_list? If there is then write a code to print the data types of both the variables."
   ]
  },
  {
   "cell_type": "code",
   "execution_count": 3,
   "id": "4a37cfe5-0286-44e2-8189-117c21672405",
   "metadata": {},
   "outputs": [
    {
     "data": {
      "text/plain": [
       "array(['1', '2', '3', '4', '5'], dtype='<U1')"
      ]
     },
     "execution_count": 3,
     "metadata": {},
     "output_type": "execute_result"
    }
   ],
   "source": [
    "import numpy as np\n",
    "list_ = [ '1' , '2' , '3' , '4', '5' ]\n",
    "array_list = np.array(object = list_)\n",
    "array_list"
   ]
  },
  {
   "cell_type": "code",
   "execution_count": 5,
   "id": "79839534-47ab-47ca-878a-9294fcc9dc1d",
   "metadata": {},
   "outputs": [
    {
     "name": "stdout",
     "output_type": "stream",
     "text": [
      "Data type of list_:  <class 'list'>\n",
      "Data type of array_list:  <U1\n"
     ]
    }
   ],
   "source": [
    "print(\"Data type of list_: \", type(list_))\n",
    "print(\"Data type of array_list: \", array_list.dtype)"
   ]
  },
  {
   "cell_type": "markdown",
   "id": "51c03b0c-e10e-438c-ab27-f92593b631eb",
   "metadata": {},
   "source": [
    "## Q2. Write a code to print the data type of each and every element of both the variables list_ and arra_list."
   ]
  },
  {
   "cell_type": "code",
   "execution_count": 6,
   "id": "d970e53a-2d82-40c6-9588-047081dc6e21",
   "metadata": {},
   "outputs": [
    {
     "name": "stdout",
     "output_type": "stream",
     "text": [
      "Data type of elements in list_:\n",
      "<class 'str'>\n",
      "<class 'str'>\n",
      "<class 'str'>\n",
      "<class 'str'>\n",
      "<class 'str'>\n",
      "\n",
      "Data type of elements in array_list:\n",
      "<class 'numpy.str_'>\n",
      "<class 'numpy.str_'>\n",
      "<class 'numpy.str_'>\n",
      "<class 'numpy.str_'>\n",
      "<class 'numpy.str_'>\n"
     ]
    }
   ],
   "source": [
    "print(\"Data type of elements in list_:\")\n",
    "for element in list_:\n",
    "    print(type(element))\n",
    "\n",
    "print(\"\\nData type of elements in array_list:\")\n",
    "for element in array_list:\n",
    "    print(type(element))"
   ]
  },
  {
   "cell_type": "markdown",
   "id": "f854a827-57d9-44e6-8159-d36b830f7996",
   "metadata": {},
   "source": [
    "## Q3. Considering the following changes in the variable, array_list:\n",
    "array_list = np.array(object = list_, dtype = int)<br>\n",
    "## Will there be any difference in the data type of the elements present in both the variables, list_ and arra_list? If so then print the data types of each and every element present in both the variables, list_ and arra_list."
   ]
  },
  {
   "cell_type": "code",
   "execution_count": 8,
   "id": "8677b420-21b0-4346-82e4-71235419343e",
   "metadata": {},
   "outputs": [
    {
     "name": "stdout",
     "output_type": "stream",
     "text": [
      "Data type of elements in list_:\n",
      "<class 'str'>\n",
      "<class 'str'>\n",
      "<class 'str'>\n",
      "<class 'str'>\n",
      "<class 'str'>\n",
      "\n",
      "Data type of elements in array_list:\n",
      "<class 'numpy.int64'>\n",
      "<class 'numpy.int64'>\n",
      "<class 'numpy.int64'>\n",
      "<class 'numpy.int64'>\n",
      "<class 'numpy.int64'>\n"
     ]
    }
   ],
   "source": [
    "import numpy as np\n",
    "list_ = [ '1' , '2' , '3' , '4', '5' ]\n",
    "array_list = np.array(object = list_, dtype = int)\n",
    "print(\"Data type of elements in list_:\")\n",
    "for element in list_:\n",
    "    print(type(element))\n",
    "\n",
    "print(\"\\nData type of elements in array_list:\")\n",
    "for element in array_list:\n",
    "    print(type(element))"
   ]
  },
  {
   "cell_type": "markdown",
   "id": "56cdd493-cec6-4f54-b518-b47aa7ec002a",
   "metadata": {},
   "source": [
    "***Consider the below code to answer further questions:***<br>\n",
    "import numpy as np<br>\n",
    "num_list = [ [ 1 , 2 , 3 ] , [ 4 , 5 , 6 ] ]<br>\n",
    "num_array = np.array(object = num_list)<br>\n",
    "\n",
    "## Q4. Write a code to find the following characteristics of variable, num_array:\n",
    "1. shape\n",
    "2. size"
   ]
  },
  {
   "cell_type": "code",
   "execution_count": 10,
   "id": "2c644281-7d23-436a-b49d-57cabd59350d",
   "metadata": {},
   "outputs": [
    {
     "data": {
      "text/plain": [
       "array([[1, 2, 3],\n",
       "       [4, 5, 6]])"
      ]
     },
     "execution_count": 10,
     "metadata": {},
     "output_type": "execute_result"
    }
   ],
   "source": [
    "import numpy as np\n",
    "num_list = [ [ 1 , 2 , 3 ] , [ 4 , 5 , 6 ] ]\n",
    "num_array = np.array(object = num_list)\n",
    "num_array"
   ]
  },
  {
   "cell_type": "code",
   "execution_count": 19,
   "id": "72f9a672-7b4d-4e70-ad73-a6143bb20b0c",
   "metadata": {},
   "outputs": [],
   "source": [
    "size = len(num_list)\n",
    "shape = (len(num_list), len(num_list[0]))"
   ]
  },
  {
   "cell_type": "code",
   "execution_count": 20,
   "id": "9ebd3c00-2857-44ff-be92-fceb695d0725",
   "metadata": {},
   "outputs": [
    {
     "data": {
      "text/plain": [
       "(2, (2, 3))"
      ]
     },
     "execution_count": 20,
     "metadata": {},
     "output_type": "execute_result"
    }
   ],
   "source": [
    "size, shape"
   ]
  },
  {
   "cell_type": "code",
   "execution_count": 13,
   "id": "6268e94e-7734-459f-a94e-23dc111f3b52",
   "metadata": {},
   "outputs": [
    {
     "data": {
      "text/plain": [
       "((2, 3), 6)"
      ]
     },
     "execution_count": 13,
     "metadata": {},
     "output_type": "execute_result"
    }
   ],
   "source": [
    "num_array.shape, num_array.size"
   ]
  },
  {
   "cell_type": "markdown",
   "id": "6c542449-cae4-4a20-9256-c58bd87ca60b",
   "metadata": {},
   "source": [
    "## Q5. Write a code to create numpy array of 3*3 matrix containing zeros only, using a numpy array creation function.\n",
    "[Hint: The size of the array will be 9 and the shape will be (3,3).]"
   ]
  },
  {
   "cell_type": "code",
   "execution_count": 21,
   "id": "0bf2b83e-bbc9-455c-9093-7553139e3cee",
   "metadata": {},
   "outputs": [
    {
     "data": {
      "text/plain": [
       "array([[0., 0., 0.],\n",
       "       [0., 0., 0.],\n",
       "       [0., 0., 0.]])"
      ]
     },
     "execution_count": 21,
     "metadata": {},
     "output_type": "execute_result"
    }
   ],
   "source": [
    "zeros_array = np.zeros((3, 3))\n",
    "zeros_array"
   ]
  },
  {
   "cell_type": "markdown",
   "id": "a766dead-a9c0-45dc-8713-83d1f9253d5c",
   "metadata": {},
   "source": [
    "## Q6. Create an identity matrix of shape (5,5) using numpy functions?\n",
    "[Hint: An identity matrix is a matrix containing 1 diagonally and other elements will be 0.]"
   ]
  },
  {
   "cell_type": "code",
   "execution_count": 22,
   "id": "3b90df00-ea65-469e-b25a-d1ac5ad9ec06",
   "metadata": {},
   "outputs": [
    {
     "data": {
      "text/plain": [
       "array([[1., 0., 0., 0., 0.],\n",
       "       [0., 1., 0., 0., 0.],\n",
       "       [0., 0., 1., 0., 0.],\n",
       "       [0., 0., 0., 1., 0.],\n",
       "       [0., 0., 0., 0., 1.]])"
      ]
     },
     "execution_count": 22,
     "metadata": {},
     "output_type": "execute_result"
    }
   ],
   "source": [
    "identity_matrix = np.eye(5)\n",
    "identity_matrix"
   ]
  }
 ],
 "metadata": {
  "kernelspec": {
   "display_name": "Python 3 (ipykernel)",
   "language": "python",
   "name": "python3"
  },
  "language_info": {
   "codemirror_mode": {
    "name": "ipython",
    "version": 3
   },
   "file_extension": ".py",
   "mimetype": "text/x-python",
   "name": "python",
   "nbconvert_exporter": "python",
   "pygments_lexer": "ipython3",
   "version": "3.10.8"
  }
 },
 "nbformat": 4,
 "nbformat_minor": 5
}
