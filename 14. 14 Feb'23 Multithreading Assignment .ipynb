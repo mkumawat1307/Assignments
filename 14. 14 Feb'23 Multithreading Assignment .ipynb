{
 "cells": [
  {
   "cell_type": "markdown",
   "id": "8f7b0d99",
   "metadata": {},
   "source": [
    "## Q1. What is multithreading in python? Why is it used? Name the module used to handle threads in python"
   ]
  },
  {
   "cell_type": "markdown",
   "id": "f8a439d7",
   "metadata": {},
   "source": [
    "`Answer`\n",
    "\n",
    "`Threading Modules` The threading module is a high-level implementation of multithreading used to deploy an application in Python. To use multithreading, we need to import the threading module in Python Program. A start() method is used to initiate the activity of a thread.\n",
    "\n",
    "It is a very useful technique for time-saving and improving the performance of an application. Multithreading allows the programmer to divide application tasks into sub-tasks and simultaneously run them in a program. It allows threads to communicate and share resources such as files, data, and memory to the same processor. Furthermore, it increases the user's responsiveness to continue running a program even if a part of the application is the length or blocked.\n",
    "\n",
    "1. `start()`\tA start() method is used to initiate the activity of a thread. And it calls only once for each thread so that the execution of the thread can begin.\n",
    "2. `run()`\tA run() method is used to define a thread's activity and can be overridden by a class that extends the threads class.\n",
    "3. `join()`\tA join() method is used to block the execution of another code until the thread terminates."
   ]
  },
  {
   "cell_type": "markdown",
   "id": "a158b912",
   "metadata": {},
   "source": [
    "## Q2. Why threading module used? Write the use of the following functions\n",
    "1. activeCount()\n",
    "2. currentThread()\n",
    "3. enumerate()"
   ]
  },
  {
   "cell_type": "markdown",
   "id": "1da3ce07",
   "metadata": {},
   "source": [
    "`Answer`\n",
    "\n",
    "Python threading allows you to have different parts of your program run concurrently and can simplify your design.\n",
    "\n",
    "1. `activeCount()` the method threading.active_co unt() from the threading module is used to count the currently active or running threads. This method returns the total currently active thread count\n",
    "\n",
    "2. `currentThread()` It is used to return the current Thread object, which corresponds to the caller's thread of control. The return type of this method is a Thread class object, it returns the current Thread object active at the moment.\n",
    "\n",
    "3. `enumerate()` threading. enumerate() returns a list of all Thread objects currently alive. The list includes daemonic threads, dummy thread objects created by current_thread(), and the main thread. It excludes terminated threads and threads that have not yet been started."
   ]
  },
  {
   "cell_type": "markdown",
   "id": "fe076e69",
   "metadata": {},
   "source": [
    "## Q3. Explain the following functions:\n",
    "1. run()\n",
    "2. start()\n",
    "3. join()\n",
    "4. isAlive()"
   ]
  },
  {
   "cell_type": "markdown",
   "id": "80d31209",
   "metadata": {},
   "source": [
    "`Answer`\n",
    "\n",
    "1. `run()` − The run() method is the entry point for a thread.\n",
    "\n",
    "2. `start()` − The start() method starts a thread by calling the run method.\n",
    "\n",
    "3. `join()` − The join() waits for threads to terminate.\n",
    "\n",
    "4. `isAlive()` − The isAlive() method checks whether a thread is still executing.\n",
    "\n"
   ]
  },
  {
   "cell_type": "markdown",
   "id": "8d42fb3e",
   "metadata": {},
   "source": [
    "## Q4. Write a python program to create two threads. Thread one must print the list of squares and thread two must print the list of cubes."
   ]
  },
  {
   "cell_type": "code",
   "execution_count": 1,
   "id": "6b71bb83",
   "metadata": {},
   "outputs": [
    {
     "name": "stdout",
     "output_type": "stream",
     "text": [
      "Square of 1 is 1\n",
      "Square of 2 is 4\n",
      "Square of 3 is 9\n",
      "Square of 4 is 16\n",
      "Square of 5 is 25\n",
      "Square of 6 is 36\n",
      "Square of 7 is 49\n",
      "Square of 8 is 64\n",
      "Square of 9 is 81\n",
      "Square of 10 is 100\n",
      "Cube of 1 is 1\n",
      "Cube of 2 is 8\n",
      "Cube of 3 is 27\n",
      "Cube of 4 is 64\n",
      "Cube of 5 is 125\n",
      "Cube of 6 is 216\n",
      "Cube of 7 is 343\n",
      "Cube of 8 is 512\n",
      "Cube of 9 is 729\n",
      "Cube of 10 is 1000\n"
     ]
    }
   ],
   "source": [
    "import threading\n",
    "\n",
    "def print_squares():\n",
    "    for i in range(1, 11):\n",
    "        print(f\"Square of {i} is {i**2}\")\n",
    "        \n",
    "def print_cubes():\n",
    "    for i in range(1, 11):\n",
    "        print(f\"Cube of {i} is {i**3}\")\n",
    "        \n",
    "if __name__ == \"__main__\":\n",
    "    t1 = threading.Thread(target=print_squares)\n",
    "    t2 = threading.Thread(target=print_cubes)\n",
    "    \n",
    "    t1.start()\n",
    "    t2.start()\n",
    "    \n",
    "    t1.join()\n",
    "    t2.join()\n"
   ]
  },
  {
   "cell_type": "markdown",
   "id": "ce3d2dd8",
   "metadata": {},
   "source": [
    "## Q5. State advantages and disadvantages of multithreading."
   ]
  },
  {
   "cell_type": "markdown",
   "id": "dc4a7eda",
   "metadata": {},
   "source": [
    "`Answer`\n",
    "\n",
    "1. `Advantages of Multithreading:`\n",
    "\n",
    "    Increased CPU utilization: Multithreading allows multiple threads to execute simultaneously on a single processor or core, which increases CPU utilization and makes more efficient use of available resources.\n",
    "\n",
    "    Improved application performance: By dividing a program into smaller, independent threads, multithreading can improve application performance and responsiveness. This is particularly useful for long-running or computationally intensive tasks.\n",
    "\n",
    "    Simplified program design: Multithreading can simplify program design by allowing developers to separate different tasks into independent threads. This makes it easier to write more modular and scalable code.\n",
    "\n",
    "    Improved user experience: Multithreading can improve the user experience by allowing applications to perform background tasks without blocking the user interface. This can make applications feel more responsive and interactive.\n",
    "\n",
    "    Better resource management: Multithreading can help manage resources more efficiently, such as minimizing memory usage by sharing memory between threads instead of creating separate copies for each thread.\n",
    "    \n",
    "``\n",
    "    \n",
    "2. `Disadvantages of Multithreading:`\n",
    "\n",
    "    Increased complexity: Multithreaded programs can be more complex to write and debug than single-threaded programs, as there are more variables to consider, such as synchronization and deadlock.\n",
    "\n",
    "    Synchronization and race conditions: When multiple threads access shared resources simultaneously, there is a risk of race conditions and synchronization issues, which can cause unpredictable behavior and bugs.\n",
    "\n",
    "    Increased overhead: Multithreading adds overhead to program execution, as the system must manage thread creation, scheduling, and synchronization.\n",
    "\n",
    "    Increased memory usage: Multithreading can increase memory usage, as each thread requires its own stack and execution context.\n",
    "\n",
    "    Difficulty in debugging: Debugging multithreaded programs can be difficult, as bugs may be hard to reproduce and diagnose due to the non-deterministic nature of thread scheduling and execution."
   ]
  },
  {
   "cell_type": "markdown",
   "id": "b1ded5f2",
   "metadata": {},
   "source": [
    "## Q6. Explain deadlocks and race conditions."
   ]
  },
  {
   "cell_type": "markdown",
   "id": "a5995c85",
   "metadata": {},
   "source": [
    "`Answer`\n",
    "\n",
    "Deadlocks and race conditions are two common issues that can arise in concurrent programming, where multiple threads or processes are executing simultaneously.\n",
    "\n",
    "`Deadlock:`\n",
    "A deadlock occurs when two or more threads or processes are blocked, waiting for each other to release resources that they need to continue executing. In other words, each thread is holding a resource that the other thread needs, and neither thread can proceed until it receives the required resource. This can result in a situation where the threads are stuck indefinitely, unable to make progress.\n",
    "\n",
    "For example, consider two threads that each need to access a shared resource. If Thread A acquires the resource and then waits for Thread B to release a different resource that Thread A needs, while Thread B is waiting for Thread A to release the first resource, then a deadlock occurs.\n",
    "\n",
    "Deadlocks can be difficult to detect and resolve, as they are not always easy to reproduce and diagnose. They can be caused by various factors, such as improper resource allocation, improper use of locks or semaphores, or programming errors.\n",
    "\n",
    "`Race Condition:`\n",
    "A race condition occurs when two or more threads or processes access a shared resource concurrently, resulting in unpredictable behavior or incorrect results. In other words, the outcome of the program depends on the order in which the threads execute, which can vary depending on factors such as scheduling, timing, and system load.\n",
    "\n",
    "For example, consider two threads that each increment a shared counter variable. If Thread A reads the counter value and then Thread B reads the same value before Thread A has a chance to write the updated value, then both threads will increment the counter based on the original value, resulting in a lost update.\n",
    "\n",
    "Race conditions can be difficult to detect and reproduce, as they depend on a variety of factors that can change over time. They can be caused by various factors, such as improper synchronization, improper use of locks or semaphores, or programming errors.\n",
    "\n",
    "To avoid deadlocks and race conditions, it is important to follow best practices for concurrent programming, such as proper synchronization, use of atomic operations, and proper resource allocation. It is also important to test and debug concurrent programs thoroughly to detect and resolve any issues that arise."
   ]
  }
 ],
 "metadata": {
  "kernelspec": {
   "display_name": "Python 3 (ipykernel)",
   "language": "python",
   "name": "python3"
  },
  "language_info": {
   "codemirror_mode": {
    "name": "ipython",
    "version": 3
   },
   "file_extension": ".py",
   "mimetype": "text/x-python",
   "name": "python",
   "nbconvert_exporter": "python",
   "pygments_lexer": "ipython3",
   "version": "3.10.9"
  }
 },
 "nbformat": 4,
 "nbformat_minor": 5
}
