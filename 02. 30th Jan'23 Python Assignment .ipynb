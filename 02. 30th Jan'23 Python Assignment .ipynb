{
 "cells": [
  {
   "cell_type": "markdown",
   "id": "6e9b0621",
   "metadata": {},
   "source": [
    "## Q1. Write a program to accept percentage from the user and display the grade according to the following criteria:\n",
    "\n",
    "Marks---------------Grade \n",
    "\n",
    "`>90`----------------`A `\n",
    "\n",
    "`>80 and <=90`------`B` \n",
    "\n",
    "`>=60 and <=80`-----`C` \n",
    "\n",
    "`below 60`----------`D` \n"
   ]
  },
  {
   "cell_type": "code",
   "execution_count": 5,
   "id": "080355dc",
   "metadata": {},
   "outputs": [
    {
     "name": "stdout",
     "output_type": "stream",
     "text": [
      "Enter the percentage: 87\n",
      "Grade: B\n"
     ]
    }
   ],
   "source": [
    "percentage = float(input(\"Enter the percentage: \"))\n",
    "\n",
    "if percentage > 90:\n",
    "    grade = 'A'\n",
    "elif percentage > 80:\n",
    "    grade = 'B'\n",
    "elif percentage >= 60:\n",
    "    grade = 'C'\n",
    "else:\n",
    "    grade = 'D'\n",
    "\n",
    "print(\"Grade:\", grade)"
   ]
  },
  {
   "cell_type": "markdown",
   "id": "2bd8211c",
   "metadata": {},
   "source": [
    "## Q2. Write a program to accept the cost price of a bike and display the road tax to be paid according to the following criteria: \n",
    "\n",
    "Tax-----------------Cost Price(in Rs)\n",
    "\n",
    "15%-----------------`> 100000` \n",
    "\n",
    "10%-----------------`> 50000 and <= 100000` \n",
    "\n",
    "5%------------------`<= 50000`"
   ]
  },
  {
   "cell_type": "code",
   "execution_count": 6,
   "id": "160fd7bc",
   "metadata": {},
   "outputs": [
    {
     "name": "stdout",
     "output_type": "stream",
     "text": [
      "Enter the cost price of the bike (in Rs): 1234567\n",
      "Road tax to be paid (in Rs): 185185.05\n"
     ]
    }
   ],
   "source": [
    "cost_price = int(input(\"Enter the cost price of the bike (in Rs): \"))\n",
    "\n",
    "if cost_price > 100000:\n",
    "    road_tax = cost_price * 0.15\n",
    "elif cost_price > 50000:\n",
    "    road_tax = cost_price * 0.1\n",
    "else:\n",
    "    road_tax = cost_price * 0.05\n",
    "\n",
    "print(\"Road tax to be paid (in Rs):\", road_tax)\n"
   ]
  },
  {
   "cell_type": "markdown",
   "id": "2735ecfb",
   "metadata": {},
   "source": [
    "## Q3. Accept any city from the user and display monuments of that city.\n",
    "\n",
    "`City`------------------`Monument`\n",
    "\n",
    "Delhi-----------------Red Fort\n",
    "\n",
    "Agra------------------Taj Mahal\n",
    "\n",
    "Jaipur-----------------Jal Maha"
   ]
  },
  {
   "cell_type": "code",
   "execution_count": 7,
   "id": "aa5028ab",
   "metadata": {},
   "outputs": [
    {
     "name": "stdout",
     "output_type": "stream",
     "text": [
      "Enter the city name: sikar\n",
      "Sorry, we do not have information about monuments in sikar\n"
     ]
    }
   ],
   "source": [
    "city = input(\"Enter the city name: \")\n",
    "\n",
    "if city.lower() == 'delhi':\n",
    "    monument = 'Red Fort'\n",
    "elif city.lower() == 'agra':\n",
    "    monument = 'Taj Mahal'\n",
    "elif city.lower() == 'jaipur':\n",
    "    monument = 'Jal Mahal'\n",
    "else:\n",
    "    monument = 'Unknown'\n",
    "\n",
    "if monument != 'Unknown':\n",
    "    print(\"The monument of\", city, \"is\", monument)\n",
    "else:\n",
    "    print(\"Sorry, we do not have information about monuments in\", city)\n"
   ]
  },
  {
   "cell_type": "markdown",
   "id": "938ff73e",
   "metadata": {},
   "source": [
    "## Q4. Check how many times a given number can be divided by 3 before it is less than or equal to 10. "
   ]
  },
  {
   "cell_type": "code",
   "execution_count": 8,
   "id": "1c16c7bb",
   "metadata": {},
   "outputs": [
    {
     "name": "stdout",
     "output_type": "stream",
     "text": [
      "Enter a number: 10\n",
      "The given number can be divided by 3 0 times before it is less than or equal to 10\n"
     ]
    }
   ],
   "source": [
    "num = int(input(\"Enter a number: \"))\n",
    "\n",
    "count = 0\n",
    "\n",
    "while num > 10:\n",
    "    num = num / 3\n",
    "    count += 1\n",
    "\n",
    "print(\"The given number can be divided by 3\", count, \"times before it is less than or equal to 10\")\n"
   ]
  },
  {
   "cell_type": "markdown",
   "id": "78562916",
   "metadata": {},
   "source": [
    "## Q5. Why and When to Use while Loop in Python give a detailed description with example "
   ]
  },
  {
   "cell_type": "markdown",
   "id": "2fe7995c",
   "metadata": {},
   "source": [
    "`Answer`\n",
    "\n",
    "In Python, a while loop is used to repeatedly execute a block of code as long as a certain condition is true. The loop continues to execute until the condition becomes false. The while loop is commonly used when we don't know in advance how many times a loop needs to run.\n",
    "\n",
    "The general syntax of the while loop is as follows:\n",
    "\n",
    "`while condition:`\n",
    "\n",
    "    # block of code to be executed while condition is true\n",
    "    \n",
    "Here, condition is the expression that is evaluated before each iteration of the loop. If the condition is true, the block of code within the loop is executed. This process is repeated until the condition becomes false.\n",
    "\n",
    "One common use case of a while loop is to iterate over a collection of elements until a certain condition is met. For example, we can use a while loop to iterate over a list of numbers until we find a number that is greater than 100:"
   ]
  },
  {
   "cell_type": "code",
   "execution_count": 11,
   "id": "18bbda6f",
   "metadata": {},
   "outputs": [
    {
     "name": "stdout",
     "output_type": "stream",
     "text": [
      "10 20 30 40 50 60 70 80 90 100 \n",
      "The loop has exited because 110 is greater than 100\n"
     ]
    }
   ],
   "source": [
    "numbers = [10, 20, 30, 40, 50, 60, 70, 80, 90, 100, 110, 120, 130, 140]\n",
    "index = 0\n",
    "\n",
    "while numbers[index] <= 100:\n",
    "    print(numbers[index], end=\" \")\n",
    "    index += 1\n",
    "print()\n",
    "print(\"The loop has exited because\", numbers[index], \"is greater than 100\")\n"
   ]
  },
  {
   "cell_type": "markdown",
   "id": "63215993",
   "metadata": {},
   "source": [
    "## Q6. Use nested while loop to print 3 different pattern. "
   ]
  },
  {
   "cell_type": "markdown",
   "id": "3405e51f",
   "metadata": {},
   "source": [
    "### Pattern 1"
   ]
  },
  {
   "cell_type": "code",
   "execution_count": 12,
   "id": "c31340b4",
   "metadata": {},
   "outputs": [
    {
     "name": "stdout",
     "output_type": "stream",
     "text": [
      "*\n",
      "**\n",
      "***\n",
      "****\n",
      "*****\n"
     ]
    }
   ],
   "source": [
    "row = 1\n",
    "\n",
    "while row <= 5:\n",
    "    col = 1\n",
    "    while col <= row:\n",
    "        print(\"*\", end=\"\")\n",
    "        col += 1\n",
    "    print()\n",
    "    row += 1"
   ]
  },
  {
   "cell_type": "markdown",
   "id": "92e0b927",
   "metadata": {},
   "source": [
    "### Pattern 2"
   ]
  },
  {
   "cell_type": "code",
   "execution_count": 13,
   "id": "d78dc048",
   "metadata": {},
   "outputs": [
    {
     "name": "stdout",
     "output_type": "stream",
     "text": [
      "*****\n",
      "****\n",
      "***\n",
      "**\n",
      "*\n"
     ]
    }
   ],
   "source": [
    "row = 5\n",
    "\n",
    "while row >= 1:\n",
    "    col = 1\n",
    "    while col <= row:\n",
    "        print(\"*\", end=\"\")\n",
    "        col += 1\n",
    "    print()\n",
    "    row -= 1"
   ]
  },
  {
   "cell_type": "markdown",
   "id": "8cd5b694",
   "metadata": {},
   "source": [
    "### Pattern 3"
   ]
  },
  {
   "cell_type": "code",
   "execution_count": 14,
   "id": "94851751",
   "metadata": {},
   "outputs": [
    {
     "name": "stdout",
     "output_type": "stream",
     "text": [
      "1\n",
      "12\n",
      "123\n",
      "1234\n",
      "12345\n"
     ]
    }
   ],
   "source": [
    "row = 1\n",
    "\n",
    "while row <= 5:\n",
    "    col = 1\n",
    "    while col <= row:\n",
    "        print(col, end=\"\")\n",
    "        col += 1\n",
    "    print()\n",
    "    row += 1"
   ]
  },
  {
   "cell_type": "markdown",
   "id": "7713a4b2",
   "metadata": {},
   "source": [
    "## Q7. Reverse a while loop to display numbers from 10 to 1. "
   ]
  },
  {
   "cell_type": "code",
   "execution_count": 15,
   "id": "151e136d",
   "metadata": {},
   "outputs": [
    {
     "name": "stdout",
     "output_type": "stream",
     "text": [
      "10\n",
      "9\n",
      "8\n",
      "7\n",
      "6\n",
      "5\n",
      "4\n",
      "3\n",
      "2\n",
      "1\n"
     ]
    }
   ],
   "source": [
    "num = 10\n",
    "\n",
    "while num >= 1:\n",
    "    print(num)\n",
    "    num -= 1"
   ]
  },
  {
   "cell_type": "markdown",
   "id": "8ad17dac",
   "metadata": {},
   "source": [
    "## Q8. Reverse a while loop to display numbers from 10 to 1 "
   ]
  },
  {
   "cell_type": "code",
   "execution_count": 16,
   "id": "2f73bd07",
   "metadata": {},
   "outputs": [
    {
     "name": "stdout",
     "output_type": "stream",
     "text": [
      "10\n",
      "9\n",
      "8\n",
      "7\n",
      "6\n",
      "5\n",
      "4\n",
      "3\n",
      "2\n",
      "1\n"
     ]
    }
   ],
   "source": [
    "num = 10\n",
    "\n",
    "while num >= 1:\n",
    "    print(num)\n",
    "    num -= 1\n"
   ]
  },
  {
   "cell_type": "code",
   "execution_count": null,
   "id": "de9ca224",
   "metadata": {},
   "outputs": [],
   "source": []
  }
 ],
 "metadata": {
  "kernelspec": {
   "display_name": "Python 3 (ipykernel)",
   "language": "python",
   "name": "python3"
  },
  "language_info": {
   "codemirror_mode": {
    "name": "ipython",
    "version": 3
   },
   "file_extension": ".py",
   "mimetype": "text/x-python",
   "name": "python",
   "nbconvert_exporter": "python",
   "pygments_lexer": "ipython3",
   "version": "3.10.9"
  }
 },
 "nbformat": 4,
 "nbformat_minor": 5
}
