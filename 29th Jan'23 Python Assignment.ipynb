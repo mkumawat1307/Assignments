{
 "cells": [
  {
   "cell_type": "markdown",
   "id": "314babec",
   "metadata": {},
   "source": [
    "## 1. Who developed Python Programming Language?"
   ]
  },
  {
   "cell_type": "markdown",
   "id": "ccf860f1",
   "metadata": {},
   "source": [
    "`Answer`\n",
    "\n",
    "Python was developed by Guido van Rossum in the late 1980s and was first released in 1991. Van Rossum continued to oversee the development of Python until 2018, when he retired from his role as \"Benevolent Dictator For Life\" (BDFL) and the Python community adopted a new governance model. Since then, Python has been maintained and developed by a team of volunteers."
   ]
  },
  {
   "cell_type": "markdown",
   "id": "6bc83abb",
   "metadata": {},
   "source": [
    "## 2. Which type of Programming does Python support?"
   ]
  },
  {
   "cell_type": "markdown",
   "id": "aa6289d3",
   "metadata": {},
   "source": [
    "`Answer`\n",
    "\n",
    "Python is a general-purpose programming language that supports a variety of programming paradigms, including:\n",
    "\n",
    "1. Procedural programming: where the program is organized as a sequence of steps to be executed in order.\n",
    "\n",
    "2. Object-oriented programming: where the program is organized around objects that encapsulate data and behavior.\n",
    "\n",
    "3. Functional programming: where the program is organized around functions that take inputs and produce outputs.\n",
    "\n",
    "Python also supports several other programming paradigms, such as aspect-oriented programming, event-driven programming, and concurrent programming, among others."
   ]
  },
  {
   "cell_type": "markdown",
   "id": "b4452e87",
   "metadata": {},
   "source": [
    "## 3. Is Python case sensitive when dealing with identifiers?"
   ]
  },
  {
   "cell_type": "markdown",
   "id": "d57ef3bd",
   "metadata": {},
   "source": [
    "`Answer`\n",
    "\n",
    "Yes, Python is a case-sensitive programming language, which means that identifiers (such as variable names, function names, class names, etc.) are distinguished based on the case of the letters used in them.\n",
    "\n",
    "For example, in Python, the variables myVariable, myvariable, and MyVariable are considered to be three different variables. Therefore, it is important to be consistent in your use of capitalization when naming identifiers in Python."
   ]
  },
  {
   "cell_type": "markdown",
   "id": "72a0461a",
   "metadata": {},
   "source": [
    "## 4. What is the correct extension of the Python file?"
   ]
  },
  {
   "cell_type": "markdown",
   "id": "d6bad448",
   "metadata": {},
   "source": [
    "`Answer`\n",
    "\n",
    "The correct extension for Python files is `.py`.\n",
    "\n",
    "When you write Python code in a text editor or an Integrated Development Environment (IDE), you typically save it with a file name that ends with the .py extension. For example, if you have a Python program that you want to save as `\"my_program\"`, you would save it with the file name `\"my_program.py\"`.\n",
    "\n",
    "This extension is recognized by the Python interpreter, which uses it to identify files containing Python code that can be executed."
   ]
  },
  {
   "cell_type": "markdown",
   "id": "31e25e7a",
   "metadata": {},
   "source": [
    "## 5. Is Python code compiled or interpreted?"
   ]
  },
  {
   "cell_type": "markdown",
   "id": "2fe3a4cf",
   "metadata": {},
   "source": [
    "`Answer`\n",
    "\n",
    "Python code is interpreted, which means that the Python interpreter reads the source code of a Python program line by line and executes it immediately, without first compiling it into machine code.\n",
    "\n",
    "When a Python program is executed, the Python interpreter first parses the source code and converts it into an internal format called \"bytecode\", which is a lower-level representation of the code that can be executed more quickly than the original source code. The bytecode is then executed by the Python Virtual Machine (PVM), which is a program that interprets the bytecode and executes the instructions it contains.\n",
    "\n",
    "Therefore, Python code does not need to be compiled into machine code before it can be executed, which makes it easy to write and test Python programs quickly."
   ]
  },
  {
   "cell_type": "markdown",
   "id": "e7313bff",
   "metadata": {},
   "source": [
    "## 6. Name a few blocks of code used to define in Python language?"
   ]
  },
  {
   "cell_type": "markdown",
   "id": "98f72dfe",
   "metadata": {},
   "source": [
    "`Answer`\n",
    "\n",
    "In Python, code blocks are defined using indentation. Code blocks are used to group together statements that are intended to be executed as a unit, such as the body of a function, a loop, or a conditional statement. Here are a few examples of code blocks in Python:\n",
    "\n",
    "\n",
    "### 1. Function definition block:\n",
    "\n",
    "def my_function():\n",
    "\n",
    "    # code block for function body\n",
    "    statement_1\n",
    "    statement_2\n",
    "    ..."
   ]
  },
  {
   "cell_type": "markdown",
   "id": "b4de6be7",
   "metadata": {},
   "source": [
    "### 2. Conditional statement block:\n",
    "\n",
    "if condition:\n",
    "\n",
    "    #code block for if statement body\n",
    "    statement_1\n",
    "    statement_2\n",
    "    ...\n",
    "else:\n",
    "\n",
    "    #code block for else statement body\n",
    "    statement_3\n",
    "    statement_4\n",
    "    ..."
   ]
  },
  {
   "cell_type": "markdown",
   "id": "57e9f51e",
   "metadata": {},
   "source": [
    "### 3. Loop block:\n",
    "\n",
    "for item in iterable:\n",
    "\n",
    "    # code block for loop body\n",
    "    statement_1\n",
    "    statement_2\n",
    "    ..."
   ]
  },
  {
   "cell_type": "markdown",
   "id": "c096da26",
   "metadata": {},
   "source": [
    "## 7. State a character used to give single-line comments in Python?"
   ]
  },
  {
   "cell_type": "markdown",
   "id": "c0111283",
   "metadata": {},
   "source": [
    "`Answer`\n",
    "\n",
    "In Python, the hash character (`#`) is used to denote single-line comments.\n",
    "\n",
    "### Here's an example of a single-line comment in Python:\n",
    "\n",
    "#This is a single-line comment in Python\n",
    "\n",
    "x = 10  # This is another single-line comment that follows a line of code"
   ]
  },
  {
   "cell_type": "markdown",
   "id": "ef67299c",
   "metadata": {},
   "source": [
    "## 8. Mention functions which can help us to find the version of python that we are currently working on?"
   ]
  },
  {
   "cell_type": "markdown",
   "id": "56cdba0a",
   "metadata": {},
   "source": [
    "`Answer`\n",
    "\n",
    "There are several functions that can help you find the version of Python you are currently working with. Here are a few examples:\n",
    "\n",
    "1. `sys.version:` The `sys` module provides access to system-specific parameters and functions, including the version of Python you are currently using. You can use the `sys.version` attribute to get the full version string:\n",
    "\n",
    "\n",
    "2. `platform.python_version()`: The `platform` module provides functions for getting system-specific information, including the version of Python you are using. You can use the `platform.python_version()` function to get the version number as a string:\n",
    "\n",
    "\n",
    "3. `sys.version_info`: The `sys` module also provides a tuple called `sys.version_info` that contains information about the version of Python you are using, broken down into individual components (major version, minor version, etc.). You can access this tuple to get more detailed information about your Python version:"
   ]
  },
  {
   "cell_type": "markdown",
   "id": "29e48b7f",
   "metadata": {},
   "source": [
    "## 9. Python supports the creation of anonymous functions at runtime, using a construct called"
   ]
  },
  {
   "cell_type": "markdown",
   "id": "711429bf",
   "metadata": {},
   "source": [
    "`Answer`\n",
    "\n",
    "Python supports the creation of anonymous functions at runtime, using a construct called \"lambda\" functions.\n",
    "\n",
    "Lambda functions are a way to create small, anonymous functions in Python. They are typically used in situations where you need to define a function quickly and don't want to go through the process of defining a named function using the def keyword.\n",
    "\n",
    "The syntax of a lambda function is as follows:\n",
    "\n",
    "`lambda` arguments: expression\n"
   ]
  },
  {
   "cell_type": "markdown",
   "id": "12c18c69",
   "metadata": {},
   "source": [
    "## 10. What does pip stand for python?"
   ]
  },
  {
   "cell_type": "markdown",
   "id": "0d1c32a6",
   "metadata": {},
   "source": [
    "`Answer`\n",
    "\n",
    "PIP stands for \"Pip Installs Packages\" or \"Pip Installs Python\".\n",
    "\n",
    "PIP is a package manager for Python that allows you to install, upgrade, and manage third-party Python packages and libraries. It is used to install packages from the Python Package Index (PyPI), which is a repository of software packages for Python."
   ]
  },
  {
   "cell_type": "markdown",
   "id": "bca4a9d8",
   "metadata": {},
   "source": [
    "## 11. Mention a few built-in functions in python?"
   ]
  },
  {
   "cell_type": "markdown",
   "id": "473cc0dd",
   "metadata": {},
   "source": [
    "`Answer`\n",
    "\n",
    "Python has a large number of built-in functions that are available as part of the standard Python library. Here are a few examples of some commonly used built-in functions in Python:\n",
    "\n",
    "1. `print()`: The print() function is used to display output to the console. You can pass one or more arguments to the function, which will be printed to the console.\n",
    "\n",
    "2. `len()`: The len() function is used to get the length of a sequence such as a string, list, or tuple.\n",
    "\n",
    "3. `input()`: The input() function is used to get user input from the console. It displays a prompt to the user and waits for them to enter a value, which is then returned as a string.\n",
    "\n",
    "4. `str(), int(), float()`: These functions are used to convert values between different data types. For example, str(42) converts the integer value 42 to a string, while int('42') converts the string value '42' to an integer.\n",
    "\n",
    "5. `range()`: The range() function is used to create a sequence of numbers. You can specify the start, stop, and step values as arguments to the function, and it will return a sequence of numbers based on those values.\n",
    "\n",
    "6. `sorted()`: The sorted() function is used to sort a list or other iterable object. It returns a new list with the items sorted in ascending order by default, but you can also specify a custom sorting function.\n",
    "\n",
    "7. `max() and min()`: These functions are used to find the maximum and minimum values in a list or other iterable object.\n",
    "\n",
    "8. `type()`: The type() function is used to get the type of a value or variable. It returns a string that indicates the data type of the value, such as 'int', 'str', or 'list'."
   ]
  },
  {
   "cell_type": "markdown",
   "id": "476397f4",
   "metadata": {},
   "source": [
    "## 12. What is the maximum possible length of an identifier in Python?"
   ]
  },
  {
   "cell_type": "markdown",
   "id": "91c25c7c",
   "metadata": {},
   "source": [
    "`Answer`\n",
    "\n",
    "In Python, the maximum possible length of an identifier is not defined.\n",
    "\n",
    "However, it is recommended to keep the identifier names reasonably short and descriptive. According to the PEP 8 style guide for Python code, the maximum recommended length for an identifier name is 79 characters. This is to ensure that the code remains readable and maintainable.\n",
    "\n",
    "It's worth noting that there are some practical limits to the length of identifier names. For example, some operating systems have limitations on the length of file names, which could affect the maximum length of identifier names if they are used as file names. In general, though, there is no hard limit on the length of identifier names in Python."
   ]
  },
  {
   "cell_type": "markdown",
   "id": "0df49fa7",
   "metadata": {},
   "source": [
    "## 13. What are the benefits of using Python?"
   ]
  },
  {
   "cell_type": "markdown",
   "id": "a4aff89b",
   "metadata": {},
   "source": [
    "`Answer`\n",
    "\n",
    "There are several benefits of using Python as a programming language:\n",
    "\n",
    "1. Easy to Learn: Python is designed to be easy to learn and use, with a simple and intuitive syntax that emphasizes readability. This makes it a great choice for beginners who are just starting to learn programming.\n",
    "\n",
    "2. Large and Active Community: Python has a large and active community of developers who contribute to its development, create libraries and modules, and provide support through forums, user groups, and online resources. This makes it easy to find help and resources when you need them.\n",
    "\n",
    "3. Cross-platform Compatibility: Python is a cross-platform language, which means that it can be run on a variety of platforms, including Windows, Linux, and Mac OS. This makes it easy to develop and deploy applications across multiple platforms.\n",
    "\n",
    "4. Rich Standard Library: Python has a rich standard library that provides a wide range of modules and functions for performing common tasks, such as working with files, networking, and web development. This reduces the amount of code you need to write from scratch, and makes it easier to develop complex applications.\n",
    "\n",
    "5. Versatility: Python can be used for a wide range of applications, including web development, scientific computing, data analysis, artificial intelligence, and machine learning. This makes it a versatile language that can be applied to many different domains.\n",
    "\n",
    "6. Interpreted Language: Python is an interpreted language, which means that code can be executed without the need for compilation. This makes it easier to write and test code, and can speed up the development process.\n",
    "\n",
    "Overall, Python is a powerful and flexible language that is easy to learn and use, and is well-suited to a wide range of applications.\n"
   ]
  },
  {
   "cell_type": "markdown",
   "id": "1012c767",
   "metadata": {},
   "source": [
    "## 14. How is memory managed in Python?"
   ]
  },
  {
   "cell_type": "markdown",
   "id": "95257206",
   "metadata": {},
   "source": [
    "`Answer`\n",
    "\n",
    "Memory management in Python is handled automatically by the Python interpreter through a process called Garbage Collection. Python uses a technique called reference counting to keep track of how many references to an object exist in memory. Whenever the reference count of an object drops to zero, Python automatically frees the memory used by that object.\n",
    "\n",
    "In addition to reference counting, Python also uses a technique called cyclic garbage collection to handle more complex data structures, such as circular references between objects. In cyclic garbage collection, Python periodically checks for objects that are part of circular reference cycles and marks them for deletion.\n",
    "\n",
    "Python also includes a built-in memory management module called gc that provides more control over the garbage collection process. For example, you can use the gc.disable() function to temporarily disable garbage collection, or the gc.collect() function to force garbage collection to occur immediately.\n",
    "\n",
    "Overall, Python's automatic memory management makes it easier to write code without worrying about memory allocation and deallocation. However, it's important to be aware of how memory is managed in Python to avoid common performance pitfalls, such as excessive memory usage or memory leaks."
   ]
  },
  {
   "cell_type": "markdown",
   "id": "477c5246",
   "metadata": {},
   "source": [
    "## 15. How to install Python on Windows and set path variables?"
   ]
  },
  {
   "cell_type": "markdown",
   "id": "6ca88c36",
   "metadata": {},
   "source": [
    "`Answer`\n",
    "\n",
    "Here are the steps to install Python on Windows and set path variables:\n",
    "\n",
    "1. Download Python: Go to the official Python website (https://www.python.org/downloads/windows/) and download the latest version of Python for Windows.\n",
    "\n",
    "2. Run the Installer: Once the download is complete, run the Python installer executable file (.exe). Follow the prompts to install Python on your computer.\n",
    "\n",
    "3. Add Python to Path: During the installation process, you will have the option to add Python to your system PATH variable. Make sure to check this box, as it will allow you to run Python from any directory in the command prompt.\n",
    "\n",
    "4. Verify the Installation: Open a command prompt window and type python --version to verify that Python has been installed correctly. You should see the version number of Python that you just installed.\n",
    "\n",
    "5. Add Python Scripts to Path (Optional): If you plan to use Python scripts from the command prompt, you may want to add the Scripts folder to your system PATH variable. The Scripts folder is located in the Python installation directory (e.g., C:\\Python39\\Scripts). To add the Scripts folder to your PATH variable, follow these steps:\n",
    "\n",
    "    a. Open the Start menu and search for \"Environment Variables\".\n",
    "    \n",
    "    b. Click on \"Edit the system environment variables\".\n",
    "    \n",
    "    c. Click on the \"Environment Variables\" button.\n",
    "    \n",
    "    d. Under \"System variables\", find the \"Path\" variable and click \"Edit\".\n",
    "    \n",
    "    e. Click \"New\" and enter the path to the Scripts folder (e.g., C:\\Python39\\Scripts).\n",
    "    \n",
    "    f. Click \"OK\" to close all the windows and save the changes.\n"
   ]
  },
  {
   "cell_type": "markdown",
   "id": "0404a5f1",
   "metadata": {},
   "source": [
    "## 16. Is indentation required in python?"
   ]
  },
  {
   "cell_type": "markdown",
   "id": "920694eb",
   "metadata": {},
   "source": [
    "`Answer`\n",
    "\n",
    "Yes, indentation is required in Python. Unlike many other programming languages, where curly braces ({}) or other symbols are used to indicate the start and end of a block of code, Python uses indentation to indicate the structure of the code."
   ]
  }
 ],
 "metadata": {
  "kernelspec": {
   "display_name": "Python 3 (ipykernel)",
   "language": "python",
   "name": "python3"
  },
  "language_info": {
   "codemirror_mode": {
    "name": "ipython",
    "version": 3
   },
   "file_extension": ".py",
   "mimetype": "text/x-python",
   "name": "python",
   "nbconvert_exporter": "python",
   "pygments_lexer": "ipython3",
   "version": "3.10.9"
  }
 },
 "nbformat": 4,
 "nbformat_minor": 5
}
