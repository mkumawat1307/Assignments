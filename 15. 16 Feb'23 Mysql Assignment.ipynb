{
 "cells": [
  {
   "cell_type": "markdown",
   "id": "67973720-bbae-46a1-8aaf-df3dcfbfff2d",
   "metadata": {},
   "source": [
    "## Q1. What is a database? Differentiate between SQL and NoSQL databases."
   ]
  },
  {
   "cell_type": "markdown",
   "id": "a3e31236-28b4-4c46-8713-e516e029f115",
   "metadata": {},
   "source": [
    "`Answer`\n",
    "\n",
    "A database is an organized collection of structured data that can be accessed, managed, and updated electronically. It is used to store information that can be easily retrieved and processed by computer programs or users.\n",
    "\n",
    "SQL and NoSQL databases are two different types of database management systems (DBMS) that use different approaches to store and retrieve data. SQL (Structured Query Language) databases are relational databases that use tables to organize data and provide a predefined schema for storing data. These databases use SQL, a standardized language, to manipulate and query data. Some examples of SQL databases include MySQL, PostgreSQL, and Oracle.\n",
    "\n",
    "On the other hand, NoSQL (Not Only SQL) databases are non-relational databases that use flexible schemas to store data. They do not use tables like SQL databases, and instead, use document-oriented, key-value, graph, or column-oriented data models to organize data. NoSQL databases are highly scalable, can handle large amounts of unstructured data, and can operate on multiple servers. Some examples of NoSQL databases include MongoDB, Cassandra, and Redis.\n",
    "\n",
    "In summary, SQL databases are best suited for structured data that requires a predefined schema, while NoSQL databases are more suitable for unstructured or semi-structured data that requires more flexibility and scalability. The choice between SQL and NoSQL databases depends on the specific use case and requirements of the application."
   ]
  },
  {
   "cell_type": "markdown",
   "id": "af5352c7-d7ec-479c-8b7e-dd5f251e53fb",
   "metadata": {
    "tags": []
   },
   "source": [
    "## Q2. What is DDL? Explain why CREATE, DROP, ALTER, and TRUNCATE are used with an example."
   ]
  },
  {
   "cell_type": "markdown",
   "id": "8884de56-b8f9-4565-8b4c-dd27f59ea01f",
   "metadata": {},
   "source": [
    "`Answer`\n",
    "\n",
    "DDL stands for Data Definition Language, which is a subset of SQL (Structured Query Language) that is used to define and manipulate the structure of database objects like tables, indexes, views, and so on.\n",
    "\n",
    "Here's a brief explanation of some of the commonly used DDL statements and how they can be used with the mysql.connector module in Python:\n",
    "\n",
    "1. CREATE: The CREATE statement is used to create new database objects like tables, views, indexes, and so on. Here's an example of creating a new table using the mysql.connector module in Python:"
   ]
  },
  {
   "cell_type": "code",
   "execution_count": null,
   "id": "407370b9-5fc5-425c-bafa-d1f75cb9aa13",
   "metadata": {},
   "outputs": [],
   "source": [
    "import mysql.connector\n",
    "\n",
    "mydb = mysql.connector.connect(\n",
    "  host=\"localhost\",\n",
    "  user=\"username\",\n",
    "  password=\"password\",\n",
    "  database=\"mydatabase\"\n",
    ")\n",
    "\n",
    "mycursor = mydb.cursor()\n",
    "\n",
    "mycursor.execute(\"CREATE TABLE customers (id INT AUTO_INCREMENT PRIMARY KEY, name VARCHAR(255), address VARCHAR(255))\")\n"
   ]
  },
  {
   "cell_type": "markdown",
   "id": "4255bea0-a9c4-404d-8b0d-adb4e60e67ed",
   "metadata": {},
   "source": [
    "This code will create a new table called customers with three columns: id, name, and address. The id column is an auto-incrementing primary key, which means that each new row added to the table will have a unique identifier.\n",
    "\n",
    "2. DROP: The DROP statement is used to delete existing database objects like tables, views, and indexes. Here's an example of dropping a table using the mysql.connector module in Python:"
   ]
  },
  {
   "cell_type": "code",
   "execution_count": null,
   "id": "07ca2283-71b2-40a5-b769-8b76e0fb3140",
   "metadata": {},
   "outputs": [],
   "source": [
    "import mysql.connector\n",
    "\n",
    "mydb = mysql.connector.connect(\n",
    "  host=\"localhost\",\n",
    "  user=\"username\",\n",
    "  password=\"password\",\n",
    "  database=\"mydatabase\"\n",
    ")\n",
    "\n",
    "mycursor = mydb.cursor()\n",
    "\n",
    "mycursor.execute(\"DROP TABLE customers\")"
   ]
  },
  {
   "cell_type": "markdown",
   "id": "01f5f5a2-5d6b-4145-b4d7-a2577bb888a5",
   "metadata": {},
   "source": [
    "This code will drop the customers table from the database.\n",
    "\n",
    "3. ALTER: The ALTER statement is used to modify the structure of existing database objects like tables. Here's an example of adding a new column to a table using the mysql.connector module in Python:"
   ]
  },
  {
   "cell_type": "code",
   "execution_count": null,
   "id": "b9518ce3-d6ea-4c8f-8693-add46983001a",
   "metadata": {},
   "outputs": [],
   "source": [
    "import mysql.connector\n",
    "\n",
    "mydb = mysql.connector.connect(\n",
    "  host=\"localhost\",\n",
    "  user=\"username\",\n",
    "  password=\"password\",\n",
    "  database=\"mydatabase\"\n",
    ")\n",
    "\n",
    "mycursor = mydb.cursor()\n",
    "\n",
    "mycursor.execute(\"ALTER TABLE customers ADD COLUMN email VARCHAR(255)\")"
   ]
  },
  {
   "cell_type": "markdown",
   "id": "1fac3843-a9d7-49bb-9505-da8c6084674a",
   "metadata": {},
   "source": [
    "This code will add a new column called email to the customers table.\n",
    "\n",
    "4. TRUNCATE: The TRUNCATE statement is used to delete all rows from a table without deleting the table structure itself. Here's an example of truncating a table using the mysql.connector module in Python:"
   ]
  },
  {
   "cell_type": "code",
   "execution_count": null,
   "id": "12e77ff5-c15b-4ceb-9c0e-7d22be5eeb0d",
   "metadata": {},
   "outputs": [],
   "source": [
    "import mysql.connector\n",
    "\n",
    "mydb = mysql.connector.connect(\n",
    "  host=\"localhost\",\n",
    "  user=\"username\",\n",
    "  password=\"password\",\n",
    "  database=\"mydatabase\"\n",
    ")\n",
    "\n",
    "mycursor = mydb.cursor()\n",
    "\n",
    "mycursor.execute(\"TRUNCATE TABLE customers\")"
   ]
  },
  {
   "cell_type": "markdown",
   "id": "af133b70-bb57-49a7-9720-f586ba6c6bf1",
   "metadata": {},
   "source": [
    "This code will delete all rows from the customers table, but leave the table structure intact.\n",
    "\n",
    "It's important to note that DDL statements like CREATE, DROP, ALTER, and TRUNCATE can have significant effects on your database, so be sure to use them carefully and with caution."
   ]
  },
  {
   "cell_type": "markdown",
   "id": "77aced3c-2c2c-4163-a74c-6cb7616f73ce",
   "metadata": {},
   "source": [
    "## Q3. What is DML? Explain INSERT, UPDATE, and DELETE with an example."
   ]
  },
  {
   "cell_type": "markdown",
   "id": "0bd62450-7dab-4a81-8204-640df1645401",
   "metadata": {},
   "source": [
    "`Answer`\n",
    "\n",
    "DML stands for Data Manipulation Language, which is a subset of SQL (Structured Query Language) used to manipulate the data within a database. DML consists of three main statements: INSERT, UPDATE, and DELETE.\n",
    "\n",
    "Here's a brief explanation of each of these DML statements and how they can be used with an example:\n",
    "\n",
    "1. INSERT: The INSERT statement is used to add new data to a table. Here's an example of inserting a new record into a table using SQL:"
   ]
  },
  {
   "cell_type": "code",
   "execution_count": null,
   "id": "8819d35e-04c0-492d-a56a-6b454dc8e5f9",
   "metadata": {},
   "outputs": [],
   "source": [
    "INSERT INTO employees (first_name, last_name, email)\n",
    "VALUES ('John', 'Doe', 'johndoe@example.com');"
   ]
  },
  {
   "cell_type": "markdown",
   "id": "5df447c1-1809-47ba-81b3-d7cbce92aabf",
   "metadata": {},
   "source": [
    "This SQL statement inserts a new employee record into the employees table, with the first_name, last_name, and email values specified.\n",
    "\n",
    "Using the mysql.connector module in Python, you could write the following code to insert a new record:"
   ]
  },
  {
   "cell_type": "code",
   "execution_count": null,
   "id": "c295956e-24ea-473c-933b-cfbf8e42c7c2",
   "metadata": {},
   "outputs": [],
   "source": [
    "import mysql.connector\n",
    "\n",
    "mydb = mysql.connector.connect(\n",
    "  host=\"localhost\",\n",
    "  user=\"username\",\n",
    "  password=\"password\",\n",
    "  database=\"mydatabase\"\n",
    ")\n",
    "\n",
    "mycursor = mydb.cursor()\n",
    "\n",
    "sql = \"INSERT INTO employees (first_name, last_name, email) VALUES (%s, %s, %s)\"\n",
    "val = (\"John\", \"Doe\", \"johndoe@example.com\")\n",
    "\n",
    "mycursor.execute(sql, val)\n",
    "\n",
    "mydb.commit()\n",
    "\n",
    "print(mycursor.rowcount, \"record inserted.\")"
   ]
  },
  {
   "cell_type": "markdown",
   "id": "8dae051d-22ad-415f-85ba-d593116bb15f",
   "metadata": {},
   "source": [
    "This Python code does the same thing as the previous SQL statement: it inserts a new employee record into the employees table with the specified values.\n",
    "\n",
    "2. UPDATE: The UPDATE statement is used to modify existing data in a table. Here's an example of updating a record in a table using SQL:"
   ]
  },
  {
   "cell_type": "code",
   "execution_count": null,
   "id": "467640db-68dc-48d9-a421-b3d36708df57",
   "metadata": {},
   "outputs": [],
   "source": [
    "UPDATE employees\n",
    "SET email = 'jdoe@example.com'\n",
    "WHERE id = 1;\n"
   ]
  },
  {
   "cell_type": "markdown",
   "id": "cfe728d0-c77a-418b-bb6b-e109e8319d3b",
   "metadata": {},
   "source": [
    "This SQL statement updates the email address of the employee with an id of 1 in the employees table.\n",
    "\n",
    "Using the mysql.connector module in Python, you could write the following code to update a record:"
   ]
  },
  {
   "cell_type": "code",
   "execution_count": null,
   "id": "764fdef6-197b-477a-b1e8-f698c563f5db",
   "metadata": {},
   "outputs": [],
   "source": [
    "import mysql.connector\n",
    "\n",
    "mydb = mysql.connector.connect(\n",
    "  host=\"localhost\",\n",
    "  user=\"username\",\n",
    "  password=\"password\",\n",
    "  database=\"mydatabase\"\n",
    ")\n",
    "\n",
    "mycursor = mydb.cursor()\n",
    "\n",
    "sql = \"UPDATE employees SET email = %s WHERE id = %s\"\n",
    "val = (\"jdoe@example.com\", 1)\n",
    "\n",
    "mycursor.execute(sql, val)\n",
    "\n",
    "mydb.commit()\n",
    "\n",
    "print(mycursor.rowcount, \"record(s) affected.\")"
   ]
  },
  {
   "cell_type": "markdown",
   "id": "81e97a21-c2c3-479d-958a-4ba66fcda258",
   "metadata": {},
   "source": [
    "This Python code does the same thing as the previous SQL statement: it updates the email address of the employee with an id of 1 in the employees table.\n",
    "\n",
    "3. DELETE: The DELETE statement is used to remove data from a table. Here's an example of deleting a record from a table using SQL:"
   ]
  },
  {
   "cell_type": "code",
   "execution_count": null,
   "id": "0bdbe4d6-1c84-430f-aa28-d7732ad23098",
   "metadata": {},
   "outputs": [],
   "source": [
    "DELETE FROM employees\n",
    "WHERE id = 1;\n"
   ]
  },
  {
   "cell_type": "markdown",
   "id": "dd797fcf-6c21-4677-98e9-05b720ed959d",
   "metadata": {},
   "source": [
    "This SQL statement deletes the employee record with an id of 1 from the employees table.\n",
    "\n",
    "Using the mysql.connector module in Python, you could write the following code to delete a record:"
   ]
  },
  {
   "cell_type": "code",
   "execution_count": null,
   "id": "4a8446c9-ec7d-444c-af94-b33f71c71e6d",
   "metadata": {},
   "outputs": [],
   "source": [
    "import mysql.connector\n",
    "\n",
    "mydb = mysql.connector.connect(\n",
    "  host=\"localhost\",\n",
    "  user=\"username\",\n",
    "  password=\"password\",\n",
    "  database=\"mydatabase\"\n",
    ")\n",
    "\n",
    "mycursor = mydb.cursor()\n",
    "\n",
    "sql = \"DELETE FROM employees WHERE id = %s\"\n",
    "val = (1, )\n",
    "\n",
    "mycursor.execute(sql, val)\n",
    "\n",
    "mydb.commit()\n",
    "\n",
    "print(mycursor.rowcount, \"record(s) deleted.\")"
   ]
  },
  {
   "cell_type": "markdown",
   "id": "cf94f548-9b8c-4a74-afd1-d46630fd274f",
   "metadata": {},
   "source": [
    "## Q4. What is DQL? Explain SELECT with an example."
   ]
  },
  {
   "cell_type": "markdown",
   "id": "431ca5fd-ec90-420f-8fa6-1ed7babeba64",
   "metadata": {},
   "source": [
    "`Answer`\n",
    "\n",
    "DQL stands for Data Query Language, which is a subset of SQL (Structured Query Language) used to retrieve data from a database. DQL consists of only one statement: SELECT.\n",
    "\n",
    "Here's an explanation of the SELECT statement and how it can be used with an example:\n",
    "\n",
    "1. SELECT: The SELECT statement is used to retrieve data from one or more tables in a database. Here's an example of selecting data from a table using SQL:"
   ]
  },
  {
   "cell_type": "code",
   "execution_count": null,
   "id": "ffd5782a-2cc6-4d42-a8e0-368cf2ab4e89",
   "metadata": {},
   "outputs": [],
   "source": [
    "SELECT * FROM employees;\n"
   ]
  },
  {
   "cell_type": "markdown",
   "id": "cde0053a-e4c4-4f53-88f3-51c0174aea3f",
   "metadata": {},
   "source": [
    "This SQL statement retrieves all columns and all rows from the employees table.\n",
    "\n",
    "bUsing the mysql.connector module in Python, you could write the following code to select data from a table:"
   ]
  },
  {
   "cell_type": "code",
   "execution_count": null,
   "id": "000dcdef-c093-4b07-a2c3-6b3f564ee9f7",
   "metadata": {},
   "outputs": [],
   "source": [
    "import mysql.connector\n",
    "\n",
    "mydb = mysql.connector.connect(\n",
    "  host=\"localhost\",\n",
    "  user=\"username\",\n",
    "  password=\"password\",\n",
    "  database=\"mydatabase\"\n",
    ")\n",
    "\n",
    "mycursor = mydb.cursor()\n",
    "\n",
    "mycursor.execute(\"SELECT * FROM employees\")\n",
    "\n",
    "myresult = mycursor.fetchall()\n",
    "\n",
    "for x in myresult:\n",
    "  print(x)\n"
   ]
  },
  {
   "cell_type": "markdown",
   "id": "741f985f-79e1-41dc-a4db-863a389477d3",
   "metadata": {},
   "source": [
    "This Python code does the same thing as the previous SQL statement: it retrieves all columns and all rows from the employees table.\n",
    "\n",
    "You can also specify which columns to select by replacing the * with a comma-separated list of column names:"
   ]
  },
  {
   "cell_type": "code",
   "execution_count": null,
   "id": "b934987f-2c7d-4155-b5d7-fbe8211620c4",
   "metadata": {},
   "outputs": [],
   "source": [
    "SELECT first_name, last_name FROM employees;"
   ]
  },
  {
   "cell_type": "markdown",
   "id": "4d1b99c7-3d54-4fe9-951c-b58f7a1be4fe",
   "metadata": {},
   "source": [
    "This SQL statement retrieves only the first_name and last_name columns from the employees table.\n",
    "\n",
    "Using the mysql.connector module in Python, you could write the following code to select specific columns from a table:"
   ]
  },
  {
   "cell_type": "code",
   "execution_count": null,
   "id": "f5f1142d-368b-44dd-bd9a-2e28e2e1ae14",
   "metadata": {},
   "outputs": [],
   "source": [
    "import mysql.connector\n",
    "\n",
    "mydb = mysql.connector.connect(\n",
    "  host=\"localhost\",\n",
    "  user=\"username\",\n",
    "  password=\"password\",\n",
    "  database=\"mydatabase\"\n",
    ")\n",
    "\n",
    "mycursor = mydb.cursor()\n",
    "\n",
    "mycursor.execute(\"SELECT first_name, last_name FROM employees\")\n",
    "\n",
    "myresult = mycursor.fetchall()\n",
    "\n",
    "for x in myresult:\n",
    "  print(x)"
   ]
  },
  {
   "cell_type": "markdown",
   "id": "5f50fbf1-8e71-483f-ad6c-95d6801c3234",
   "metadata": {},
   "source": [
    "## Q5. Explain Primary Key and Foreign Key."
   ]
  },
  {
   "cell_type": "markdown",
   "id": "ced67b6a-32dc-475c-abb7-102fe21d8247",
   "metadata": {},
   "source": [
    "`Answer`\n",
    "\n",
    "`Primary Key:`\n",
    "A primary key is a column or set of columns in a table that uniquely identifies each row in that table. It is used to enforce data integrity by ensuring that each row in the table is uniquely identifiable. A primary key cannot contain null values and must be unique for each row. A table can have only one primary key.\n",
    "\n",
    "`Foreign Key:`\n",
    "A foreign key is a column or set of columns in one table that refers to the primary key of another table. It is used to enforce referential integrity by ensuring that a row in one table can only reference a row in another table if that row exists. In other words, a foreign key establishes a link between two tables."
   ]
  },
  {
   "cell_type": "markdown",
   "id": "d7e426dc-9a02-455f-a4a2-3e95cd0d70cd",
   "metadata": {},
   "source": [
    "## Q6. Write a python code to connect MySQL to python. Explain the cursor() and execute() method."
   ]
  },
  {
   "cell_type": "code",
   "execution_count": null,
   "id": "a3203d1e-9515-417d-9ab0-d41858699b9a",
   "metadata": {},
   "outputs": [],
   "source": [
    "import mysql.connector\n",
    "\n",
    "# establish a connection to the MySQL server\n",
    "mydb = mysql.connector.connect(\n",
    "  host=\"localhost\",\n",
    "  user=\"yourusername\",\n",
    "  password=\"yourpassword\",\n",
    "  database=\"yourdatabase\"\n",
    ")\n",
    "\n",
    "# create a cursor object\n",
    "mycursor = mydb.cursor()\n",
    "\n",
    "# execute a SQL query\n",
    "mycursor.execute(\"SELECT * FROM customers\")\n",
    "\n",
    "# fetch the results\n",
    "myresult = mycursor.fetchall()\n",
    "\n",
    "# print the results\n",
    "for row in myresult:\n",
    "  print(row)\n"
   ]
  },
  {
   "cell_type": "markdown",
   "id": "8bf4f60a-3074-4068-96fd-7e93c11af1f4",
   "metadata": {},
   "source": [
    "In this code, we first establish a connection to the MySQL server using the `connect()` method of the mysql.connector module. We provide the necessary connection details such as the host, user, password, and database.\n",
    "\n",
    "Next, we create a cursor object using the `cursor()` method of the connection object. A cursor is a temporary work area created on the database server that enables you to manipulate and retrieve the data from the database.\n",
    "\n",
    "Then, we execute a SQL query using the `execute()` method of the cursor object. The `execute()` method takes an SQL query as a parameter and sends it to the MySQL server for execution.\n",
    "\n",
    "After executing the SQL query, we fetch the results using the `fetchall()` method of the cursor object. The `fetchall()` method returns all the rows from the query result set.\n",
    "\n",
    "Finally, we loop through the results and print each row.\n",
    "\n",
    "So, `the cursor()` method creates a cursor object that allows you to execute SQL queries and fetch the results. The `execute()` method executes the SQL query passed as a parameter to the cursor object."
   ]
  },
  {
   "cell_type": "markdown",
   "id": "4b664f09-d18b-4172-bf33-835c02f69b12",
   "metadata": {},
   "source": [
    "## Q7. Give the order of execution of SQL clauses in an SQL query."
   ]
  },
  {
   "cell_type": "markdown",
   "id": "0c72aa32-5412-4826-9786-9b1f89749216",
   "metadata": {},
   "source": [
    "`Answer`\n",
    "\n",
    "\n",
    "\n",
    "The order of execution of SQL clauses in an SQL query is as follows:\n",
    "\n",
    "1. FROM clause: specifies the table(s) from which to retrieve the data.\n",
    "2. WHERE clause: filters the rows based on a condition.\n",
    "3. GROUP BY clause: groups the rows based on one or more columns.\n",
    "4. HAVING clause: filters the groups based on a condition.\n",
    "5. SELECT clause: specifies the columns to retrieve.\n",
    "6. ORDER BY clause: sorts the rows based on one or more columns.\n",
    "7. LIMIT/OFFSET clause: limits the number of rows to retrieve or skips a certain number of rows.\n",
    "\n",
    "It is important to note that not all clauses are required in every SQL query, and the order of the clauses can vary based on the specific requirements of the query. However, the general order of execution is typically the same as listed above."
   ]
  }
 ],
 "metadata": {
  "kernelspec": {
   "display_name": "Python 3 (ipykernel)",
   "language": "python",
   "name": "python3"
  },
  "language_info": {
   "codemirror_mode": {
    "name": "ipython",
    "version": 3
   },
   "file_extension": ".py",
   "mimetype": "text/x-python",
   "name": "python",
   "nbconvert_exporter": "python",
   "pygments_lexer": "ipython3",
   "version": "3.10.8"
  }
 },
 "nbformat": 4,
 "nbformat_minor": 5
}
