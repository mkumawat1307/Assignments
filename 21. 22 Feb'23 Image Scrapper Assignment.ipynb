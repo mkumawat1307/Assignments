{
 "cells": [
  {
   "cell_type": "markdown",
   "id": "77bba90c-9de4-4bf4-bfbd-64f2163416c1",
   "metadata": {},
   "source": [
    "## Q1. Write a python program to extract the video URL of the first five videos.\n",
    "\n",
    "### https://www.youtube.com/@PW-Foundation/videos"
   ]
  },
  {
   "cell_type": "code",
   "execution_count": 1,
   "id": "5ab0b001",
   "metadata": {},
   "outputs": [],
   "source": [
    "# !pip install selenium\n",
    "# !pip install beautifulsoup4\n",
    "# !pip install webdriver-manager"
   ]
  },
  {
   "cell_type": "code",
   "execution_count": 2,
   "id": "e8adf95c-b07b-4ab1-ae9a-667c2fff6218",
   "metadata": {},
   "outputs": [],
   "source": [
    "from bs4 import BeautifulSoup\n",
    "from selenium import webdriver\n",
    "from webdriver_manager.chrome import ChromeDriverManager\n",
    "import csv"
   ]
  },
  {
   "cell_type": "code",
   "execution_count": 3,
   "id": "24a5897a",
   "metadata": {},
   "outputs": [
    {
     "name": "stderr",
     "output_type": "stream",
     "text": [
      "C:\\Users\\DELL-CMS\\AppData\\Local\\Temp\\ipykernel_7468\\2786177129.py:1: DeprecationWarning: executable_path has been deprecated, please pass in a Service object\n",
      "  driver = webdriver.Chrome(executable_path=ChromeDriverManager().install())\n"
     ]
    }
   ],
   "source": [
    "driver = webdriver.Chrome(executable_path=ChromeDriverManager().install())"
   ]
  },
  {
   "cell_type": "code",
   "execution_count": 4,
   "id": "be77ec0a-5263-4a06-8d75-228588fc72cc",
   "metadata": {},
   "outputs": [],
   "source": [
    "url = \"https://www.youtube.com/@PW-Foundation/videos\"\n",
    "driver.get(url)\n",
    "page_source = driver.page_source"
   ]
  },
  {
   "cell_type": "code",
   "execution_count": 5,
   "id": "202d11fb",
   "metadata": {},
   "outputs": [],
   "source": [
    "soup=BeautifulSoup(page_source,\"html.parser\")"
   ]
  },
  {
   "cell_type": "code",
   "execution_count": 6,
   "id": "6c952760",
   "metadata": {},
   "outputs": [],
   "source": [
    "videos_url = soup.find_all(\"a\", class_=\"yt-simple-endpoint focus-on-expand style-scope ytd-rich-grid-media\")"
   ]
  },
  {
   "cell_type": "code",
   "execution_count": 7,
   "id": "3dc87aff",
   "metadata": {},
   "outputs": [
    {
     "data": {
      "text/plain": [
       "['https://www.youtube.com/watch?v=Fks4dVnTb5M',\n",
       " 'https://www.youtube.com/watch?v=nIuGXeISbSo',\n",
       " 'https://www.youtube.com/watch?v=p9pqo970kjw',\n",
       " 'https://www.youtube.com/watch?v=L5G-0FbyAsc',\n",
       " 'https://www.youtube.com/watch?v=uqDX6hcRf2I']"
      ]
     },
     "execution_count": 7,
     "metadata": {},
     "output_type": "execute_result"
    }
   ],
   "source": [
    "video_url = [\"https://www.youtube.com\"+video_url.get(\"href\") for video_url in videos_url[:5]]\n",
    "video_url"
   ]
  },
  {
   "cell_type": "markdown",
   "id": "2aa04b5b-1a03-4de9-8787-b7e08342ebb1",
   "metadata": {},
   "source": [
    "## Q2. Write a python program to extract the URL of the video thumbnails of the first five videos."
   ]
  },
  {
   "cell_type": "code",
   "execution_count": 8,
   "id": "835ecc87",
   "metadata": {},
   "outputs": [],
   "source": [
    "Thumbs=soup.find_all(\"img\", class_=\"yt-core-image--loaded\")"
   ]
  },
  {
   "cell_type": "code",
   "execution_count": 9,
   "id": "c2c412aa",
   "metadata": {},
   "outputs": [
    {
     "data": {
      "text/plain": [
       "['https://i.ytimg.com/vi/Fks4dVnTb5M/hqdefault.jpg?sqp=-oaymwEcCNACELwBSFXyq4qpAw4IARUAAIhCGAFwAcABBg==&rs=AOn4CLCpN6SRs504BkLaWh3ANqNHoN6mxw',\n",
       " 'https://i.ytimg.com/vi/nIuGXeISbSo/hqdefault.jpg?sqp=-oaymwEcCNACELwBSFXyq4qpAw4IARUAAIhCGAFwAcABBg==&rs=AOn4CLCghcINT4Se0KVLv5hCY4FEXfcprw',\n",
       " 'https://i.ytimg.com/vi/p9pqo970kjw/hqdefault.jpg?sqp=-oaymwEcCNACELwBSFXyq4qpAw4IARUAAIhCGAFwAcABBg==&rs=AOn4CLDlVV4CbDnqGHS2UuXZ6hPJWtSQkA']"
      ]
     },
     "execution_count": 9,
     "metadata": {},
     "output_type": "execute_result"
    }
   ],
   "source": [
    "thumbs = [thum.get(\"src\") for thum in Thumbs[:5]]\n",
    "thumbs"
   ]
  },
  {
   "cell_type": "markdown",
   "id": "af7364a3-2760-4600-bbaf-5522687b02b2",
   "metadata": {},
   "source": [
    "## Q3. Write a python program to extract the title of the first five videos."
   ]
  },
  {
   "cell_type": "code",
   "execution_count": 10,
   "id": "c3ada48c-2215-4dc5-b86b-d61e41e05f94",
   "metadata": {},
   "outputs": [
    {
     "data": {
      "text/plain": [
       "['How to Study Zoology in Class 11th? Ab Saare Doubts Solve Honge !! 🔥',\n",
       " 'BIGGEST OFFER For Class - 8th ,9th & 10th Students 🤩 || Grab This Opportunity Now 🔥',\n",
       " 'Launching PW प्रयोगशाला 2.0 🔥 || The Unbeatable is Loading...',\n",
       " 'UDAAN Hindi Batch 🔥| Class 10th वालों के बच्चें के लिए Surprises 🎉🎉 #3SaalLajawaab',\n",
       " 'NEEV 2.0 Batch 🔥 | Class 9th वालों के बच्चें के लिए Surprises 🎉🎉 #3SaalLajawaab']"
      ]
     },
     "execution_count": 10,
     "metadata": {},
     "output_type": "execute_result"
    }
   ],
   "source": [
    "videos_title = soup.find_all(\"a\", class_=\"yt-simple-endpoint focus-on-expand style-scope ytd-rich-grid-media\")\n",
    "video_title=[video_url.get(\"title\") for video_url in videos_url[:5]]\n",
    "video_title"
   ]
  },
  {
   "cell_type": "markdown",
   "id": "4558494f-d7a2-48b4-9bdd-404bf6386f12",
   "metadata": {},
   "source": [
    "## Q4. Write a python program to extract the number of views of the first five videos."
   ]
  },
  {
   "cell_type": "code",
   "execution_count": 11,
   "id": "cade1314-d35b-483a-bda6-c61a83d39f24",
   "metadata": {},
   "outputs": [
    {
     "data": {
      "text/plain": [
       "['4.7K views', '16K views', '26K views', '11K views', '18K views']"
      ]
     },
     "execution_count": 11,
     "metadata": {},
     "output_type": "execute_result"
    }
   ],
   "source": [
    "videos_views = soup.find_all(\"span\", class_=\"inline-metadata-item style-scope ytd-video-meta-block\")\n",
    "video_view = [video_view.text for i,video_view in enumerate(videos_views[:10]) if i%2 == 0]\n",
    "video_view"
   ]
  },
  {
   "cell_type": "markdown",
   "id": "e1e00c82-d079-4ef2-aaad-2d6e49a0967e",
   "metadata": {},
   "source": [
    "## Q5. Write a python program to extract the time of posting of video for the first five videos.\n",
    "\n",
    "### Note: \n",
    "1. Save all the data scraped in the above questions in a CSV file.\n",
    "2. Create a simple UI with all functionalities mentioned above and deploy it in AWS.\n",
    "\n",
    "### Note: Create your assignment in Jupyter notebook and upload it to GitHub & share that uploaded assignment file link through your dashboard. Make sure the repository is public. Submit your deployment link as well."
   ]
  },
  {
   "cell_type": "code",
   "execution_count": 12,
   "id": "47626f6f-4f6b-498b-afdf-4be771bfa490",
   "metadata": {},
   "outputs": [
    {
     "data": {
      "text/plain": [
       "['1 day ago', '2 days ago', '2 days ago', '2 days ago', '3 days ago']"
      ]
     },
     "execution_count": 12,
     "metadata": {},
     "output_type": "execute_result"
    }
   ],
   "source": [
    "uploads_times = soup.find_all(\"span\", class_=\"inline-metadata-item style-scope ytd-video-meta-block\")\n",
    "upload_time = [upload_time.text for i, upload_time in enumerate(uploads_times[:10]) if i%2 == 1]\n",
    "upload_time"
   ]
  },
  {
   "cell_type": "code",
   "execution_count": 13,
   "id": "8c5b4626",
   "metadata": {},
   "outputs": [],
   "source": [
    "driver.quit()"
   ]
  },
  {
   "cell_type": "code",
   "execution_count": 14,
   "id": "bb4744fa",
   "metadata": {},
   "outputs": [
    {
     "name": "stdout",
     "output_type": "stream",
     "text": [
      "Data has been saved to video_data.csv.\n"
     ]
    }
   ],
   "source": [
    "csv_filename = 'video_data.csv'\n",
    "with open(csv_filename, 'w', newline='', encoding='utf-8') as csvfile:\n",
    "    writer = csv.writer(csvfile)\n",
    "    writer.writerow(['Video Title', 'View Count', 'Upload Time', 'video link', 'video thumbs link'])\n",
    "    writer.writerows(zip(video_title, video_view, upload_time, video_url,thumbs))\n",
    "print(f'Data has been saved to {csv_filename}.')"
   ]
  },
  {
   "cell_type": "code",
   "execution_count": 15,
   "id": "aa42e127",
   "metadata": {},
   "outputs": [
    {
     "name": "stdout",
     "output_type": "stream",
     "text": [
      "Title: How to Study Zoology in Class 11th? Ab Saare Doubts Solve Honge !! 🔥\n",
      "View Count: 4.7K views\n",
      "Upload Time: 1 day ago\n",
      "url: https://www.youtube.com/watch?v=Fks4dVnTb5M\n",
      "thumbs: https://i.ytimg.com/vi/Fks4dVnTb5M/hqdefault.jpg?sqp=-oaymwEcCNACELwBSFXyq4qpAw4IARUAAIhCGAFwAcABBg==&rs=AOn4CLCpN6SRs504BkLaWh3ANqNHoN6mxw\n",
      "\n",
      "Title: BIGGEST OFFER For Class - 8th ,9th & 10th Students 🤩 || Grab This Opportunity Now 🔥\n",
      "View Count: 16K views\n",
      "Upload Time: 2 days ago\n",
      "url: https://www.youtube.com/watch?v=nIuGXeISbSo\n",
      "thumbs: https://i.ytimg.com/vi/nIuGXeISbSo/hqdefault.jpg?sqp=-oaymwEcCNACELwBSFXyq4qpAw4IARUAAIhCGAFwAcABBg==&rs=AOn4CLCghcINT4Se0KVLv5hCY4FEXfcprw\n",
      "\n",
      "Title: Launching PW प्रयोगशाला 2.0 🔥 || The Unbeatable is Loading...\n",
      "View Count: 26K views\n",
      "Upload Time: 2 days ago\n",
      "url: https://www.youtube.com/watch?v=p9pqo970kjw\n",
      "thumbs: https://i.ytimg.com/vi/p9pqo970kjw/hqdefault.jpg?sqp=-oaymwEcCNACELwBSFXyq4qpAw4IARUAAIhCGAFwAcABBg==&rs=AOn4CLDlVV4CbDnqGHS2UuXZ6hPJWtSQkA\n",
      "\n"
     ]
    }
   ],
   "source": [
    "for title, view, time, url, thumb in zip(video_title, video_view, upload_time, video_url,thumbs):\n",
    "    print(f'Title: {title}\\nView Count: {view}\\nUpload Time: {time}\\nurl: {url}\\nthumbs: {thumb}\\n')"
   ]
  }
 ],
 "metadata": {
  "kernelspec": {
   "display_name": "Python 3 (ipykernel)",
   "language": "python",
   "name": "python3"
  },
  "language_info": {
   "codemirror_mode": {
    "name": "ipython",
    "version": 3
   },
   "file_extension": ".py",
   "mimetype": "text/x-python",
   "name": "python",
   "nbconvert_exporter": "python",
   "pygments_lexer": "ipython3",
   "version": "3.11.3"
  }
 },
 "nbformat": 4,
 "nbformat_minor": 5
}
