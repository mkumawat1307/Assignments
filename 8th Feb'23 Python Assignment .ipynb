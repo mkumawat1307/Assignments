{
 "cells": [
  {
   "cell_type": "markdown",
   "id": "dd32e994",
   "metadata": {},
   "source": [
    "## Q1. What is Abstraction in OOps? Explain with an example."
   ]
  },
  {
   "cell_type": "markdown",
   "id": "793231ab",
   "metadata": {},
   "source": [
    "`Answer`\n",
    "\n",
    "Abstraction is a fundamental concept in Object-Oriented Programming (OOP) that refers to the ability to focus on essential features of an object while hiding its complex implementation details. Abstraction allows us to represent complex systems in a simplified manner, making it easier to understand and work with them.\n",
    "\n",
    "In Python, we can implement abstraction through abstract classes and abstract methods. An abstract class is a class that contains one or more abstract methods. An abstract method is a method that has a declaration but does not have an implementation. Instead, the implementation of the abstract method is provided by the subclasses that inherit from the abstract class.\n",
    "\n",
    "Let's take an example to understand how abstraction works in Python. Consider a scenario where we need to create a program that calculates the area of different shapes such as circles, rectangles, and triangles. We can define an abstract class Shape that contains an abstract method area():"
   ]
  },
  {
   "cell_type": "code",
   "execution_count": 3,
   "id": "ff75e263",
   "metadata": {},
   "outputs": [],
   "source": [
    "from abc import ABC, abstractmethod\n",
    "\n",
    "class Shape(ABC):\n",
    "    @abstractmethod\n",
    "    def area(self):\n",
    "        pass\n"
   ]
  },
  {
   "cell_type": "markdown",
   "id": "f276d7a7",
   "metadata": {},
   "source": [
    "In the above code, we have defined an abstract class Shape that contains an abstract method area(). The @abstractmethod decorator is used to indicate that this method is abstract and does not have an implementation.\n",
    "\n",
    "Next, we can create concrete subclasses Circle, Rectangle, and Triangle that inherit from the Shape class and provide implementations for the area() method:"
   ]
  },
  {
   "cell_type": "code",
   "execution_count": 4,
   "id": "76cc9209",
   "metadata": {},
   "outputs": [],
   "source": [
    "class Circle(Shape):\n",
    "    def __init__(self, radius):\n",
    "        self.radius = radius\n",
    "    \n",
    "    def area(self):\n",
    "        return 3.14 * self.radius ** 2\n",
    "\n",
    "class Rectangle(Shape):\n",
    "    def __init__(self, width, height):\n",
    "        self.width = width\n",
    "        self.height = height\n",
    "    \n",
    "    def area(self):\n",
    "        return self.width * self.height\n",
    "\n",
    "class Triangle(Shape):\n",
    "    def __init__(self, base, height):\n",
    "        self.base = base\n",
    "        self.height = height\n",
    "    \n",
    "    def area(self):\n",
    "        return 0.5 * self.base * self.height\n"
   ]
  },
  {
   "cell_type": "markdown",
   "id": "05a83d5f",
   "metadata": {},
   "source": [
    "In the above code, we have created three subclasses Circle, Rectangle, and Triangle that inherit from the Shape class and provide implementations for the area() method.\n",
    "\n",
    "Now, we can create instances of the concrete subclasses and use their area() methods to calculate the area of different shapes:"
   ]
  },
  {
   "cell_type": "code",
   "execution_count": 6,
   "id": "d8480abf",
   "metadata": {},
   "outputs": [
    {
     "name": "stdout",
     "output_type": "stream",
     "text": [
      "78.5\n",
      "24\n",
      "12.0\n"
     ]
    }
   ],
   "source": [
    "circle = Circle(5)\n",
    "rectangle = Rectangle(4, 6)\n",
    "triangle = Triangle(3, 8)\n",
    "\n",
    "print(circle.area())    \n",
    "print(rectangle.area())    \n",
    "print(triangle.area())     \n"
   ]
  },
  {
   "cell_type": "markdown",
   "id": "b153a65b",
   "metadata": {},
   "source": [
    "## Q2. Differentiate between Abstraction and Encapsulation. Explain with an example."
   ]
  },
  {
   "cell_type": "markdown",
   "id": "f6b77745",
   "metadata": {},
   "source": [
    "`Answer`\n",
    "\n",
    "`Abstraction` is the process of identifying the essential features of a class and hiding the implementation details. It focuses on what an object does, rather than how it does it. Abstraction helps to simplify the complexity of a system by hiding the non-essential details and exposing only the necessary features to the user.\n",
    "\n",
    "`Encapsulation`, on the other hand, is the process of wrapping the data and code that operate on that data into a single entity, i.e., a class. It is used to restrict direct access to the data and ensure that it is accessed only through well-defined methods or interfaces. Encapsulation provides data security and enhances code maintainability by limiting the direct interaction with the internal state of an object.\n",
    "\n",
    "To better understand the difference between abstraction and encapsulation, let's consider an example of a banking system:\n",
    "\n",
    "`Abstraction:` In a banking system, a customer can perform various operations such as deposit, withdrawal, balance inquiry, etc. However, the customer does not need to know how the bank system manages these operations internally. The bank system can abstract the essential features of these operations, i.e., the inputs and outputs, and expose them to the customer through a well-defined interface, such as a web or mobile application.\n",
    "\n",
    "`Encapsulation:` In a banking system, the customer's account details, such as account number, balance, and transaction history, are sensitive data that should not be accessed directly by anyone. Therefore, the bank system can encapsulate this data by creating a class that represents the customer's account and its associated methods, such as deposit, withdrawal, and balance inquiry. These methods would operate on the account data, ensuring that the data remains secure and is accessed only through the appropriate methods.\n",
    "\n",
    "In summary, abstraction and encapsulation are two important concepts of object-oriented programming that play different roles. Abstraction is used to hide implementation details and focus on essential features, while encapsulation is used to protect data and code by wrapping them into a single entity."
   ]
  },
  {
   "cell_type": "markdown",
   "id": "ec0cabd3",
   "metadata": {},
   "source": [
    "## Q3. What is abc module in python? Why is it used?"
   ]
  },
  {
   "cell_type": "markdown",
   "id": "ece76fb0",
   "metadata": {},
   "source": [
    "`Answer`\n",
    "\n",
    "The `abc` module in Python stands for `\"Abstract Base Classes\"`. It is a built-in module that provides a way to define abstract classes in Python.\n",
    "\n",
    "An abstract class is a class that cannot be instantiated directly, but can be subclassed. Abstract classes define a set of methods that must be implemented by its concrete subclasses, but they do not provide an implementation for those methods themselves. Instead, they only define the method signature (name, parameters, and return type) and any constraints on their behavior.\n",
    "\n",
    "The abc module provides the ABC class, which is a metaclass that can be used to create abstract base classes. This class also provides decorators like @abstractmethod and @abstractproperty that can be used to declare abstract methods and properties respectively.\n",
    "\n",
    "The abc module is used to enforce a certain behavior in classes that inherit from an abstract base class. By defining abstract methods and properties, it allows developers to define a common interface for a group of related classes, without specifying the implementation details. This can be useful in scenarios where the exact implementation details are not known in advance or where multiple implementations are possible.\n",
    "\n",
    "In summary, the abc module in Python is used to define abstract base classes and enforce a common interface for a group of related classes."
   ]
  },
  {
   "cell_type": "markdown",
   "id": "4ab12ed6",
   "metadata": {},
   "source": [
    "## Q4. How can we achieve data abstraction?"
   ]
  },
  {
   "cell_type": "markdown",
   "id": "232c3a28",
   "metadata": {},
   "source": [
    "`Answer`\n",
    "\n",
    "abstraction can be achieved by having/using abstract classes and methods in our programs. Understanding Abstract Methods and Classes: An abstract method is a method that is declared, but does not contain implementation."
   ]
  },
  {
   "cell_type": "markdown",
   "id": "a3d53c84",
   "metadata": {},
   "source": [
    "## Q5. Can we create an instance of an abstract class? Explain your answer."
   ]
  },
  {
   "cell_type": "markdown",
   "id": "846b63b6",
   "metadata": {},
   "source": [
    "`Answer`\n",
    "\n",
    "No, we cannot create an instance of an abstract class in Python.\n",
    "\n",
    "An abstract class is a class that contains one or more abstract methods, which are methods that have a declaration but no implementation. An abstract class cannot be instantiated because it is incomplete and lacks a complete implementation.\n",
    "\n",
    "In Python, we can create an abstract class using the abc module. This module provides a base class called ABC (Abstract Base Class), which is used to define abstract classes. To create an abstract class, we need to inherit from ABC and use the @abstractmethod decorator to mark the methods as abstract."
   ]
  }
 ],
 "metadata": {
  "kernelspec": {
   "display_name": "Python 3 (ipykernel)",
   "language": "python",
   "name": "python3"
  },
  "language_info": {
   "codemirror_mode": {
    "name": "ipython",
    "version": 3
   },
   "file_extension": ".py",
   "mimetype": "text/x-python",
   "name": "python",
   "nbconvert_exporter": "python",
   "pygments_lexer": "ipython3",
   "version": "3.10.9"
  }
 },
 "nbformat": 4,
 "nbformat_minor": 5
}
