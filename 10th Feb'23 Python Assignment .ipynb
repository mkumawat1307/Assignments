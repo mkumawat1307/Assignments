{
 "cells": [
  {
   "cell_type": "markdown",
   "id": "8881d520",
   "metadata": {},
   "source": [
    "## Q1. Which function is used to open a file? What are the different modes of opening a file? Explain each mode of file opening."
   ]
  },
  {
   "cell_type": "markdown",
   "id": "3640b231-1eb6-4e00-ab45-06490b920281",
   "metadata": {},
   "source": [
    "`Answer`\n",
    "\n",
    "When we want to read from or write to a file, we need to open it first. When we are done, it needs to be closed so that the resources that are tied with the file are freed.\n",
    "\n",
    "Hence, in Python, a file operation takes place in the following order:\n",
    "\n",
    "1. Open a file\n",
    "2. Read or write (perform operation)\n",
    "3. Close the file\n",
    "\n",
    "`file1 = open(\"test.txt\", \"r\")`\n",
    "\n",
    "#### different modes of opening a file\n",
    "\n",
    "* `r`----------Open a file for reading. (default)\n",
    "* `w`----------Open a file for writing. Creates a new file if it does not exist or truncates the file if it exists.\n",
    "* `x`----------Open a file for exclusive creation. If the file already exists, the operation fails.\n",
    "* `a`----------Open a file for appending at the end of the file without truncating it. Creates a new file if it does not exist.\n",
    "* `t`----------Open in text mode. (default)\n",
    "* `b`----------Open in binary mode.\n",
    "* `+`----------Open a file for updating (reading and writing)"
   ]
  },
  {
   "cell_type": "markdown",
   "id": "a4761dfa",
   "metadata": {},
   "source": [
    "## Q2. Why close() function is used? Why is it important to close a file?"
   ]
  },
  {
   "cell_type": "markdown",
   "id": "2bde4318-bdf9-4d9f-8319-eb3130341f16",
   "metadata": {},
   "source": [
    "`Answer`\n",
    "\n",
    "The close() method closes an open file. You should always close your files, in some cases, due to buffering, changes made to a file may not show until you close the file"
   ]
  },
  {
   "cell_type": "markdown",
   "id": "58f328c4",
   "metadata": {},
   "source": [
    "## Q3. Write a python program to create a text file. Write ‘I want to become a Data Scientist’ in that file. Then close the file. Open this file and read the content of the file."
   ]
  },
  {
   "cell_type": "code",
   "execution_count": 2,
   "id": "456bc883",
   "metadata": {},
   "outputs": [],
   "source": [
    "file = open(\"test.txt\",\"w\")\n",
    "file.write(\"I want to become a Data Scientist\")\n",
    "file.close()\n"
   ]
  },
  {
   "cell_type": "code",
   "execution_count": 3,
   "id": "0dbdd53e-6c5e-4d7c-a82c-3600d2515818",
   "metadata": {},
   "outputs": [
    {
     "data": {
      "text/plain": [
       "'I want to become a Data Scientist'"
      ]
     },
     "execution_count": 3,
     "metadata": {},
     "output_type": "execute_result"
    }
   ],
   "source": [
    "file = open(\"test.txt\",\"r\")\n",
    "file.read()"
   ]
  },
  {
   "cell_type": "markdown",
   "id": "4ed68de3",
   "metadata": {},
   "source": [
    "## Q4. Explain the following with python code: read(), readline() and readlines()."
   ]
  },
  {
   "cell_type": "markdown",
   "id": "07a4673f-88e6-4584-81f0-b8b87d8e815f",
   "metadata": {},
   "source": [
    "`Answer`\n",
    "\n",
    "1. `read()` The read method reads the entire contents of a file and returns it as a string.\n",
    "2.  `readline()` The readline method reads a single line from a file and returns it as a string. This means that if you use readline, you can read the contents of a file line by line, which can be useful for processing large files that do not fit in memory.\n",
    "3. `readlines()` The readline method reads a single line from a file and returns it as a string, while the readlines method reads the entire contents of a file and returns it as a list of strings, where each element of the list is a single line of the file."
   ]
  },
  {
   "cell_type": "markdown",
   "id": "daaf3cba",
   "metadata": {},
   "source": [
    "## Q5. Explain why with statement is used with open(). What is the advantage of using with statement and open() together?"
   ]
  },
  {
   "cell_type": "markdown",
   "id": "ff59a3c7-e071-45dc-b44f-29c8de90568d",
   "metadata": {},
   "source": [
    "`Answer`\n",
    "\n",
    "In python to read or write a file, we need first to open it and python provides a function `open()`, which returns a file object. Using this file object, we can read and write in the file. But in the end, we need to close this file using `close()` method.\n",
    "\n",
    "Unlike `open()` where you have to close the file with the `close()` method, the with statement closes the file for you without you telling it to This is because the `with` statement calls 2 built-in methods behind the scene – `__enter()__` and `__exit()__`.\n",
    "\n",
    "The `__exit()__` method closes the file when the operation you specify is done."
   ]
  },
  {
   "cell_type": "markdown",
   "id": "9fa05d83",
   "metadata": {},
   "source": [
    "## Q6. Explain the write() and writelines() functions. Give a suitable example."
   ]
  },
  {
   "cell_type": "markdown",
   "id": "c1cded0a-c30c-4836-ba4b-2655ab0cfc0c",
   "metadata": {},
   "source": [
    "`Answer`\n",
    "\n",
    "`write() function`  The write() function will write the content in the file without adding any extra characters.\n",
    "\n",
    "`Syntax:`  file_name.write(content) \n",
    "\n",
    "As per the syntax, the string that is passed to the write() function is written into the opened file. The string may include numbers, special characters, or symbols. While writing data to a file, we must know that the write function does not add a newline character(\\n) to the end of the string. The write() function returns None."
   ]
  },
  {
   "cell_type": "code",
   "execution_count": 5,
   "id": "798ce953-0f70-4bd8-abce-4077261e7a97",
   "metadata": {},
   "outputs": [
    {
     "name": "stdin",
     "output_type": "stream",
     "text": [
      "Enter the name of the employee:  manish\n",
      "Enter the name of the employee:  sudh\n",
      "Enter the name of the employee:  krish\n"
     ]
    },
    {
     "name": "stdout",
     "output_type": "stream",
     "text": [
      "Data is written into the file.\n"
     ]
    }
   ],
   "source": [
    "file = open(\"Employees.txt\", \"w\")\n",
    "\n",
    "for i in range(3):\n",
    "    name = input(\"Enter the name of the employee: \")\n",
    "    file.write(name)\n",
    "    file.write(\"\\n\")\n",
    "\t\n",
    "file.close()\n",
    "\n",
    "print(\"Data is written into the file.\")"
   ]
  },
  {
   "cell_type": "markdown",
   "id": "72ce28f0-b2f1-42ee-94c1-4fb61913de83",
   "metadata": {},
   "source": [
    "`writelines() function`  This function writes the content of a list to a file.\n",
    "\n",
    "`Syntax:` file_name.writelines(list_of_lines)\n",
    "\n",
    "the list of strings that is passed to the writelines() function is written into the opened file. Similar to the write() function, the writelines() function does not add a newline character(\\n) to the end of the string."
   ]
  },
  {
   "cell_type": "code",
   "execution_count": 6,
   "id": "e0f7c1c3-c19e-4b2e-a290-4c934f6def7d",
   "metadata": {},
   "outputs": [
    {
     "name": "stdin",
     "output_type": "stream",
     "text": [
      "Enter the name of the employee:  manish\n",
      "Enter the name of the employee:  sudh\n",
      "Enter the name of the employee:  krish\n"
     ]
    },
    {
     "name": "stdout",
     "output_type": "stream",
     "text": [
      "Data is written into the file.\n"
     ]
    }
   ],
   "source": [
    "file1 = open(\"Employees.txt\", \"w\")\n",
    "lst = []\n",
    "for i in range(3):\n",
    "\tname = input(\"Enter the name of the employee: \")\n",
    "\tlst.append(name + '\\n')\n",
    "\t\n",
    "file1.writelines(lst)\n",
    "file1.close()\n",
    "print(\"Data is written into the file.\")"
   ]
  },
  {
   "cell_type": "markdown",
   "id": "0e2b1777-c298-4ec1-8a6a-dbea1bab4535",
   "metadata": {},
   "source": [
    "The only difference between the write() and writelines() is that write() is used to write a string to an already opened file while writelines() method is used to write a list of strings in an opened file."
   ]
  }
 ],
 "metadata": {
  "kernelspec": {
   "display_name": "Python 3 (ipykernel)",
   "language": "python",
   "name": "python3"
  },
  "language_info": {
   "codemirror_mode": {
    "name": "ipython",
    "version": 3
   },
   "file_extension": ".py",
   "mimetype": "text/x-python",
   "name": "python",
   "nbconvert_exporter": "python",
   "pygments_lexer": "ipython3",
   "version": "3.10.8"
  }
 },
 "nbformat": 4,
 "nbformat_minor": 5
}
