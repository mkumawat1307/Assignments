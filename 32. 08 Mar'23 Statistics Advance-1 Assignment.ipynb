{
 "cells": [
  {
   "cell_type": "markdown",
   "id": "ffa98619-1056-4334-9b73-0036eedc4219",
   "metadata": {},
   "source": [
    "## Q1. What is the Probability density function?"
   ]
  },
  {
   "cell_type": "markdown",
   "id": "4bd72b97-14c0-4d43-b75b-48b5931d48ec",
   "metadata": {},
   "source": [
    "`Answer`\n",
    "\n",
    "The Probability Density Function(PDF) defines the probability function representing the density of a continuous random variable lying between a specific range of values. In other words, the probability density function produces the likelihood of values of the continuous random variable."
   ]
  },
  {
   "cell_type": "markdown",
   "id": "8452b523-3c0e-41f3-a735-1be3ee1ff643",
   "metadata": {},
   "source": [
    "## Q2. What are the types of Probability distribution?"
   ]
  },
  {
   "cell_type": "markdown",
   "id": "d85fc4e0-906b-4769-8930-6afa80b221eb",
   "metadata": {},
   "source": [
    "`Answer`\n",
    "\n",
    "1. Bernoulli Distribution\n",
    "2. Binomial Distribution\n",
    "3. Poisson Distribution\n",
    "4. Normal or Gaussian Distribution\n",
    "5. Uniform Distribution\n",
    "6. Exponential Distribution"
   ]
  },
  {
   "cell_type": "markdown",
   "id": "379624ea-6a82-4b1f-8fef-348192b0d7bc",
   "metadata": {},
   "source": [
    "## Q3. Write a Python function to calculate the probability density function of a normal distribution with given mean and standard deviation at a given point."
   ]
  },
  {
   "cell_type": "code",
   "execution_count": 5,
   "id": "06febc6a-0b75-4fe8-86c1-fb3e6d1a4058",
   "metadata": {},
   "outputs": [],
   "source": [
    "import scipy.stats as stats\n",
    "\n",
    "def calculate_normal_pdf(mean, std_dev, x):\n",
    "    # Create a normal distribution object\n",
    "    norm_dist = stats.norm(mean, std_dev)\n",
    "    \n",
    "    # Calculate the PDF at the given point\n",
    "    pdf = norm_dist.pdf(x)\n",
    "    \n",
    "    return pdf"
   ]
  },
  {
   "cell_type": "code",
   "execution_count": 6,
   "id": "671709f4-eb8b-47df-ae22-abede70a6683",
   "metadata": {},
   "outputs": [
    {
     "name": "stdout",
     "output_type": "stream",
     "text": [
      "PDF at x = 1.5: 0.12951759566589174\n"
     ]
    }
   ],
   "source": [
    "mean = 0\n",
    "std_dev = 1\n",
    "x = 1.5\n",
    "\n",
    "pdf = calculate_normal_pdf(mean, std_dev, x)\n",
    "print(f\"PDF at x = {x}: {pdf}\")"
   ]
  },
  {
   "cell_type": "markdown",
   "id": "553c6608-3127-4d93-901b-d4ef7806090c",
   "metadata": {},
   "source": [
    "## Q4. What are the properties of Binomial distribution? Give two examples of events where binomial distribution can be applied."
   ]
  },
  {
   "cell_type": "markdown",
   "id": "6618f824-7757-4e17-924f-1d20df22eb5c",
   "metadata": {},
   "source": [
    "`Answer`\n",
    "\n",
    "1. Fixed number of trials: The binomial distribution represents a fixed number of independent trials, denoted by 'n'.\n",
    "2. Independent trials: Each trial in the binomial distribution is independent, meaning the outcome of one trial does not affect the outcomes of other trials.\n",
    "3. Two possible outcomes: Each trial in the binomial distribution can have only two possible outcomes: success or failure.\n",
    "4. Constant probability of success: The probability of success, denoted by 'p', remains constant for each trial.\n",
    "5. Discrete distribution: The binomial distribution is a discrete distribution, meaning it is defined for whole numbers only.\n",
    "\n",
    "Two examples of events where the binomial distribution can be applied are:\n",
    "1. The number of votes collected by a candidate in an election is counted based on 0 or 1 probability.\n",
    "2. To find the number of male and female employees in an organisation."
   ]
  },
  {
   "cell_type": "markdown",
   "id": "90ed3659-c3a4-43fa-b1aa-632b4100df39",
   "metadata": {},
   "source": [
    "## Q5. Generate a random sample of size 1000 from a binomial distribution with probability of success 0.4 and plot a histogram of the results using matplotlib."
   ]
  },
  {
   "cell_type": "code",
   "execution_count": 7,
   "id": "b96a5b9d-1b52-4fb8-ad4e-8ddbfe729507",
   "metadata": {},
   "outputs": [
    {
     "data": {
      "text/plain": [
       "array([1, 1, 0, 0, 1, 0, 0, 0, 0, 0, 0, 0, 0, 0, 0, 0, 1, 0, 1, 0, 0, 0,\n",
       "       0, 0, 0, 1, 0, 0, 1, 1, 1, 1, 0, 0, 1, 0, 1, 0, 1, 0, 1, 0, 1, 1,\n",
       "       0, 0, 0, 1, 0, 0, 1, 0, 1, 0, 1, 0, 1, 0, 0, 1, 1, 1, 1, 0, 0, 0,\n",
       "       0, 0, 0, 0, 1, 1, 0, 0, 0, 0, 0, 1, 0, 1, 0, 0, 1, 1, 0, 1, 0, 0,\n",
       "       0, 0, 0, 0, 0, 1, 0, 0, 0, 0, 0, 0, 1, 1, 0, 1, 1, 0, 0, 0, 1, 0,\n",
       "       0, 0, 1, 1, 1, 1, 0, 0, 1, 1, 1, 0, 1, 1, 0, 0, 0, 0, 1, 0, 1, 0,\n",
       "       1, 0, 1, 0, 0, 1, 0, 1, 1, 0, 1, 0, 1, 0, 1, 0, 0, 0, 1, 0, 0, 1,\n",
       "       0, 0, 0, 1, 1, 0, 1, 1, 1, 1, 0, 1, 1, 1, 0, 1, 0, 1, 0, 0, 0, 0,\n",
       "       1, 0, 0, 1, 1, 0, 0, 0, 0, 0, 1, 0, 0, 1, 0, 0, 0, 0, 1, 1, 1, 1,\n",
       "       0, 0, 0, 0, 0, 1, 0, 1, 0, 1, 1, 0, 0, 0, 1, 1, 0, 1, 1, 0, 1, 1,\n",
       "       1, 0, 0, 0, 0, 0, 0, 0, 0, 0, 0, 0, 1, 0, 1, 0, 1, 0, 0, 1, 1, 1,\n",
       "       1, 0, 1, 0, 0, 1, 0, 0, 0, 1, 0, 1, 0, 0, 0, 0, 0, 0, 1, 1, 1, 0,\n",
       "       1, 1, 0, 1, 0, 1, 0, 1, 0, 0, 0, 0, 1, 0, 1, 0, 0, 0, 0, 1, 0, 1,\n",
       "       0, 0, 0, 1, 1, 0, 0, 1, 0, 0, 1, 1, 0, 1, 1, 0, 1, 1, 1, 1, 0, 1,\n",
       "       1, 1, 1, 1, 0, 0, 0, 0, 0, 0, 1, 0, 1, 0, 1, 0, 0, 1, 0, 0, 1, 0,\n",
       "       0, 0, 1, 1, 0, 0, 1, 0, 0, 0, 0, 0, 1, 1, 0, 1, 1, 0, 1, 0, 0, 0,\n",
       "       1, 0, 0, 1, 0, 0, 0, 0, 0, 0, 1, 0, 1, 0, 0, 0, 0, 0, 1, 0, 1, 1,\n",
       "       0, 0, 1, 1, 0, 0, 0, 1, 1, 1, 0, 1, 0, 0, 1, 0, 0, 0, 0, 0, 0, 0,\n",
       "       1, 0, 0, 0, 1, 0, 1, 0, 1, 1, 0, 1, 0, 0, 0, 1, 0, 0, 0, 0, 0, 0,\n",
       "       0, 1, 0, 0, 0, 0, 0, 1, 0, 0, 0, 0, 0, 0, 0, 1, 0, 0, 1, 0, 0, 0,\n",
       "       1, 0, 0, 0, 1, 1, 0, 1, 0, 0, 1, 0, 0, 1, 1, 0, 0, 0, 0, 0, 0, 0,\n",
       "       0, 0, 0, 1, 1, 1, 0, 1, 0, 1, 0, 1, 1, 1, 0, 0, 1, 0, 0, 0, 1, 1,\n",
       "       0, 1, 1, 0, 1, 1, 0, 0, 0, 0, 1, 0, 0, 0, 0, 0, 1, 1, 0, 0, 1, 0,\n",
       "       1, 0, 1, 0, 0, 1, 0, 0, 1, 0, 1, 0, 0, 0, 0, 0, 0, 0, 1, 1, 0, 0,\n",
       "       1, 0, 1, 0, 0, 0, 1, 0, 0, 1, 1, 0, 1, 1, 1, 0, 0, 0, 1, 0, 1, 0,\n",
       "       1, 1, 0, 0, 0, 0, 1, 1, 1, 0, 1, 0, 1, 0, 1, 0, 0, 1, 1, 0, 1, 1,\n",
       "       0, 1, 0, 0, 1, 1, 0, 1, 1, 0, 0, 0, 0, 0, 0, 0, 0, 1, 0, 1, 1, 1,\n",
       "       0, 0, 1, 1, 1, 0, 0, 0, 0, 0, 1, 1, 0, 1, 0, 1, 0, 0, 0, 1, 0, 0,\n",
       "       1, 1, 0, 0, 0, 1, 1, 0, 0, 1, 1, 1, 1, 0, 0, 1, 1, 0, 1, 0, 1, 1,\n",
       "       0, 0, 0, 0, 0, 0, 0, 0, 1, 0, 0, 0, 0, 1, 0, 0, 1, 1, 1, 0, 0, 1,\n",
       "       1, 0, 1, 0, 1, 0, 1, 0, 0, 1, 0, 0, 0, 0, 0, 1, 0, 1, 1, 0, 0, 0,\n",
       "       0, 0, 1, 1, 0, 0, 1, 1, 0, 1, 0, 1, 0, 1, 0, 1, 1, 1, 0, 0, 0, 0,\n",
       "       0, 0, 0, 0, 0, 0, 0, 0, 0, 1, 0, 0, 0, 0, 0, 0, 0, 0, 0, 0, 0, 1,\n",
       "       0, 0, 0, 0, 1, 0, 0, 0, 0, 1, 0, 0, 0, 1, 1, 1, 0, 0, 1, 0, 1, 1,\n",
       "       1, 0, 0, 0, 1, 1, 0, 0, 0, 1, 0, 0, 1, 1, 0, 0, 1, 1, 0, 1, 0, 0,\n",
       "       0, 1, 0, 1, 0, 0, 1, 0, 1, 1, 0, 0, 1, 0, 1, 1, 0, 1, 1, 0, 1, 0,\n",
       "       0, 0, 1, 1, 0, 1, 0, 1, 0, 1, 1, 1, 0, 0, 1, 0, 1, 0, 1, 1, 1, 0,\n",
       "       0, 1, 0, 0, 0, 0, 1, 1, 1, 0, 1, 1, 0, 0, 1, 0, 1, 0, 0, 0, 0, 1,\n",
       "       0, 1, 0, 1, 1, 0, 0, 1, 0, 1, 0, 0, 0, 0, 1, 0, 1, 0, 0, 0, 0, 0,\n",
       "       0, 0, 1, 1, 0, 0, 1, 1, 0, 0, 1, 0, 0, 0, 1, 0, 0, 0, 0, 0, 1, 0,\n",
       "       0, 0, 1, 0, 1, 1, 0, 0, 0, 0, 1, 0, 0, 1, 0, 0, 0, 0, 1, 1, 0, 1,\n",
       "       1, 0, 0, 1, 0, 0, 0, 1, 0, 1, 1, 0, 0, 0, 0, 1, 0, 0, 1, 0, 0, 0,\n",
       "       0, 1, 0, 1, 1, 0, 0, 1, 0, 1, 0, 0, 0, 1, 1, 0, 0, 0, 0, 1, 1, 1,\n",
       "       1, 1, 0, 1, 1, 0, 1, 0, 0, 1, 1, 1, 0, 0, 0, 0, 0, 0, 0, 0, 0, 1,\n",
       "       0, 0, 1, 1, 0, 0, 0, 0, 1, 1, 0, 1, 1, 1, 1, 1, 0, 0, 0, 0, 0, 0,\n",
       "       1, 0, 1, 1, 1, 0, 0, 0, 1, 1])"
      ]
     },
     "execution_count": 7,
     "metadata": {},
     "output_type": "execute_result"
    }
   ],
   "source": [
    "import numpy as np\n",
    "import matplotlib.pyplot as plt\n",
    "sample_size = 1000\n",
    "probability_of_success = 0.4\n",
    "\n",
    "sample = np.random.binomial(1, probability_of_success, size=sample_size)\n",
    "sample"
   ]
  },
  {
   "cell_type": "code",
   "execution_count": 8,
   "id": "1b76e7fb-49d1-4ffc-8738-4f8c28340eff",
   "metadata": {},
   "outputs": [
    {
     "data": {
      "image/png": "[encoded data removed]",
      "text/plain": [
       "<Figure size 640x480 with 1 Axes>"
      ]
     },
     "metadata": {},
     "output_type": "display_data"
    }
   ],
   "source": [
    "# Plot histogram\n",
    "plt.hist(sample, bins=2, edgecolor='black')\n",
    "plt.xlabel('Success or Failure')\n",
    "plt.ylabel('Frequency')\n",
    "plt.title('Binomial Distribution')\n",
    "plt.xticks([0, 1], ['Failure', 'Success'])\n",
    "plt.show()"
   ]
  },
  {
   "cell_type": "markdown",
   "id": "b9b91609-68ab-4cf3-9805-c04b31fd7e1e",
   "metadata": {},
   "source": [
    "## Q6. Write a Python function to calculate the cumulative distribution function of a Poisson distribution with given mean at a given point."
   ]
  },
  {
   "cell_type": "code",
   "execution_count": 9,
   "id": "629e1c8b-7ebd-4fa1-8ece-655cd9d3738d",
   "metadata": {},
   "outputs": [],
   "source": [
    "import math\n",
    "\n",
    "def poisson_cdf(mean, k):\n",
    "    if mean < 0 or k < 0:\n",
    "        raise ValueError(\"Mean and k must be non-negative.\")\n",
    "    \n",
    "    cdf = 0.0\n",
    "    for i in range(k + 1):\n",
    "        cdf += math.exp(-mean) * (mean ** i) / math.factorial(i)\n",
    "    \n",
    "    return cdf"
   ]
  },
  {
   "cell_type": "code",
   "execution_count": 10,
   "id": "53e156f5-dfa0-4e41-a469-2218c19065e9",
   "metadata": {},
   "outputs": [
    {
     "name": "stdout",
     "output_type": "stream",
     "text": [
      "CDF at point 4 is 0.8911780189141512\n"
     ]
    }
   ],
   "source": [
    "mean = 2.5\n",
    "point = 4\n",
    "cdf_value = poisson_cdf(mean, point)\n",
    "print(\"CDF at point\", point, \"is\", cdf_value)"
   ]
  },
  {
   "cell_type": "markdown",
   "id": "47177d25-208e-43ab-835b-c7ad58c7e5ba",
   "metadata": {},
   "source": [
    "## Q7. How Binomial distribution different from Poisson distribution?"
   ]
  },
  {
   "cell_type": "markdown",
   "id": "cc11a52a-6606-43c4-b02f-57a91c2462bf",
   "metadata": {},
   "source": [
    "`Answer`\n",
    "\n",
    "Differences between Binomial and Poisson distributions:\n",
    "\n",
    "1. Number of Trials: The binomial distribution requires a fixed number of trials (n), while the Poisson distribution does not have a predetermined number of trials.\n",
    "\n",
    "2. Probability of Success: In the binomial distribution, each trial has the same probability of success (p). In the Poisson distribution, there is no concept of success or failure, and the parameter λ represents the average rate at which events occur.\n",
    "\n",
    "3. Range of Values: The binomial distribution is defined for a discrete range of values from 0 to n, while the Poisson distribution extends from 0 to infinity.\n",
    "\n",
    "4. Assumptions: The binomial distribution assumes that the trials are independent and that the probability of success remains constant across trials. The Poisson distribution assumes that the events occur randomly and independently over time or space.\n",
    "\n",
    "In summary, the binomial distribution models the number of successes in a fixed number of trials with a constant probability of success, while the Poisson distribution models the number of events occurring within a fixed interval with a known average rate"
   ]
  },
  {
   "cell_type": "markdown",
   "id": "8771c39b-134e-441e-a79a-1d489778d113",
   "metadata": {},
   "source": [
    "## Q8. Generate a random sample of size 1000 from a Poisson distribution with mean 5 and calculate the sample mean and variance."
   ]
  },
  {
   "cell_type": "code",
   "execution_count": 11,
   "id": "56f288cc-a35f-4ff5-be42-b98705ecb1b6",
   "metadata": {},
   "outputs": [
    {
     "data": {
      "text/plain": [
       "array([ 4,  6,  7,  4,  3,  5,  7,  1,  7,  4,  7,  3,  5,  2,  7,  7,  3,\n",
       "        7,  7,  6,  4, 11,  6,  5,  3,  5,  5,  5, 11,  7,  2,  5,  8,  4,\n",
       "        5,  2,  6,  2,  2,  7,  3,  5,  5,  5,  5,  5,  6,  9,  4,  4,  7,\n",
       "        1,  5,  5,  9,  3,  4,  7,  5,  7,  4,  4,  3,  5,  5,  4,  1,  4,\n",
       "        6,  5,  9,  3,  4,  5,  1,  4,  6,  3,  4,  4,  4,  6,  3,  5,  0,\n",
       "        7,  4,  6,  4,  7,  4,  2,  6,  3,  7,  2,  4,  3,  4,  8,  5,  9,\n",
       "        5,  5,  2,  4,  6,  0,  6,  7,  6,  6,  2,  2,  7,  5,  4,  6,  3,\n",
       "        5,  7,  4,  3,  4,  7,  3,  4,  5,  4,  7,  4,  4,  2,  4,  5,  5,\n",
       "        4,  6,  4,  7,  5,  2,  5,  2,  6,  9,  6,  6,  5,  5,  4,  3,  7,\n",
       "        6,  5,  5,  4,  5,  6,  9,  3,  5,  6,  6,  4,  2,  3,  5,  7,  4,\n",
       "        2,  3,  6,  6,  3,  1,  6,  4,  2,  8,  5,  3,  4,  5,  0,  8,  9,\n",
       "        4,  1,  6,  9,  4,  8,  7,  5,  5,  5, 12,  6,  2,  5,  5,  3,  4,\n",
       "        4,  6,  7,  4,  4,  7,  7,  6,  8,  3,  5,  6,  5,  8,  4,  2,  5,\n",
       "        6,  7,  6,  6,  2,  6,  6,  3,  4,  2,  7,  8,  2,  4,  3,  4,  7,\n",
       "        3,  7,  3, 11,  3,  5,  7,  3,  6,  6, 10,  7,  2,  2,  5,  1,  3,\n",
       "        5,  6,  5,  0,  5, 12,  4,  7,  1,  4,  5,  5,  2,  7,  4,  2,  4,\n",
       "        5,  5,  7,  8,  5,  4,  4,  3,  6,  5, 10,  6,  5,  9,  3,  7,  4,\n",
       "        3,  5,  2,  3,  3,  5,  6,  7,  5,  5,  8,  2,  6,  3,  2,  3,  5,\n",
       "        6,  7,  4,  3,  6,  6,  4,  5,  4,  7,  3,  7,  6,  2,  2,  3,  6,\n",
       "        8,  3,  4,  6,  4,  6,  4,  5,  6,  4,  9,  5,  7,  4,  3,  6,  6,\n",
       "        2,  6,  3,  5,  4,  5,  7,  4,  5,  6,  3,  3,  5,  5,  3,  2,  1,\n",
       "        4,  2,  6,  5,  8,  9,  7,  5,  5,  5,  5,  4,  6,  3,  4,  2,  5,\n",
       "        5,  4,  5,  7,  5,  7,  3,  8,  2,  4,  6,  7,  1,  4,  2,  6,  2,\n",
       "        4,  2,  3,  5,  5,  1,  5,  3,  2,  3,  9,  9,  7,  5,  2,  5,  2,\n",
       "        4,  8,  7,  5,  3,  4,  4,  3,  3,  4,  4,  5,  3,  5,  6,  9,  6,\n",
       "        5,  2,  5,  7,  4,  9,  9,  5,  7,  9,  4,  4,  5,  3,  6,  2,  6,\n",
       "        8,  6,  4,  3,  2,  6,  7,  4,  3,  6,  2,  1,  5,  6,  4,  3,  6,\n",
       "        6,  2,  2,  8,  3,  3,  5,  5,  4,  4,  4,  7,  5,  2, 10, 12,  7,\n",
       "        6,  5,  2,  2,  8,  3,  3,  6,  3,  2,  5,  1,  7,  6,  7,  7,  6,\n",
       "        4,  4, 10,  3,  0,  2,  2,  5,  7,  6,  7,  3,  6,  7,  5,  5,  3,\n",
       "        2,  6,  5,  1,  2,  3,  3,  2,  5,  4,  4,  8,  5,  3,  3,  3,  5,\n",
       "        2,  7,  5,  6,  4,  5,  6,  8,  6,  3,  8, 10,  3,  9,  5,  4,  2,\n",
       "        6,  1,  2,  8,  8,  8,  3,  4, 11,  5,  7,  3,  5,  4,  5,  4,  7,\n",
       "        3,  3, 10,  6,  3,  9,  4,  2,  7,  4,  8,  7,  4,  7,  8,  7,  6,\n",
       "        9,  6,  7,  1,  2,  3,  5,  4,  3,  3,  4,  1,  4,  3,  7,  5,  3,\n",
       "        4,  6,  8,  4,  5,  3,  7,  2,  6,  3,  9,  7,  4,  5,  4,  3,  6,\n",
       "        2,  1,  8,  7,  3,  5,  4,  5,  7,  5,  6,  1,  8,  5,  3,  2,  3,\n",
       "        4,  6,  4,  5,  7,  5,  3,  6,  9,  4,  6,  3,  8,  5,  6,  7,  7,\n",
       "        2,  3,  6,  6,  5,  2,  4,  4,  4,  3,  5,  4,  8,  5,  2,  5,  4,\n",
       "        4,  6,  3,  3,  7,  5,  6,  7,  5,  3,  8,  3,  5,  9,  5,  7,  2,\n",
       "        3,  5,  6,  6,  3,  7,  9,  3,  6,  2,  8,  8,  8,  4,  2,  7,  1,\n",
       "        7,  3,  4,  7,  5,  6,  2,  4,  6,  4,  4,  7,  7,  6,  4,  7,  7,\n",
       "        5,  6, 10,  4,  6,  5,  6,  5,  2,  6,  4,  5,  6,  2,  9,  4,  4,\n",
       "        4,  6,  9,  2,  6,  6,  9,  4,  5,  7,  3,  6,  5,  4,  9,  5,  9,\n",
       "        3,  7,  3, 10,  5,  8,  2,  7,  7,  6,  0,  7,  2,  8,  4,  6,  7,\n",
       "        6,  5,  7,  9,  7,  3,  6,  3,  4,  8,  6,  5,  3,  4,  4,  3,  6,\n",
       "        5,  4,  6,  7,  2,  5,  5,  4,  2,  4,  5,  5,  6,  6,  6,  1,  5,\n",
       "        1,  4,  4,  4,  3,  6,  6,  3, 12,  2,  6,  5,  4, 11,  9,  2,  8,\n",
       "        3,  0,  9,  3,  8,  7, 10,  4,  7,  9,  2,  7,  4,  7,  7,  6,  4,\n",
       "        7,  4,  3,  3,  6,  5,  9,  2,  3,  6,  6,  6,  5,  5,  2,  1,  2,\n",
       "        5,  6,  3,  6,  4,  3,  5,  5,  6, 10,  4,  3,  3,  4,  3,  2,  5,\n",
       "        3,  8,  3,  9,  4,  4,  5,  3,  4,  4,  5,  2,  5,  2,  3,  4,  4,\n",
       "        3,  2,  4,  6,  5,  3,  2,  2,  5,  8, 10,  5,  5,  6,  7,  4,  5,\n",
       "        7,  4,  7,  3,  7,  6,  6,  4,  7,  2,  5,  6,  6,  2,  1,  6,  1,\n",
       "        3,  1,  7,  4,  1,  6, 12,  5,  4,  4,  4,  6,  5,  5, 11,  7,  5,\n",
       "        5,  5, 15,  5, 10,  3,  3,  2,  2,  7,  9,  3,  9,  7,  5,  5,  5,\n",
       "        9,  8,  9,  6,  4,  8,  2, 10,  6,  2,  4,  0,  8,  3,  5,  3,  1,\n",
       "        3,  3,  3,  7,  4,  5,  5,  6,  4,  3,  8,  5,  3,  6,  4,  3,  5,\n",
       "        2,  7,  7,  2,  4,  4,  1,  0,  2,  4,  8,  2,  9,  6])"
      ]
     },
     "execution_count": 11,
     "metadata": {},
     "output_type": "execute_result"
    }
   ],
   "source": [
    "sample_size = 1000\n",
    "mean = 5\n",
    "sample = np.random.poisson(mean, size=sample_size)\n",
    "sample"
   ]
  },
  {
   "cell_type": "code",
   "execution_count": 12,
   "id": "5a28c47d-2220-4290-990c-fc8d2c316ceb",
   "metadata": {},
   "outputs": [
    {
     "name": "stdout",
     "output_type": "stream",
     "text": [
      "Sample Mean: 4.909\n",
      "Sample Variance: 4.854718999999999\n"
     ]
    }
   ],
   "source": [
    "sample_mean = np.mean(sample)\n",
    "sample_variance = np.var(sample)\n",
    "\n",
    "print(\"Sample Mean:\", sample_mean)\n",
    "print(\"Sample Variance:\", sample_variance)"
   ]
  },
  {
   "cell_type": "markdown",
   "id": "672d1d60-6040-45d1-8b1a-7fe65e4b49b8",
   "metadata": {},
   "source": [
    "## Q9. How mean and variance are related in Binomial distribution and Poisson distribution?"
   ]
  },
  {
   "cell_type": "markdown",
   "id": "5b865d77-1d2e-4075-bcd1-7c0069c6c9be",
   "metadata": {},
   "source": [
    "`Answer`\n",
    "\n",
    "\n",
    "In both the binomial distribution and the Poisson distribution, the mean and variance are related, but the nature of their relationship is different for each distribution.\n",
    "\n",
    "1. Binomial Distribution:<br>\n",
    "In the binomial distribution, the mean (μ) and variance (σ^2) are related as follows:<br>\n",
    "μ = n * p<br>\n",
    "σ^2 = n * p * (1 - p)<br>\n",
    "\n",
    "where:<br>\n",
    "n is the number of trials<br>\n",
    "p is the probability of success in each trial<br>\n",
    "The mean of the binomial distribution is the product of the number of trials (n) and the probability of success (p). The variance of the binomial distribution is the product of the number of trials (n), the probability of success (p), and the probability of failure (1 - p).\n",
    "\n",
    "2. Poisson Distribution:<br>\n",
    "In the Poisson distribution, the mean (μ) and variance (σ^2) are equal and are both equal to the parameter λ (lambda) that represents the average rate of events occurring. Therefore:<br>\n",
    "μ = λ<br>\n",
    "σ^2 = λ<br>\n",
    "\n",
    "In the Poisson distribution, both the mean and the variance are simply equal to the parameter λ.\n",
    "\n",
    "In summary, in the binomial distribution, the mean and variance are related through the number of trials (n) and the probability of success (p), while in the Poisson distribution, the mean and variance are both equal to the parameter λ representing the average rate of events occurring."
   ]
  },
  {
   "cell_type": "markdown",
   "id": "f605d22f-6c42-4da4-8e8d-40a3ee9797e4",
   "metadata": {},
   "source": [
    "## Q10. In normal distribution with respect to mean position, where does the least frequent data appear?"
   ]
  },
  {
   "cell_type": "markdown",
   "id": "1ae0d0a3-b074-4706-a609-9cc18fa1a232",
   "metadata": {},
   "source": [
    "`Answer`\n",
    "\n",
    "in a standard normal distribution (mean = 0 and standard deviation = 1), the least frequent data points appear in the tails beyond a certain number of standard deviations from the mean. The majority of the data falls within approximately 3 standard deviations of the mean, according to the empirical rule (also known as the 68-95-99.7 rule).\n",
    "\n",
    "For example:\n",
    "\n",
    "- Data within 1 standard deviation from the mean accounts for about 68% of the observations.\n",
    "- Data within 2 standard deviations from the mean accounts for about 95% of the observations.\n",
    "- Data within 3 standard deviations from the mean accounts for about 99.7% of the observations."
   ]
  }
 ],
 "metadata": {
  "kernelspec": {
   "display_name": "Python 3 (ipykernel)",
   "language": "python",
   "name": "python3"
  },
  "language_info": {
   "codemirror_mode": {
    "name": "ipython",
    "version": 3
   },
   "file_extension": ".py",
   "mimetype": "text/x-python",
   "name": "python",
   "nbconvert_exporter": "python",
   "pygments_lexer": "ipython3",
   "version": "3.10.8"
  }
 },
 "nbformat": 4,
 "nbformat_minor": 5
}
