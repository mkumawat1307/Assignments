{
 "cells": [
  {
   "cell_type": "markdown",
   "id": "b437052b-90dc-4c4c-b8d4-39c0de275b63",
   "metadata": {},
   "source": [
    "## Q1. What are the three measures of central tendency?"
   ]
  },
  {
   "cell_type": "markdown",
   "id": "42926da7-bf87-45cc-9f14-5743465acf28",
   "metadata": {},
   "source": [
    "`Answer`\n",
    "\n",
    "There are three main measures of central tendency:\n",
    "- mode.\n",
    "- median.\n",
    "- mean."
   ]
  },
  {
   "cell_type": "markdown",
   "id": "e18b90a5-4d99-474c-bd72-47d5581f9b1c",
   "metadata": {},
   "source": [
    "## Q2. What is the difference between the mean, median, and mode? How are they used to measure the central tendency of a dataset?"
   ]
  },
  {
   "cell_type": "markdown",
   "id": "d494eacc-0dd4-4f99-b26f-63a39d31f785",
   "metadata": {},
   "source": [
    "`Answer`\n",
    "\n",
    "- The `mean` is the average where the sum of all the numbers is divided by the total number of numbers, \n",
    "- the `median` is the middle value in the list of given numbers numerically ordered from smallest to biggest \n",
    "- `mode` is the value of the number which occurs most often in the list.\n",
    "\n",
    "These measures help summarize the central tendency of a dataset, but they focus on different aspects. The mean is influenced by all the data points and provides an average value. The median is less affected by extreme values and represents the middle value. The mode focuses on the most frequently occurring value(s) in the dataset."
   ]
  },
  {
   "cell_type": "markdown",
   "id": "c5a18a35-99a0-4223-96c2-c8c61121ffe4",
   "metadata": {},
   "source": [
    "## Q3. Measure the three measures of central tendency for the given height data:\n",
    "[178,177,176,177,178.2,178,175,179,180,175,178.9,176.2,177,172.5,178,176.5]"
   ]
  },
  {
   "cell_type": "code",
   "execution_count": 1,
   "id": "1dad5c93-3cff-4085-9390-feea80be6881",
   "metadata": {},
   "outputs": [
    {
     "data": {
      "text/plain": [
       "177.01875"
      ]
     },
     "execution_count": 1,
     "metadata": {},
     "output_type": "execute_result"
    }
   ],
   "source": [
    "import numpy as np\n",
    "data= [178,177,176,177,178.2,178,175,179,180,175,178.9,176.2,177,172.5,178,176.5]\n",
    "np.mean(data)"
   ]
  },
  {
   "cell_type": "code",
   "execution_count": 2,
   "id": "aa1c924e-12eb-45a2-8819-754c6a1c3daa",
   "metadata": {},
   "outputs": [
    {
     "data": {
      "text/plain": [
       "177.0"
      ]
     },
     "execution_count": 2,
     "metadata": {},
     "output_type": "execute_result"
    }
   ],
   "source": [
    "np.median(data)"
   ]
  },
  {
   "cell_type": "code",
   "execution_count": 7,
   "id": "80d9e6d7-05ab-4e03-a27b-8010b1dbd964",
   "metadata": {},
   "outputs": [
    {
     "name": "stderr",
     "output_type": "stream",
     "text": [
      "/tmp/ipykernel_95/2800027621.py:2: FutureWarning: Unlike other reduction functions (e.g. `skew`, `kurtosis`), the default behavior of `mode` typically preserves the axis it acts along. In SciPy 1.11.0, this behavior will change: the default value of `keepdims` will become False, the `axis` over which the statistic is taken will be eliminated, and the value None will no longer be accepted. Set `keepdims` to True or False to avoid this warning.\n",
      "  stats.mode(data)\n"
     ]
    },
    {
     "data": {
      "text/plain": [
       "ModeResult(mode=array([177.]), count=array([3]))"
      ]
     },
     "execution_count": 7,
     "metadata": {},
     "output_type": "execute_result"
    }
   ],
   "source": [
    "from scipy import stats\n",
    "stats.mode(data)"
   ]
  },
  {
   "cell_type": "markdown",
   "id": "2588419f-6f0a-421a-9a84-696742ece4d4",
   "metadata": {},
   "source": [
    "## Q4. Find the standard deviation for the given data:\n",
    "[178,177,176,177,178.2,178,175,179,180,175,178.9,176.2,177,172.5,178,176.5]"
   ]
  },
  {
   "cell_type": "code",
   "execution_count": 8,
   "id": "1eda21ce-9dee-4f57-b2ba-ece42465798e",
   "metadata": {},
   "outputs": [
    {
     "data": {
      "text/plain": [
       "1.7885814036548633"
      ]
     },
     "execution_count": 8,
     "metadata": {},
     "output_type": "execute_result"
    }
   ],
   "source": [
    "data2= [178,177,176,177,178.2,178,175,179,180,175,178.9,176.2,177,172.5,178,176.5]\n",
    "np.std(data2)"
   ]
  },
  {
   "cell_type": "markdown",
   "id": "cfc110a5-b196-4ea3-ad89-bbefca031d04",
   "metadata": {},
   "source": [
    "## Q5. How are measures of dispersion such as range, variance, and standard deviation used to describe the spread of a dataset? Provide an example."
   ]
  },
  {
   "cell_type": "markdown",
   "id": "a3025372-3415-41a1-a967-38697ad452f6",
   "metadata": {},
   "source": [
    "`Answer`\n",
    "\n",
    "1. Range: The range is the simplest measure of dispersion and represents the difference between the maximum and minimum values in a dataset. It gives a rough estimate of the spread but does not provide detailed information about the distribution. For example, if you have a dataset of exam scores ranging from 60 to 90, the range would be 90 - 60 = 30.\n",
    "\n",
    "2. Variance: Variance is a measure of the average squared deviation from the mean. It provides a more comprehensive understanding of the spread compared to the range. To calculate the variance, you take each data point, subtract the mean, square the result, sum up all the squared differences, and divide by the total count. Variance is denoted by σ² (sigma squared).\n",
    "\n",
    "3. Standard Deviation: The standard deviation is the square root of the variance. It is the most commonly used measure of dispersion as it is in the same unit as the original data. The standard deviation indicates the average amount of deviation or dispersion of data points from the mean. A smaller standard deviation suggests that the data points are closely packed around the mean, while a larger standard deviation indicates a more spread-out distribution. Standard deviation is denoted by σ (sigma).\n",
    "\n",
    "\n",
    "Let's consider an example: Suppose you have a dataset of five test scores: 70, 75, 80, 85, and 90."
   ]
  },
  {
   "cell_type": "code",
   "execution_count": 9,
   "id": "e4de5c37-a3c3-45a3-8164-80b838e55d6f",
   "metadata": {},
   "outputs": [
    {
     "data": {
      "text/plain": [
       "80.0"
      ]
     },
     "execution_count": 9,
     "metadata": {},
     "output_type": "execute_result"
    }
   ],
   "source": [
    "# First, calculate the mean:\n",
    "Mean = (70 + 75 + 80 + 85 + 90) / 5 \n",
    "Mean"
   ]
  },
  {
   "cell_type": "code",
   "execution_count": 13,
   "id": "3e8382a6-efd3-4029-af7e-3498153f389e",
   "metadata": {},
   "outputs": [
    {
     "data": {
      "text/plain": [
       "50.0"
      ]
     },
     "execution_count": 13,
     "metadata": {},
     "output_type": "execute_result"
    }
   ],
   "source": [
    "# Next, calculate the variance:\n",
    "Variance = ((70 - 80)**2 + (75 - 80)**2 + (80 - 80)**2 + (85 - 80)**2 + (90 - 80)**2) / 5\n",
    "Variance"
   ]
  },
  {
   "cell_type": "code",
   "execution_count": 17,
   "id": "f8794845-6173-4c8d-8115-53bbb23d96b3",
   "metadata": {},
   "outputs": [
    {
     "data": {
      "text/plain": [
       "7.0710678118654755"
      ]
     },
     "execution_count": 17,
     "metadata": {},
     "output_type": "execute_result"
    }
   ],
   "source": [
    "# Finally, calculate the standard deviation:\n",
    "import math\n",
    "Standard_Deviation = math.sqrt(50)\n",
    "Standard_Deviation"
   ]
  },
  {
   "cell_type": "markdown",
   "id": "729b11e5-a891-4ba5-aada-6edbb04ab4a6",
   "metadata": {},
   "source": [
    "In this example, the range is 90 - 70 = 20, the variance is 50, and the standard deviation is approximately 7.07. These measures describe the spread of the dataset around the mean."
   ]
  },
  {
   "cell_type": "markdown",
   "id": "2dbb118b-88dd-49d1-9367-834d1f61a41b",
   "metadata": {},
   "source": [
    "## Q6. What is a Venn diagram?"
   ]
  },
  {
   "cell_type": "markdown",
   "id": "b4312aac-4c18-45a8-8253-2a3f91745498",
   "metadata": {},
   "source": [
    "`Answer`\n",
    "\n",
    "A Venn diagram illustrates the relationships between two or more data sets. Venn diagrams are especially useful for highlighting similarities and differences and are commonly used to compare and contrast the characteristics of different data sets. In a Venn diagram, circles are used to represent each data set."
   ]
  },
  {
   "cell_type": "markdown",
   "id": "1ef7c205-df12-4d10-808d-639dc409f557",
   "metadata": {},
   "source": [
    "## Q7. For the two given sets A = (2,3,4,5,6,7) & B = (0,2,6,8,10). Find:\n",
    "(i) A ∩ B<br>\n",
    "(ii) A ⋃ B<br>"
   ]
  },
  {
   "cell_type": "code",
   "execution_count": 19,
   "id": "d2df0026-917e-492a-b080-9ecf2e46a16d",
   "metadata": {},
   "outputs": [
    {
     "data": {
      "text/plain": [
       "{2, 6}"
      ]
     },
     "execution_count": 19,
     "metadata": {},
     "output_type": "execute_result"
    }
   ],
   "source": [
    "A = {2,3,4,5,6,7}\n",
    "B = {0,2,6,8,10}\n",
    "# Intersection (A ∩ B)\n",
    "intersection = A.intersection(B)\n",
    "intersection"
   ]
  },
  {
   "cell_type": "code",
   "execution_count": 21,
   "id": "cc9c3505-3e6d-441c-b989-b7d82471c0f0",
   "metadata": {},
   "outputs": [
    {
     "data": {
      "text/plain": [
       "{0, 2, 3, 4, 5, 6, 7, 8, 10}"
      ]
     },
     "execution_count": 21,
     "metadata": {},
     "output_type": "execute_result"
    }
   ],
   "source": [
    "# Union (A ⋃ B)\n",
    "union = A.union(B)\n",
    "union"
   ]
  },
  {
   "cell_type": "markdown",
   "id": "523cc508-0ecf-4b0f-b47f-afb6b0f9862d",
   "metadata": {},
   "source": [
    "## Q8. What do you understand about skewness in data?"
   ]
  },
  {
   "cell_type": "markdown",
   "id": "660df3aa-9f30-4aee-ae16-96c7a3cb8170",
   "metadata": {},
   "source": [
    "`Answer`\n",
    "\n",
    "1. Positive Skewness (Right Skewness): If the tail of the distribution is skewed to the right, it indicates positive skewness. In other words, the majority of the data is concentrated on the left side of the distribution, and the right tail is longer. The mean is typically greater than the median in positively skewed distributions.\n",
    "\n",
    "2. Negative Skewness (Left Skewness): If the tail of the distribution is skewed to the left, it indicates negative skewness. In this case, the majority of the data is concentrated on the right side of the distribution, and the left tail is longer. The mean is typically less than the median in negatively skewed distributions.\n",
    "\n",
    "3. Zero Skewness (Symmetric Distribution): If the distribution is symmetric, it indicates zero skewness. The data is evenly distributed on both sides of the distribution, and the mean is equal to the median."
   ]
  },
  {
   "cell_type": "markdown",
   "id": "e7d95c8e-9b96-46e6-bed2-7163fcc272c4",
   "metadata": {},
   "source": [
    "## Q9. If a data is right skewed then what will be the position of median with respect to mean?"
   ]
  },
  {
   "cell_type": "markdown",
   "id": "6b830bdb-0d32-4c11-9691-8a5b7cfc2b7f",
   "metadata": {},
   "source": [
    "`Answer`\n",
    "\n",
    "for a right-skewed distribution(positively skewed):\n",
    "\n",
    "- The mean is typically greater than the median.\n",
    "- The median tends to be closer to the lower values, while the mean is influenced by the higher values in the tail."
   ]
  },
  {
   "cell_type": "markdown",
   "id": "18872e38-7d69-4324-af56-184d82e82264",
   "metadata": {},
   "source": [
    "## Q10. Explain the difference between covariance and correlation. How are these measures used in statistical analysis?"
   ]
  },
  {
   "cell_type": "markdown",
   "id": "88fac80b-81c7-4de8-ab0d-4e183b55e3a3",
   "metadata": {},
   "source": [
    "`Answer`\n",
    "\n",
    "1. Covariance: Covariance is an indicator of the extent to which 2 random variables are dependent on each other. A higher number denotes higher dependency.<br>\n",
    "The value of covariance lies in the range of -∞ and +∞.\n",
    "\n",
    "2. Correlation: Correlation is a statistical measure that indicates how strongly two variables are related.<br>\n",
    "Correlation is limited to values between the range -1 and +1\n",
    "\n",
    "In statistical analysis, both covariance and correlation are used to understand the relationship between variables. However, correlation is more commonly used due to its standardized nature and ease of interpretation. It allows for comparisons between different datasets and enables researchers to make more accurate predictions or draw conclusions about the relationship between variables. Covariance, on the other hand, is useful in cases where the scale of the variables is important and when studying the joint variability of two variables."
   ]
  },
  {
   "cell_type": "markdown",
   "id": "26179d89-99c3-43c8-9e3b-0381ed3b24c9",
   "metadata": {},
   "source": [
    "## Q11. What is the formula for calculating the sample mean? Provide an example calculation for a dataset."
   ]
  },
  {
   "cell_type": "markdown",
   "id": "3334358e-edc5-44f0-bff4-d014a2359eba",
   "metadata": {},
   "source": [
    "`Answer`\n",
    "\n",
    "The formula for calculating the sample mean (often denoted as \"x-bar\") is:\n",
    "\n",
    "Sample Mean (x-bar) = (Sum of all values in the dataset) / (Number of values in the dataset)\n",
    "\n",
    "To illustrate with an example, let's consider the following dataset of exam scores: 78, 85, 92, 88, 79.\n",
    "\n",
    "To calculate the sample mean, we add up all the values and divide by the total number of values:\n",
    "\n",
    "Sum of all values = 78 + 85 + 92 + 88 + 79 = 422\n",
    "\n",
    "Number of values = 5\n",
    "\n",
    "Sample Mean (x-bar) = 422 / 5 = 84.4\n",
    "\n",
    "Therefore, the sample mean of the given dataset is 84.4."
   ]
  },
  {
   "cell_type": "markdown",
   "id": "f1d08dfb-8fe2-4583-9fea-0040189fa363",
   "metadata": {},
   "source": [
    "## Q12. For a normal distribution data what is the relationship between its measure of central tendency?"
   ]
  },
  {
   "cell_type": "markdown",
   "id": "1f3a99e4-cae0-4990-bd8c-4c56bca2a2e2",
   "metadata": {},
   "source": [
    "`Answer`\n",
    "\n",
    "For a normal distribution, three common measures of central tendency are used: the mean, median, and mode. In a normal distribution, these measures have the following relationship:\n",
    "\n",
    "1. Mean: The mean of a normal distribution is located at the center of the distribution. It is equal to the median and the mode. Mathematically, the mean is calculated by summing all the data points and dividing by the total number of data points.\n",
    "\n",
    "2. Median: The median of a normal distribution is also located at the center. It is equal to the mean and the mode. The median is the middle value when the data is arranged in ascending or descending order.\n",
    "\n",
    "3. Mode: The mode of a normal distribution is the value that appears most frequently. In a normal distribution, the mode is equal. to the mean and the median since the distribution is symmetric.\n",
    "\n",
    "In summary, for a normal distribution, the mean, median, and mode are all equal and represent the center of the distribution. This is due to the symmetric nature of the normal distribution, where the data is evenly distributed around the mean"
   ]
  },
  {
   "cell_type": "markdown",
   "id": "9410b4e0-006e-4635-9e70-b0e5d0134abb",
   "metadata": {},
   "source": [
    "## Q13. How is covariance different from correlation?"
   ]
  },
  {
   "cell_type": "markdown",
   "id": "150effa7-52d3-4ce1-92f7-3f0172d0c07c",
   "metadata": {},
   "source": [
    "`Answer`\n",
    "\n",
    "Covariance and correlation are two terms that are opposed and are both used in statistics and regression analysis. Covariance shows you how the two variables differ, whereas correlation shows you how the two variables are related"
   ]
  },
  {
   "cell_type": "markdown",
   "id": "859b0524-cfce-42db-bf33-d4014e2b199e",
   "metadata": {},
   "source": [
    "## Q14. How do outliers affect measures of central tendency and dispersion? Provide an example."
   ]
  },
  {
   "cell_type": "markdown",
   "id": "51161b86-17f5-4409-8a74-1600d12d4261",
   "metadata": {},
   "source": [
    "`Answer`\n",
    "\n",
    "1. Central Tendency:-\n",
    "When a outlier is present it can effect the shape of the graph, if we have outliers to the right of the graph. These outliers are causing the mean to increase, but if we have outliers to the left of the graph these outliers are dragging down the mean. This causes a conflict because the mean no longer provides a good representation of the data, alternatively we would much rather use the median. The median on the other hand is less likely to be affect by outliers.\n",
    "\n",
    "    1. Mean: Significant change\n",
    "        - Mean increases with high outlier\n",
    "        - Mean decreases with low outlier\n",
    "    2. Median: Little change\n",
    "    3. Mode: No change\n",
    "\n",
    "2. dispersion:-\n",
    "Variance and Standard Deviation: Both variance and standard deviation measure the spread of the data points around the mean. Outliers can significantly impact these measures, as they introduce large deviations from the mean, resulting in inflated values for variance and standard deviation."
   ]
  }
 ],
 "metadata": {
  "kernelspec": {
   "display_name": "Python 3 (ipykernel)",
   "language": "python",
   "name": "python3"
  },
  "language_info": {
   "codemirror_mode": {
    "name": "ipython",
    "version": 3
   },
   "file_extension": ".py",
   "mimetype": "text/x-python",
   "name": "python",
   "nbconvert_exporter": "python",
   "pygments_lexer": "ipython3",
   "version": "3.10.8"
  }
 },
 "nbformat": 4,
 "nbformat_minor": 5
}
