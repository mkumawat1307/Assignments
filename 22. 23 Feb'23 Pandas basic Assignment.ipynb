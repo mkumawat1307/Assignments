{
 "cells": [
  {
   "cell_type": "markdown",
   "id": "284cdf9a-5723-479b-ad8a-ce8fffa0ce9b",
   "metadata": {},
   "source": [
    "## Q1. Create a Pandas Series that contains the following data: 4, 8, 15, 16, 23, and 42. Then, print the series."
   ]
  },
  {
   "cell_type": "code",
   "execution_count": 4,
   "id": "d28145cf-63ba-4df4-b187-b917ced2463d",
   "metadata": {},
   "outputs": [],
   "source": [
    "import pandas as pd"
   ]
  },
  {
   "cell_type": "code",
   "execution_count": 6,
   "id": "3bda4d02-3c34-461c-a5f9-5ad67b98cd32",
   "metadata": {},
   "outputs": [
    {
     "name": "stdout",
     "output_type": "stream",
     "text": [
      "0     4\n",
      "1     8\n",
      "2    15\n",
      "3    16\n",
      "4    23\n",
      "5    24\n",
      "dtype: int64\n"
     ]
    }
   ],
   "source": [
    "data = [4,8,15,16,23,24]\n",
    "ser = pd.Series(data)\n",
    "print(ser)"
   ]
  },
  {
   "cell_type": "markdown",
   "id": "d922f544-7ead-492b-bf17-1d488fca11cf",
   "metadata": {},
   "source": [
    "## Q2. Create a variable of list type containing 10 elements in it, and apply pandas.Series function on the variable print it."
   ]
  },
  {
   "cell_type": "code",
   "execution_count": 8,
   "id": "8841a3c9-e14a-4b4a-b729-2fb98a402a8b",
   "metadata": {},
   "outputs": [
    {
     "name": "stdout",
     "output_type": "stream",
     "text": [
      "0     1\n",
      "1     2\n",
      "2     3\n",
      "3     4\n",
      "4     5\n",
      "5     6\n",
      "6     7\n",
      "7     8\n",
      "8     9\n",
      "9    10\n",
      "dtype: int64\n"
     ]
    }
   ],
   "source": [
    "my_list = [1, 2, 3, 4, 5, 6, 7, 8, 9, 10]\n",
    "ser2 = pd.Series(my_list)\n",
    "print(ser2)"
   ]
  },
  {
   "cell_type": "markdown",
   "id": "5c2ca02a-8532-43fb-8b04-a5e08bd88860",
   "metadata": {
    "tags": []
   },
   "source": [
    "## Q3. Create a Pandas DataFrame that contains the following data:\n",
    "\n",
    " `Name`    `age`       `Gender`\n",
    " \n",
    "  alice . . .    25  .   .   . female\n",
    "  \n",
    "  bob . . .    30  .   .   . male\n",
    "  \n",
    "  Claire . . .    27  .   .   . female\n",
    "  \n",
    "### Then, print the DataFrame.  "
   ]
  },
  {
   "cell_type": "code",
   "execution_count": 26,
   "id": "d918c16b-4f5a-40bd-b3f4-f9ddd77c203a",
   "metadata": {},
   "outputs": [
    {
     "name": "stdout",
     "output_type": "stream",
     "text": [
      "     Name  Age  Gender\n",
      "0   alice   25  Female\n",
      "1     bob   30     Mae\n",
      "2  claire   27  Female\n"
     ]
    }
   ],
   "source": [
    "data2 = {\n",
    "    'Name':['alice', 'bob', 'claire'],\n",
    "    'Age':[25,30,27],\n",
    "    'Gender':['Female', 'Mae', 'Female']\n",
    "}\n",
    "\n",
    "df = pd.DataFrame(data2)\n",
    "print(df)"
   ]
  },
  {
   "cell_type": "markdown",
   "id": "10d2833b-b032-4f7b-b17f-e06847fda13f",
   "metadata": {},
   "source": [
    "## Q4. What is ‘DataFrame’ in pandas and how is it different from pandas.series? Explain with an example."
   ]
  },
  {
   "cell_type": "markdown",
   "id": "f84eb7b7-7511-4bf9-bf82-6c54e252a684",
   "metadata": {},
   "source": [
    "`Answer`\n",
    "\n",
    "In Pandas, a DataFrame is a two-dimensional labeled data structure that represents a tabular data object. It is similar to a table in a relational database or a spreadsheet in Excel. A DataFrame consists of rows and columns, where each column can contain different data types (e.g., integers, floats, strings). It is a highly versatile data structure that provides functionalities for data manipulation, analysis, and cleaning.\n",
    "\n",
    "On the other hand, a Pandas Series is a one-dimensional labeled array capable of holding data of any type. It is similar to a column in a DataFrame or a single column from a spreadsheet. Each element in a Series has a unique label called an index. Series can contain homogeneous data types, such as integers or strings.\n",
    "\n",
    "Here's an example to illustrate the difference between a DataFrame and a Series:"
   ]
  },
  {
   "cell_type": "code",
   "execution_count": 29,
   "id": "6ca51e82-6c30-4de5-82bb-e692dc631a87",
   "metadata": {},
   "outputs": [
    {
     "name": "stdout",
     "output_type": "stream",
     "text": [
      "     Name  Age  Gender\n",
      "0   Alice   25  Female\n",
      "1     Bob   30    Male\n",
      "2  Claire   27  Female\n"
     ]
    }
   ],
   "source": [
    "data = {'Name': ['Alice', 'Bob', 'Claire'],\n",
    "        'Age': [25, 30, 27],\n",
    "        'Gender': ['Female', 'Male', 'Female']}\n",
    "df = pd.DataFrame(data)\n",
    "print(df)"
   ]
  },
  {
   "cell_type": "markdown",
   "id": "dd8fc1ec-037c-4ac5-8b15-af4f7731a956",
   "metadata": {},
   "source": [
    "In this example, we create a DataFrame df by passing a Python dictionary data to the pd.DataFrame() function. The dictionary contains three key-value pairs, where each key represents a column name and the corresponding value represents the data for that column. The DataFrame has three columns ('Name', 'Age', 'Gender') and three rows.\n",
    "\n",
    "Now, let's create a Series using one of the columns from the DataFrame:"
   ]
  },
  {
   "cell_type": "code",
   "execution_count": 28,
   "id": "34654f83-829c-4642-94d3-3d5be80b4a26",
   "metadata": {},
   "outputs": [
    {
     "name": "stdout",
     "output_type": "stream",
     "text": [
      "0    25\n",
      "1    30\n",
      "2    27\n",
      "Name: Age, dtype: int64\n"
     ]
    }
   ],
   "source": [
    "series = df['Age']\n",
    "print(series)"
   ]
  },
  {
   "cell_type": "markdown",
   "id": "35333610-af79-4ad6-a6ec-63b29db3934a",
   "metadata": {},
   "source": [
    "a DataFrame is a two-dimensional tabular data structure with labeled columns, while a Series is a one-dimensional labeled array representing a single column from a DataFrame."
   ]
  },
  {
   "cell_type": "markdown",
   "id": "2a22e234-08b0-438b-804a-0256b78315d3",
   "metadata": {},
   "source": [
    "## Q5. What are some common functions you can use to manipulate data in a Pandas DataFrame? Can you give an example of when you might use one of these functions?"
   ]
  },
  {
   "cell_type": "markdown",
   "id": "189954a2-9566-4901-8ddc-76bed335ed3f",
   "metadata": {},
   "source": [
    "`Answer`\n",
    "\n",
    "1. `head()` and `tail()`: These functions allow you to view the first few rows (head()) or the last few rows (tail()) of a DataFrame. They are useful for quickly inspecting the data.\n",
    "\n",
    "2. `info()`: This function provides a summary of the DataFrame, including the column names, data types, and non-null values. It helps to understand the structure and composition of the data.\n",
    "\n",
    "3. `describe()`: This function generates descriptive statistics of the DataFrame, such as count, mean, standard deviation, minimum, maximum, and quartiles, for each numerical column. It provides a summary of the distribution of the data.\n",
    "\n",
    "4. `unique(), nunique(), and value_counts()`: These functions are used to explore unique values and their counts within a column. unique() returns an array of unique values, nunique() returns the number of unique values, and value_counts() returns a count of each unique value.\n",
    "\n",
    "5. `sort_values()`: This function sorts the DataFrame by one or more columns. It is useful for ordering the data based on specific criteria, such as sorting by a numerical column or sorting alphabetically by a string column.\n",
    "\n",
    "6. `groupby()`: This function is used for grouping the data based on one or more columns. It allows you to perform aggregate functions on specific groups, such as calculating the sum, mean, or count of a particular column within each group.\n",
    "\n",
    "7. `drop()`: This function is used to remove columns or rows from the DataFrame. It allows you to drop unwanted data that is not relevant for your analysis.\n",
    "\n",
    "8. `fillna()`: This function is used to fill missing or NaN (null) values in the DataFrame with a specified value or a calculated value, such as the mean or median of the column.\n",
    "\n",
    "9. `apply()`: This function applies a custom function to each element or column in the DataFrame. It is useful for performing element-wise operations or transforming data based on specific logic."
   ]
  },
  {
   "cell_type": "code",
   "execution_count": 30,
   "id": "c969d652-f206-444c-9c93-4455b758df3a",
   "metadata": {},
   "outputs": [
    {
     "name": "stdout",
     "output_type": "stream",
     "text": [
      "  Product  Price  Quantity  Revenue\n",
      "0       A  10.99        20   219.80\n",
      "1       B   5.99        15    89.85\n",
      "2       C   7.50        30   225.00\n"
     ]
    }
   ],
   "source": [
    "data = {'Product': ['A', 'B', 'C'],\n",
    "        'Price': [10.99, 5.99, 7.5],\n",
    "        'Quantity': [20, 15, 30]}\n",
    "\n",
    "df = pd.DataFrame(data)\n",
    "\n",
    "def calculate_revenue(row):\n",
    "    return row['Price'] * row['Quantity']\n",
    "\n",
    "df['Revenue'] = df.apply(calculate_revenue, axis=1)\n",
    "print(df)\n"
   ]
  },
  {
   "cell_type": "markdown",
   "id": "cea8674b-c39d-457d-a223-152ff8f18bbc",
   "metadata": {},
   "source": [
    "## Q6. Which of the following is mutable in nature Series, DataFrame, Panel?"
   ]
  },
  {
   "cell_type": "markdown",
   "id": "587c74b2-7c92-4efa-a4fb-f446930214c3",
   "metadata": {},
   "source": [
    "`Answer`\n",
    "\n",
    "1. `Mutable`: DataFrame, Panel\n",
    "2. `Immutable`: Series"
   ]
  },
  {
   "cell_type": "markdown",
   "id": "12053616-d7f7-40d8-8bb1-c1658a3eeeae",
   "metadata": {},
   "source": [
    "## Q7. Create a DataFrame using multiple Series. Explain with an example."
   ]
  },
  {
   "cell_type": "code",
   "execution_count": 31,
   "id": "25fae105-50d4-42cd-96a8-7ed00337e35e",
   "metadata": {},
   "outputs": [
    {
     "name": "stdout",
     "output_type": "stream",
     "text": [
      "     Name  Age  Gender\n",
      "0   Alice   25  female\n",
      "1     Bob   30    male\n",
      "2  Claire   27  female\n"
     ]
    }
   ],
   "source": [
    "name = pd.Series(['Alice', 'Bob', 'Claire'])\n",
    "age = pd.Series([25, 30, 27])\n",
    "gender = pd.Series(['female', 'male', 'female'])\n",
    "\n",
    "# Creating DataFrame using Series\n",
    "data = {'Name': name, 'Age': age, 'Gender': gender}\n",
    "df = pd.DataFrame(data)\n",
    "\n",
    "print(df)\n"
   ]
  },
  {
   "cell_type": "code",
   "execution_count": null,
   "id": "194676aa-2920-4e20-a2e3-6969765082f3",
   "metadata": {},
   "outputs": [],
   "source": []
  },
  {
   "cell_type": "code",
   "execution_count": null,
   "id": "37a1eb60-1e70-4d95-96db-509c7643f49f",
   "metadata": {},
   "outputs": [],
   "source": []
  }
 ],
 "metadata": {
  "kernelspec": {
   "display_name": "Python 3 (ipykernel)",
   "language": "python",
   "name": "python3"
  },
  "language_info": {
   "codemirror_mode": {
    "name": "ipython",
    "version": 3
   },
   "file_extension": ".py",
   "mimetype": "text/x-python",
   "name": "python",
   "nbconvert_exporter": "python",
   "pygments_lexer": "ipython3",
   "version": "3.10.8"
  }
 },
 "nbformat": 4,
 "nbformat_minor": 5
}
