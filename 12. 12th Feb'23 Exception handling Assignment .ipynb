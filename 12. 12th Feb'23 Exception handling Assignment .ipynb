{
 "cells": [
  {
   "cell_type": "markdown",
   "id": "9279540d",
   "metadata": {},
   "source": [
    "## Q1. What ia an Exception in python? Write the difference between Exceptions and Syntax errors. "
   ]
  },
  {
   "cell_type": "markdown",
   "id": "0f8d8a57",
   "metadata": {},
   "source": [
    "`Answer`\n",
    "\n",
    "`Exceptions:` Exceptions are raised when the program is syntactically correct, but the code results in an error. This error does not stop the execution of the program, however, it changes the normal flow of the program.\n",
    "\n",
    "`Syntax Error:` As the name suggests this error is caused by the wrong syntax in the code. It leads to the termination of the program. "
   ]
  },
  {
   "cell_type": "markdown",
   "id": "090cc45a",
   "metadata": {},
   "source": [
    "## Q2. What happens when an exception is not handled? Explain with an example."
   ]
  },
  {
   "cell_type": "markdown",
   "id": "07f16cc5",
   "metadata": {},
   "source": [
    "`Answer`\n",
    "\n",
    "If an exception is not caught (with a catch block), the runtime system will abort the program (i.e. crash) and an exception message will print to the console"
   ]
  },
  {
   "cell_type": "code",
   "execution_count": 2,
   "id": "a5b5e984",
   "metadata": {},
   "outputs": [
    {
     "ename": "ZeroDivisionError",
     "evalue": "division by zero",
     "output_type": "error",
     "traceback": [
      "\u001b[1;31m---------------------------------------------------------------------------\u001b[0m",
      "\u001b[1;31mZeroDivisionError\u001b[0m                         Traceback (most recent call last)",
      "Cell \u001b[1;32mIn[2], line 5\u001b[0m\n\u001b[0;32m      2\u001b[0m marks \u001b[38;5;241m=\u001b[39m \u001b[38;5;241m10000\u001b[39m\n\u001b[0;32m      4\u001b[0m \u001b[38;5;66;03m# perform division with 0\u001b[39;00m\n\u001b[1;32m----> 5\u001b[0m a \u001b[38;5;241m=\u001b[39m \u001b[43mmarks\u001b[49m\u001b[43m \u001b[49m\u001b[38;5;241;43m/\u001b[39;49m\u001b[43m \u001b[49m\u001b[38;5;241;43m0\u001b[39;49m\n\u001b[0;32m      6\u001b[0m \u001b[38;5;28mprint\u001b[39m(a)\n",
      "\u001b[1;31mZeroDivisionError\u001b[0m: division by zero"
     ]
    }
   ],
   "source": [
    "# initialize the amount variable\n",
    "marks = 10000\n",
    "\n",
    "# perform division with 0\n",
    "a = marks / 0\n",
    "print(a)\n"
   ]
  },
  {
   "cell_type": "markdown",
   "id": "ca61b2c1",
   "metadata": {},
   "source": [
    "In the above example raised the ZeroDivisionError as we are trying to divide a number by 0."
   ]
  },
  {
   "cell_type": "markdown",
   "id": "20b0dba3",
   "metadata": {},
   "source": [
    "## Q3. Which Python statements are used to catch and handle exceptions? Explain with an example."
   ]
  },
  {
   "cell_type": "markdown",
   "id": "e95f2268",
   "metadata": {},
   "source": [
    "`Answer`\n",
    "\n",
    "`The try and except Block:` Handling Exceptions. The try and except block in Python is used to catch and handle exceptions. Python executes code following the try statement as a “normal” part of the program. The code that follows the except statement is the program's response to any exceptions in the preceding try clause "
   ]
  },
  {
   "cell_type": "code",
   "execution_count": 3,
   "id": "95ea8194",
   "metadata": {},
   "outputs": [
    {
     "name": "stdout",
     "output_type": "stream",
     "text": [
      "Error: cannot add an int and a str\n"
     ]
    }
   ],
   "source": [
    "x = 5\n",
    "y = \"hello\"\n",
    "try:\n",
    "\tz = x + y\n",
    "except TypeError:\n",
    "\tprint(\"Error: cannot add an int and a str\")\n"
   ]
  },
  {
   "cell_type": "markdown",
   "id": "bc4423f2",
   "metadata": {},
   "source": [
    "## Q4. Explain with an example:\n",
    "\n",
    "1. try and else\n",
    "2. finally\n",
    "3. raise"
   ]
  },
  {
   "cell_type": "markdown",
   "id": "006e3f0b",
   "metadata": {},
   "source": [
    "`Answer`\n",
    "\n",
    "`Try with Else Clause:`In Python, you can also use the else clause on the try-except block which must be present after all the except clauses. The code enters the else block only if the try clause does not raise an exception."
   ]
  },
  {
   "cell_type": "code",
   "execution_count": 4,
   "id": "e7c6d649",
   "metadata": {},
   "outputs": [
    {
     "name": "stdout",
     "output_type": "stream",
     "text": [
      "-5.0\n",
      "a/b result in 0\n"
     ]
    }
   ],
   "source": [
    "# Function which returns a/b\n",
    "def AbyB(a , b):\n",
    "\ttry:\n",
    "\t\tc = ((a+b) / (a-b))\n",
    "\texcept ZeroDivisionError:\n",
    "\t\tprint (\"a/b result in 0\")\n",
    "\telse:\n",
    "\t\tprint (c)\n",
    "\n",
    "# Driver program to test above function\n",
    "AbyB(2.0, 3.0)\n",
    "AbyB(3.0, 3.0)\n"
   ]
  },
  {
   "cell_type": "markdown",
   "id": "4954a9ed",
   "metadata": {},
   "source": [
    "`Finally`\n",
    "\n",
    "Python provides a keyword finally, which is always executed after the try and except blocks. The final block always executes after the normal termination of the try block or after the try block terminates due to some exception.\n",
    "\n",
    "`Syntax:`\n",
    "\n",
    "try:\n",
    "\n",
    "    #Some Code.... \n",
    "\n",
    "except:\n",
    "\n",
    "    #optional block\n",
    "    \n",
    "    #Handling of exception (if required)\n",
    "\n",
    "else:\n",
    "\n",
    "    #execute if no exception\n",
    "\n",
    "finally:\n",
    "\n",
    "    #Some code .....(always executed)"
   ]
  },
  {
   "cell_type": "code",
   "execution_count": 5,
   "id": "afbf1f3a",
   "metadata": {},
   "outputs": [
    {
     "name": "stdout",
     "output_type": "stream",
     "text": [
      "Can't divide by zero\n",
      "This is always executed\n"
     ]
    }
   ],
   "source": [
    "# No exception Exception raised in try block\n",
    "try:\n",
    "\tk = 5//0 # raises divide by zero exception.\n",
    "\tprint(k)\n",
    "\n",
    "# handles zerodivision exception\n",
    "except ZeroDivisionError:\n",
    "\tprint(\"Can't divide by zero\")\n",
    "\n",
    "finally:\n",
    "\t# this block is always executed\n",
    "\t# regardless of exception generation.\n",
    "\tprint('This is always executed')\n"
   ]
  },
  {
   "cell_type": "markdown",
   "id": "657d6419",
   "metadata": {},
   "source": [
    "`raise`\n",
    "\n",
    "The raise statement allows the programmer to force a specific exception to occur. The sole argument in raise indicates the exception to be raised. This must be either an exception instance or an exception class (a class that derives from Exception)."
   ]
  },
  {
   "cell_type": "code",
   "execution_count": 9,
   "id": "b151ce6a",
   "metadata": {},
   "outputs": [
    {
     "ename": "Exception",
     "evalue": "Sorry, no numbers below zero",
     "output_type": "error",
     "traceback": [
      "\u001b[1;31m---------------------------------------------------------------------------\u001b[0m",
      "\u001b[1;31mException\u001b[0m                                 Traceback (most recent call last)",
      "Cell \u001b[1;32mIn[9], line 4\u001b[0m\n\u001b[0;32m      1\u001b[0m x \u001b[38;5;241m=\u001b[39m \u001b[38;5;241m-\u001b[39m\u001b[38;5;241m1\u001b[39m\n\u001b[0;32m      3\u001b[0m \u001b[38;5;28;01mif\u001b[39;00m x \u001b[38;5;241m<\u001b[39m \u001b[38;5;241m0\u001b[39m:\n\u001b[1;32m----> 4\u001b[0m   \u001b[38;5;28;01mraise\u001b[39;00m \u001b[38;5;167;01mException\u001b[39;00m(\u001b[38;5;124m\"\u001b[39m\u001b[38;5;124mSorry, no numbers below zero\u001b[39m\u001b[38;5;124m\"\u001b[39m)\n",
      "\u001b[1;31mException\u001b[0m: Sorry, no numbers below zero"
     ]
    }
   ],
   "source": [
    "x = -1\n",
    "\n",
    "if x < 0:\n",
    "  raise Exception(\"Sorry, no numbers below zero\")"
   ]
  },
  {
   "cell_type": "markdown",
   "id": "3ec8f120",
   "metadata": {},
   "source": [
    "## Q5. What are Custom Exceptions in python? Why do we need Custom Exceptions?  Explain with an example"
   ]
  },
  {
   "cell_type": "markdown",
   "id": "09c77296",
   "metadata": {},
   "source": [
    "`Answer`\n",
    "\n",
    "Python has many built-in exceptions with it, apart from these built-in list python has the capability to provide custom exceptions to the users. These custom exceptions are named as user-defined exceptions. Here the user-defined exceptions can be built defined by using a class declared for it.\n",
    "\n",
    "Sometimes based on project requirement, a programmer needs to create his own exceptions and raise explicitly for corresponding scenarios. Such types of exceptions are called customized Exceptions or Programmatic Exceptions. We can raise a custom exception by using the keyword ‘raise’.\n",
    "\n"
   ]
  },
  {
   "cell_type": "code",
   "execution_count": 15,
   "id": "5838b58b",
   "metadata": {},
   "outputs": [
    {
     "name": "stdout",
     "output_type": "stream",
     "text": [
      "Raise an Exception\n",
      "Exception Raised\n"
     ]
    }
   ],
   "source": [
    "class JustException(Exception):\n",
    "    def __init__(self, message):\n",
    "        print(message)\n",
    "\n",
    "try:\n",
    "    raise JustException(\"Raise an Exception\")\n",
    "except Exception as e:\n",
    "    print(\"Exception Raised\")"
   ]
  },
  {
   "cell_type": "markdown",
   "id": "328046f6",
   "metadata": {},
   "source": [
    "## Q6. Create a custom exception class. Use this class to handle an exception "
   ]
  },
  {
   "cell_type": "code",
   "execution_count": 13,
   "id": "a8a0ebaf",
   "metadata": {},
   "outputs": [
    {
     "name": "stdout",
     "output_type": "stream",
     "text": [
      "Enter a number between positive integer: -9\n",
      "You provided -9. Please provide positive integer values only\n"
     ]
    }
   ],
   "source": [
    "class NegativeError(Exception):\n",
    "    def __init__(self, data):\n",
    "        self.data = data\n",
    "\n",
    "try:\n",
    "    x = int(input(\"Enter a number between positive integer: \"))\n",
    "    if x < 0:\n",
    "        raise NegativeError(x)\n",
    "except NegativeError as e:\n",
    "    print(\"You provided {}. Please provide positive integer values only\".format(e))"
   ]
  }
 ],
 "metadata": {
  "kernelspec": {
   "display_name": "Python 3 (ipykernel)",
   "language": "python",
   "name": "python3"
  },
  "language_info": {
   "codemirror_mode": {
    "name": "ipython",
    "version": 3
   },
   "file_extension": ".py",
   "mimetype": "text/x-python",
   "name": "python",
   "nbconvert_exporter": "python",
   "pygments_lexer": "ipython3",
   "version": "3.10.9"
  }
 },
 "nbformat": 4,
 "nbformat_minor": 5
}
