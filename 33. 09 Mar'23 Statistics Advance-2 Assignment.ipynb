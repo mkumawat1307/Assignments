{
 "cells": [
  {
   "cell_type": "markdown",
   "id": "f4a6ff3f-f0a4-49fb-a747-4eff5a531bbb",
   "metadata": {},
   "source": [
    "## Q1: What are the Probability Mass Function (PMF) and Probability Density Function (PDF)? Explain with an example."
   ]
  },
  {
   "cell_type": "markdown",
   "id": "f5ba3735-78ed-4328-98d9-d3ab9ba57275",
   "metadata": {},
   "source": [
    "`Answer`\n",
    "\n",
    "1. Probability Mass Function (PMF):\n",
    "The PMF is used for discrete random variables, which take on a countable set of distinct values. It gives the probability that the random variable takes on a specific value. The PMF is defined as:\n",
    "\n",
    "PMF(x) = P(X = x)\n",
    "\n",
    "where X is the random variable and x is a specific value that X can take. The PMF must satisfy two properties: non-negativity and the sum of probabilities must equal 1 over all possible values of X. In other words, for every value of x, PMF(x) ≥ 0, and the sum of PMF(x) over all values of x is 1.\n",
    "\n",
    "`Example:`\n",
    "Let's consider a fair six-sided die. The random variable X represents the outcome of a single roll. The PMF for this random variable would be:\n",
    "\n",
    "PMF(x) = 1/6 for x = 1, 2, 3, 4, 5, 6\n",
    "\n",
    "This means that the probability of getting any specific value (1, 2, 3, 4, 5, or 6) is 1/6, assuming the die is fair.\n",
    "\n",
    "2. Probability Density Function (PDF):\n",
    "The PDF is used for continuous random variables, which take on an uncountable range of values. Unlike the PMF, the PDF does not give the probability directly but represents the relative likelihood of the random variable falling within a specific interval. The PDF is defined as:\n",
    "\n",
    "PDF(x) = dF(x)/dx\n",
    "\n",
    "where F(x) is the cumulative distribution function (CDF) of the random variable X, and dF(x)/dx denotes the derivative of the CDF.\n",
    "\n",
    "The area under the PDF curve over a specific interval represents the probability of the random variable falling within that interval. However, the probability of getting an exact value from a continuous random variable is always zero, since the range of possible values is uncountable.\n",
    "\n",
    "`Example:`\n",
    "Let's consider a continuous random variable X that follows a standard normal distribution (mean = 0, standard deviation = 1). The PDF for this random variable is given by the famous bell-shaped curve equation:\n",
    "\n",
    "PDF(x) = (1/√(2π)) * e^(-x^2/2)\n",
    "\n",
    "This equation describes the shape of the normal distribution curve. It represents the relative likelihood of X falling within a specific range of values. To find the probability of X falling within a particular interval, you need to integrate the PDF over that interval. For example, to find the probability of X being between -1 and 1, you would integrate the PDF from -1 to 1:\n",
    "\n",
    "P(-1 ≤ X ≤ 1) = ∫[-1,1] PDF(x) dx"
   ]
  },
  {
   "cell_type": "markdown",
   "id": "3ef2f66c-aeb4-461b-82be-2d39b295583a",
   "metadata": {},
   "source": [
    "## Q2: What is Cumulative Density Function (CDF)? Explain with an example. Why CDF is used?"
   ]
  },
  {
   "cell_type": "markdown",
   "id": "ae5e90d2-96cc-4fd3-bd54-78eb25452060",
   "metadata": {},
   "source": [
    "`Answer`\n",
    "\n",
    "The Cumulative Density Function (CDF) is a mathematical function that provides the cumulative probability distribution for a random variable. It gives the probability that the random variable takes on a value less than or equal to a given value.\n",
    "\n",
    "The CDF is defined as:\n",
    "\n",
    "CDF(x) = P(X ≤ x)\n",
    "\n",
    "where X is the random variable and x is a specific value.\n",
    "\n",
    "`Example:`\n",
    "Let's consider a fair six-sided die. The random variable X represents the outcome of a single roll. The CDF for this random variable would be:\n",
    "\n",
    "CDF(x) = P(X ≤ x)\n",
    "\n",
    "For this example, since each outcome has an equal probability of 1/6, the CDF can be calculated as follows:\n",
    "\n",
    "CDF(x) = 0 for x < 1\n",
    "CDF(x) = 1/6 for 1 ≤ x < 2\n",
    "CDF(x) = 2/6 for 2 ≤ x < 3\n",
    "CDF(x) = 3/6 for 3 ≤ x < 4\n",
    "CDF(x) = 4/6 for 4 ≤ x < 5\n",
    "CDF(x) = 5/6 for 5 ≤ x < 6\n",
    "CDF(x) = 1 for x ≥ 6\n",
    "\n",
    "This means that, for example, the probability of rolling a number less than or equal to 3 on the die is 3/6 or 1/2. Similarly, the probability of rolling a number less than or equal to 5 is 5/6.\n",
    "\n",
    "The CDF is particularly useful in statistics and probability theory because it allows us to calculate various probabilities and perform statistical analyses. It provides a way to compare and analyze different random variables and distributions, determine percentiles, and estimate probabilities for specific events or ranges of values."
   ]
  },
  {
   "cell_type": "markdown",
   "id": "abbc27c0-712c-40fa-93a4-444f2b71ca75",
   "metadata": {},
   "source": [
    "## Q3: What are some examples of situations where the normal distribution might be used as a model? Explain how the parameters of the normal distribution relate to the shape of the distribution."
   ]
  },
  {
   "cell_type": "markdown",
   "id": "82c6567e-3f6a-4f77-bfdb-dd3104cc30c8",
   "metadata": {},
   "source": [
    "`Answer`\n",
    "\n",
    "The normal distribution, also known as the Gaussian distribution or bell curve, is commonly used as a model in various fields due to its mathematical properties and its applicability to many real-world scenarios. Here are some examples of situations where the normal distribution might be used as a model:\n",
    "\n",
    "1. Heights and Weights: The heights and weights of a large population tend to follow a normal distribution, with most individuals clustered around the mean value. The normal distribution allows us to describe the typical height or weight and estimate the likelihood of observing extreme values.\n",
    "\n",
    "2. Measurement Errors: In experimental or observational studies, measurement errors often occur due to various factors. Assuming that these errors are normally distributed allows us to model and analyze the data effectively, enabling us to estimate the true values and quantify uncertainties.\n",
    "\n",
    "3. IQ Scores: Intelligence Quotient (IQ) scores are often assumed to follow a normal distribution with a mean of 100 and a standard deviation of 15. This assumption allows for easy interpretation and comparison of IQ scores within a population.\n",
    "\n",
    "4. Financial Data: Many financial variables, such as stock returns or asset prices, are often modeled using the normal distribution. Although actual financial data might not perfectly follow a normal distribution, the assumption is made due to its simplicity and practicality for certain applications.\n",
    "\n",
    "The parameters of the normal distribution, namely the mean (μ) and the standard deviation (σ), play a crucial role in determining the shape and characteristics of the distribution:\n",
    "\n",
    "1. Mean (μ): The mean represents the central location or average value of the distribution. It determines the location of the peak of the bell curve. Shifting the mean to the right or left changes the central tendency of the distribution.\n",
    "\n",
    "2. Standard Deviation (σ): The standard deviation measures the dispersion or spread of the data points around the mean. A smaller standard deviation results in a narrower bell curve, indicating less variability in the data. Conversely, a larger standard deviation leads to a wider bell curve, reflecting more dispersion in the data."
   ]
  },
  {
   "cell_type": "markdown",
   "id": "77a95572-e0c2-46f4-b977-9a9c466633fc",
   "metadata": {},
   "source": [
    "## Q4: Explain the importance of Normal Distribution. Give a few real-life examples of Normal Distribution."
   ]
  },
  {
   "cell_type": "markdown",
   "id": "eba62f9e-a5fb-4878-a934-47c3a4454f02",
   "metadata": {},
   "source": [
    "`Answer`\n",
    "\n",
    "The normal distribution is of great importance in statistics and probability theory due to its numerous applications and mathematical properties. Here are some reasons why the normal distribution is significant:\n",
    "\n",
    "1. Commonly Occurring Phenomena: Many real-life phenomena naturally follow a normal distribution. This distribution arises when multiple independent factors contribute to the observed outcome, as described by the Central Limit Theorem. Hence, understanding and modeling the normal distribution allows us to analyze and make predictions about various natural processes.\n",
    "\n",
    "2. Simplicity and Ease of Use: The normal distribution is mathematically well-defined and relatively easy to work with. Its shape is determined by just two parameters: the mean and the standard deviation. This simplicity enables researchers and practitioners to apply statistical methods and perform calculations efficiently.\n",
    "\n",
    "3. Statistical Inference: The normal distribution plays a vital role in statistical inference. Many statistical techniques and tests, such as hypothesis testing, confidence intervals, and regression analysis, rely on the assumption of normality. These methods often assume that the underlying data or errors follow a normal distribution to make valid statistical inferences.\n",
    "\n",
    "4. Estimation and Prediction: The normal distribution allows for reliable estimation and prediction. With knowledge of the mean and standard deviation, one can calculate probabilities, percentiles, and confidence intervals. This information is valuable for making informed decisions and forecasting future outcomes.\n",
    "\n",
    "Real-life examples of phenomena that can be modeled using the normal distribution include:\n",
    "\n",
    "a. Exam Scores: In a large population, exam scores often approximate a normal distribution. This allows educators to evaluate students' performance, set grading standards, and identify exceptional or struggling students.\n",
    "\n",
    "b. Physical Measurements: Human attributes like height, weight, and blood pressure often exhibit a normal distribution within a given population. This distribution helps medical professionals establish norms, diagnose conditions, and track health trends.\n",
    "\n",
    "c. IQ Scores: Intelligence quotient (IQ) scores are designed to follow a normal distribution. This allows for comparisons and classifications of intellectual ability within a population.\n",
    "\n",
    "d. Stock Market Returns: Daily stock market returns tend to exhibit a roughly normal distribution. Financial analysts use this assumption to model risk, calculate probabilities of price movements, and develop investment strategies.\n",
    "\n",
    "e. Errors in Measurement: Measurement errors in various fields, such as scientific experiments, engineering, and quality control, are often assumed to follow a normal distribution. This assumption enables researchers to estimate true values, determine confidence intervals, and evaluate the reliability of measurements.\n",
    "\n",
    "Understanding the normal distribution and its application in real-life situations empowers researchers, statisticians, and decision-makers to make accurate predictions, draw meaningful conclusions, and make informed choices based on probability and statistical analysis."
   ]
  },
  {
   "cell_type": "markdown",
   "id": "f5e42d51-711e-40f3-a480-4d2448765cd7",
   "metadata": {},
   "source": [
    "## Q5: What is Bernaulli Distribution? Give an Example. What is the difference between Bernoulli Distribution and Binomial Distribution?"
   ]
  },
  {
   "cell_type": "markdown",
   "id": "f02ebc53-8a85-431b-bb62-7e551d00ac41",
   "metadata": {},
   "source": [
    "`Answer`\n",
    "\n",
    "`Bernoulli distribution:`\n",
    "The Bernoulli distribution is a discrete probability distribution that models a random experiment with two possible outcomes: success (usually denoted by 1) and failure (usually denoted by 0). It is named after Jacob Bernoulli, a Swiss mathematician who introduced the concept.\n",
    "\n",
    "The Bernoulli distribution is characterized by a single parameter, p, which represents the probability of success in a single trial. The probability mass function (PMF) of the Bernoulli distribution is defined as:\n",
    "\n",
    "P(X = x) = p^x * (1-p)^(1-x)\n",
    "\n",
    "where X is the random variable representing the outcome of the experiment (either 0 or 1), and x can take on the values 0 or 1.\n",
    "\n",
    "Example:\n",
    "\n",
    "Let's consider a coin flip as an example. If we define success as getting heads and failure as getting tails, we can model this experiment using a Bernoulli distribution. Assuming the coin is fair, the probability of heads (success) is 0.5, and the probability of tails (failure) is also 0.5. Hence, the PMF of the Bernoulli distribution for this coin flip experiment is:\n",
    "\n",
    "P(X = 0) = 0.5^0 * (1-0.5)^(1-0) = 0.5\n",
    "P(X = 1) = 0.5^1 * (1-0.5)^(1-1) = 0.5\n",
    "\n",
    "`Difference between Bernoulli Distribution and Binomial Distribution:`\n",
    "\n",
    "1. Number of Trials: The Bernoulli distribution models a single trial or experiment with two possible outcomes (success or failure). In contrast, the Binomial distribution models the number of successes in a fixed number of independent Bernoulli trials.\n",
    "\n",
    "2. Parameters: The Bernoulli distribution has a single parameter, p, which represents the probability of success in a single trial. The Binomial distribution has two parameters: n, representing the number of trials, and p, representing the probability of success in each trial.\n",
    "\n",
    "3. Probability Mass Function: The PMF of the Bernoulli distribution only calculates the probabilities for a single trial outcome (either 0 or 1). The PMF of the Binomial distribution calculates the probabilities for different numbers of successes (0, 1, 2, ..., n) in a fixed number of trials.\n",
    "\n",
    "4. Notation: The Bernoulli distribution is often denoted as B(p), where p represents the probability of success. The Binomial distribution is denoted as B(n, p), where n represents the number of trials and p represents the probability of success in each trial.\n",
    "\n",
    "In summary, the Bernoulli distribution models a single trial with two outcomes, while the Binomial distribution models the number of successes in a fixed number of independent Bernoulli trials. The Bernoulli distribution is a special case of the Binomial distribution when the number of trials is 1."
   ]
  },
  {
   "cell_type": "markdown",
   "id": "2a1d6a87-9c7f-49fe-8666-8b9319de5bd1",
   "metadata": {},
   "source": [
    "## Q6. Consider a dataset with a mean of 50 and a standard deviation of 10. If we assume that the dataset is normally distributed, what is the probability that a randomly selected observation will be greater than 60? Use the appropriate formula and show your calculations."
   ]
  },
  {
   "cell_type": "markdown",
   "id": "d0503649-05a4-41f3-896d-5b09b8fb374e",
   "metadata": {},
   "source": [
    "`Answer`\n",
    "\n",
    "To find the probability that a randomly selected observation from a normally distributed dataset will be greater than 60, we need to use the properties of the normal distribution and standardize the value using z-scores.\n",
    "\n",
    "The formula for calculating the z-score is:\n",
    "\n",
    "z = (x - μ) / σ\n",
    "\n",
    "where:<br>\n",
    "z is the z-score,<br>\n",
    "x is the value of the observation,<br>\n",
    "μ is the mean of the dataset, and<br>\n",
    "σ is the standard deviation of the dataset.<br>\n",
    "\n",
    "In this case, we have:<br>\n",
    "x = 60,<br>\n",
    "μ = 50, and<br>\n",
    "σ = 10.<br>\n",
    "\n",
    "Calculating the z-score:\n",
    "\n",
    "z = (60 - 50) / 10<br>\n",
    "z = 1\n",
    "\n",
    "Now, we need to find the probability associated with a z-score of 1 using a standard normal distribution table or a statistical calculator.\n",
    "\n",
    "The probability that a randomly selected observation will be greater than 60 can be calculated as the area under the standard normal curve to the right of the z-score of 1.\n",
    "\n",
    "P(X > 60) = 1 - P(X ≤ 60)\n",
    "\n",
    "Using a standard normal distribution table, we can look up the probability corresponding to a z-score of 1. The table provides the probability of being less than or equal to a given z-score, so we subtract that probability from 1 to obtain the probability of being greater than the z-score.\n",
    "\n",
    "From the standard normal distribution table, the probability corresponding to a z-score of 1 is approximately 0.8413.\n",
    "\n",
    "P(X > 60) = 1 - 0.8413<br>\n",
    "P(X > 60) ≈ 0.1587<br>\n",
    "\n",
    "Therefore, the probability that a randomly selected observation from the given dataset will be greater than 60 is approximately 0.1587 or 15.87%."
   ]
  },
  {
   "cell_type": "markdown",
   "id": "605ee2ca-1ea2-458d-b62d-c68cec4a7b00",
   "metadata": {},
   "source": [
    "## Q7: Explain uniform Distribution with an example."
   ]
  },
  {
   "cell_type": "markdown",
   "id": "a319fe7b-6ae0-4e7a-87c4-24300d1206f4",
   "metadata": {},
   "source": [
    "`Answer`\n",
    "\n",
    "The uniform distribution is a continuous probability distribution that represents a situation where all values within a given range are equally likely to occur. In other words, it assumes a constant probability density throughout the interval.\n",
    "\n",
    "The probability density function (PDF) of a uniform distribution is defined as:\n",
    "\n",
    "f(x) = 1 / (b - a)\n",
    "\n",
    "where 'a' and 'b' are the lower and upper bounds of the interval, respectively.\n",
    "\n",
    "`Example:`\n",
    "Let's consider a simple example to illustrate the uniform distribution. Suppose you have a spinner with equal divisions numbered from 1 to 10. Each number has an equal probability of being selected when you spin the spinner.\n",
    "\n",
    "In this case, the uniform distribution can be used to model the random variable representing the outcome of spinning the spinner. The range of possible outcomes is from 1 to 10, so 'a' would be 1, and 'b' would be 10.\n",
    "\n",
    "The PDF of the uniform distribution for this example is:\n",
    "\n",
    "f(x) = 1 / (10 - 1) = 1/9\n",
    "\n",
    "This means that each number on the spinner has a probability density of 1/9. All numbers within the range of 1 to 10 have an equal likelihood of being selected.\n",
    "\n",
    "The cumulative distribution function (CDF) of the uniform distribution is a linear function that increases uniformly from 0 to 1 over the interval. For this example, the CDF would be:\n",
    "\n",
    "F(x) = (x - a) / (b - a)\n",
    "\n",
    "where F(x) is the CDF and 'x' is a value within the range of 1 to 10."
   ]
  },
  {
   "cell_type": "markdown",
   "id": "eb386e1f-6a28-4d77-a0ab-ba601843c9ca",
   "metadata": {},
   "source": [
    "## Q8: What is the z score? State the importance of the z score."
   ]
  },
  {
   "cell_type": "markdown",
   "id": "47588dbf-3f57-4008-bb45-231b5c9e239c",
   "metadata": {},
   "source": [
    "`Answer`\n",
    "\n",
    "The z-score, also known as the standard score, is a statistical measure that quantifies how many standard deviations a particular data point or observation is away from the mean of a dataset. It is a way to standardize and compare values from different datasets or variables.\n",
    "\n",
    "The formula to calculate the z-score for a given data point 'x' in a dataset with mean 'μ' and standard deviation 'σ' is:\n",
    "\n",
    "z = (x - μ) / σ\n",
    "\n",
    "The importance of the z-score lies in its ability to provide valuable insights and comparisons in statistical analysis:\n",
    "\n",
    "1. Standardization: The z-score standardizes data by transforming it into a common scale with a mean of 0 and a standard deviation of 1. This allows for meaningful comparisons between different variables or datasets that may have different units or scales.\n",
    "\n",
    "2. Outlier Detection: By examining the z-scores, extreme values (outliers) can be easily identified. Observations with z-scores that fall outside a certain range (typically greater than 2 or 3) can be considered unusual or anomalous, warranting further investigation.\n",
    "\n",
    "3. Probability Calculation: The z-score can be used to calculate probabilities and percentiles in a normal distribution. By referring to a standard normal distribution table or using statistical software, one can determine the probability of obtaining a value less than, greater than, or between certain z-scores. This is particularly useful for hypothesis testing and confidence interval estimation.\n",
    "\n",
    "4. Comparison and Ranking: The z-score enables the comparison of data points from different distributions or variables. By comparing their z-scores, we can determine which data point is relatively higher or lower compared to others within their respective datasets.\n",
    "\n",
    "5. Data Transformation: The z-score can be used to transform a dataset into a standard normal distribution by subtracting the mean and dividing by the standard deviation. This transformation can be beneficial in some statistical techniques, such as regression analysis or data normalization."
   ]
  },
  {
   "cell_type": "markdown",
   "id": "a81e3be1-9b2b-4ae9-ae72-d0025bc80f71",
   "metadata": {},
   "source": [
    "## Q9: What is Central Limit Theorem? State the significance of the Central Limit Theorem."
   ]
  },
  {
   "cell_type": "markdown",
   "id": "9c5e4031-50ae-4282-aea1-d96e8dc4cd79",
   "metadata": {},
   "source": [
    "`Answer`\n",
    "\n",
    "The Central Limit Theorem (CLT) is a fundamental concept in statistics that states that, under certain conditions, the sum or average of a large number of independent and identically distributed random variables will tend to follow a normal distribution, regardless of the shape of the original distribution.\n",
    "\n",
    "The significance of the Central Limit Theorem lies in its wide-ranging implications and applications in statistical analysis:\n",
    "\n",
    "1. Sampling: The CLT allows researchers to make reliable inferences about a population by sampling from it. It states that as the sample size increases, the distribution of sample means or sums will approach a normal distribution. This allows for the estimation of population parameters, such as the mean or proportion, based on the properties of the sample.\n",
    "\n",
    "2. Statistical Inference: The CLT is the foundation for many statistical techniques, such as hypothesis testing and confidence interval estimation. It provides the basis for constructing test statistics, calculating p-values, and determining the confidence intervals for population parameters.\n",
    "\n",
    "3. Robustness to Population Distribution: The CLT enables the use of parametric statistical methods, such as t-tests and ANOVA, even when the population distribution is not normal. As long as the sample size is sufficiently large, the sampling distribution will approximate a normal distribution, allowing for valid statistical inferences.\n",
    "\n",
    "4. Approximations and Simulations: The CLT allows for approximating the distribution of complex statistics or functions by using the normal distribution. This simplifies calculations and enables the use of standard statistical techniques. Additionally, the CLT underpins the use of simulation methods, such as Monte Carlo simulations, by generating random samples from known distributions and combining them.\n",
    "\n",
    "5. Predictive Modeling: The CLT is relevant in predictive modeling and forecasting. It helps in understanding the behavior and distribution of prediction errors, making it possible to estimate confidence intervals and quantify uncertainty in predictions.\n",
    "\n",
    "6. Quality Control and Process Monitoring: The CLT is utilized in quality control and process monitoring to assess whether a process is operating within acceptable limits. By monitoring the distribution of sample means or sums over time, deviations from the expected behavior can be detected, allowing for corrective actions."
   ]
  },
  {
   "cell_type": "markdown",
   "id": "d785f228-05e1-4bdc-9168-7cda36f8bd32",
   "metadata": {},
   "source": [
    "## Q10: State the assumptions of the Central Limit Theorem."
   ]
  },
  {
   "cell_type": "markdown",
   "id": "4026eb1a-f779-4a27-9de0-4a08969c4928",
   "metadata": {},
   "source": [
    "`Answer`\n",
    "\n",
    "The Central Limit Theorem (CLT) is a powerful statistical concept, but it relies on certain assumptions to hold true. The specific assumptions of the Central Limit Theorem are as follows:\n",
    "\n",
    "1. Independence: The random variables being summed or averaged are assumed to be independent. This means that the outcome of one variable does not affect the outcome of another. Independence is crucial for the CLT to apply.\n",
    "\n",
    "2. Identically Distributed: The random variables are assumed to be identically distributed, meaning they have the same probability distribution. This assumption ensures that each variable contributes equally to the overall sum or average.\n",
    "\n",
    "3. Finite Variance: The random variables must have finite variance. Variance is a measure of the spread or variability of a distribution. Having finite variance ensures that the sum or average of the variables does not become too extreme or divergent.\n",
    "\n",
    "4. Sample Size: The Central Limit Theorem states that as the sample size increases, the distribution of the sample mean or sum approaches a normal distribution. The CLT does not specify an exact threshold for the sample size, but a common guideline is that the sample size should be at least 30.\n",
    "\n",
    "It's important to note that violating any of these assumptions may lead to the failure of the Central Limit Theorem. In such cases, alternative statistical methods or modifications of the CLT may be required.\n",
    "\n",
    "It is worth mentioning that there are variations and extensions of the Central Limit Theorem that relax some of these assumptions, such as the Lyapunov CLT and the Lindeberg–Lévy CLT. These variations allow for more flexibility in terms of the types of random variables and the nature of their distribution, but they still require certain conditions to hold for valid application."
   ]
  }
 ],
 "metadata": {
  "kernelspec": {
   "display_name": "Python 3 (ipykernel)",
   "language": "python",
   "name": "python3"
  },
  "language_info": {
   "codemirror_mode": {
    "name": "ipython",
    "version": 3
   },
   "file_extension": ".py",
   "mimetype": "text/x-python",
   "name": "python",
   "nbconvert_exporter": "python",
   "pygments_lexer": "ipython3",
   "version": "3.10.8"
  }
 },
 "nbformat": 4,
 "nbformat_minor": 5
}
